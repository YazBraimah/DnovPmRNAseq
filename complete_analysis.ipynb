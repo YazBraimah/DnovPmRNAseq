{
 "cells": [
  {
   "cell_type": "markdown",
   "metadata": {},
   "source": [
    "# RNAseq analysis of _D. novameixcana_ females after con- and heterospecific mating"
   ]
  },
  {
   "cell_type": "markdown",
   "metadata": {},
   "source": [
    "## Introduction"
   ]
  },
  {
   "cell_type": "markdown",
   "metadata": {},
   "source": [
    "The data files used in this analysis were generated within a Snakemake workflow. Breifly, RNAseq reads were generated from _D. novamexicana_ female samples (heads, ovaries, reproductive tracts, and gonadecotmized abdomen + thorax) that were either from mated females or virgin females. In addition, male _D. novamexicana_ RNAseq reads from a previous study were included in the analysis. \n",
    "\n",
    "First, reads were mapped to the virilis genome (dvir1.06) with HISAT and abundance estimates were derived. Second, the transcriptome structure produced by the genome mapping was utilized in making a canonical genome-based transcriptome that was also queried for abundance with eXpress. Finally, mapped and unmapped reads were used to generate a genome-guided transcriptome assembly and a _de novo_ transcriptome assembly, respectively, using Trinity. Transcripts from both Trinity runs were merged and abundance estimates for the samples were obtained using eXpress. \n",
    "\n",
    "The Trinity transcriptome was used to generate a Trinotate annotation. A similar annotation for the genome-based transcriptome was available from a previous study (Ahmed-Braimah _et al._ 2017). The workflow for these analyses is illustrated below."
   ]
  },
  {
   "cell_type": "markdown",
   "metadata": {},
   "source": [
    "<img src=\"Misc/workflow.png\" alt=\"Drawing\" style=\"width: 1500px;\"/>"
   ]
  },
  {
   "cell_type": "markdown",
   "metadata": {},
   "source": [
    "#### Packages and functions:"
   ]
  },
  {
   "cell_type": "markdown",
   "metadata": {},
   "source": [
    "The analysis below relies on several R packages and custom functions that are used for plotting and extracting gene-level annotation info. First load the packages:"
   ]
  },
  {
   "cell_type": "code",
   "execution_count": 1,
   "metadata": {
    "collapsed": true
   },
   "outputs": [],
   "source": [
    "req_packages = c(\"Biobase\", \"cluster\", \"cowplot\", \"cummeRbund\", \n",
    "                 \"data.table\", \"DESeq\", \"edgeR\", \"ggplot2\", \"ggpubr\", \n",
    "                 \"ggrepel\", \"ggthemes\", \"ggthemr\", \"Glimma\", \n",
    "                 \"GO.db\", \"goseq\", \"gplots\", \"grid\", \"gridExtra\", \"lattice\", \n",
    "                 \"heatmap3\", \"imager\", \"pheatmap\", \"plotly\", \"qvalue\", \"RColorBrewer\", \n",
    "                 \"reshape\", \"Rmisc\", \"splitstackshape\", \"statmod\", \"stringr\", \"tidyverse\",\n",
    "                 \"wesanderson\", \"VennDiagram\", \"viridis\")\n",
    "\n",
    "invisible(suppressWarnings(suppressMessages(lapply(req_packages, require, character.only = TRUE))))\n",
    "\n",
    "# The Cowplot package changes the default themes of ggplot2. Set the bw theme with larger font sizes like so:\n",
    "theme_set(theme_bw(base_size = 16))\n"
   ]
  },
  {
   "cell_type": "markdown",
   "metadata": {},
   "source": [
    "... and the custom functions are in a file:"
   ]
  },
  {
   "cell_type": "code",
   "execution_count": 2,
   "metadata": {
    "collapsed": true
   },
   "outputs": [],
   "source": [
    "source(\"Functions.R\")"
   ]
  },
  {
   "cell_type": "markdown",
   "metadata": {},
   "source": [
    "Suppres excessive VennDiagram's log files:"
   ]
  },
  {
   "cell_type": "code",
   "execution_count": 3,
   "metadata": {
    "collapsed": true
   },
   "outputs": [],
   "source": [
    "invisible(futile.logger::flog.threshold(futile.logger::ERROR, name = \"VennDiagramLogger\"))"
   ]
  },
  {
   "cell_type": "markdown",
   "metadata": {},
   "source": [
    "There are auxiliary files that need to be created from the raw input files. These processes are executed through a shell script, that we can run like so:"
   ]
  },
  {
   "cell_type": "code",
   "execution_count": 4,
   "metadata": {
    "collapsed": true
   },
   "outputs": [],
   "source": [
    "# system('./Misc/initial_file_modifications.sh')"
   ]
  },
  {
   "cell_type": "markdown",
   "metadata": {
    "collapsed": true
   },
   "source": [
    "#### Annotation files:"
   ]
  },
  {
   "cell_type": "markdown",
   "metadata": {},
   "source": [
    "A Trinotate report and accompanying Gene Ontology assignments were produced for the genome-based transcriptome and the Trinity transcriptome. Load those here:"
   ]
  },
  {
   "cell_type": "code",
   "execution_count": 5,
   "metadata": {
    "collapsed": true
   },
   "outputs": [],
   "source": [
    "trinotate_annotated = read.csv(\"Trinotate/Annotated/Trinotate_report_dvir1.06_subset.txt\", header = T, sep = \"\\t\", na.strings = \"\", stringsAsFactors=FALSE)\n",
    "\n",
    "trinotate_pasa = read.csv(\"Trinotate/PASA/Trinotate_report_with_description_column.xls\", header = T, sep = \"\\t\", na.strings = \"\", stringsAsFactors=FALSE)"
   ]
  },
  {
   "cell_type": "markdown",
   "metadata": {},
   "source": [
    "From these reports we also extracted the Gene Ontology (GO) assignments for each gene whenever possible:"
   ]
  },
  {
   "cell_type": "code",
   "execution_count": 6,
   "metadata": {
    "collapsed": true
   },
   "outputs": [],
   "source": [
    "GOinfo_annotated = read.table(\"Trinotate/Annotated/Trinotate_report_dvir1.06_gene_ontology.txt\", header=F, row.names=1,stringsAsFactors=F)\n",
    "\n",
    "GOinfo_pasa = read.table(\"Trinotate/PASA/Trinotate_report.xls.gene_ontology\", header=F, row.names=1,stringsAsFactors=F)"
   ]
  },
  {
   "cell_type": "markdown",
   "metadata": {},
   "source": [
    "For the genome data the gene IDs were FlyBase gene names (FBgn..), and we have a file that matches their gene names and coordinates:"
   ]
  },
  {
   "cell_type": "code",
   "execution_count": 7,
   "metadata": {
    "collapsed": true
   },
   "outputs": [],
   "source": [
    "dv1.06_features = read.table(\"Annotations/Genome-based/FBgn_ID_name_coordinates.txt\", header = T)"
   ]
  },
  {
   "cell_type": "markdown",
   "metadata": {},
   "source": [
    "From FlyBase we have information on orthology to _D. melanogaster_:"
   ]
  },
  {
   "cell_type": "code",
   "execution_count": 8,
   "metadata": {
    "collapsed": true
   },
   "outputs": [],
   "source": [
    "melOrths = read.table(file = \"Annotations/Genome-based/mel_orths.txt\", header = T)\n",
    "melOrthsAll = aggregate(mel_GeneSymbol~FBgn_ID, data = melOrths, toString)"
   ]
  },
  {
   "cell_type": "markdown",
   "metadata": {},
   "source": [
    "We created a features table for the StringTie assembled transcripts:"
   ]
  },
  {
   "cell_type": "code",
   "execution_count": 9,
   "metadata": {
    "collapsed": true
   },
   "outputs": [],
   "source": [
    "gene.features = read.csv(\"StringTie/features.txt\", sep = \"\\t\")"
   ]
  },
  {
   "cell_type": "markdown",
   "metadata": {},
   "source": [
    "We'll need the gene-to-transcript mapping for the annotated transcripts:"
   ]
  },
  {
   "cell_type": "code",
   "execution_count": 10,
   "metadata": {
    "collapsed": true
   },
   "outputs": [],
   "source": [
    "FBgn_to_FBtr = read.csv(\"gffread_annotated_transcriptome/gffread_annotated_transcripts.gene_trans_map\", header = F, sep = \"\\t\")\n",
    "colnames(FBgn_to_FBtr) = c(\"FBgn_ID\", \"FBtr_ID\")"
   ]
  },
  {
   "cell_type": "markdown",
   "metadata": {},
   "source": [
    "For the edgeR DGE object, we can add annotation features for easy querying. We'll just need to do this for the Pasa data here:"
   ]
  },
  {
   "cell_type": "code",
   "execution_count": 11,
   "metadata": {
    "collapsed": true
   },
   "outputs": [],
   "source": [
    "tTrinotate.sub = unique(subset(trinotate_pasa, select = c(\"gene_id\", \"dvir1.06.BLASTX\", \"sprot_Top_BLASTX_hit_description\")))\n",
    "\n",
    "gene_to_transcript_to_ref = unique(subset(gene.features, select=c(\"gene_id\", \"transcript_id\", \"ref_gene_id\")))\n",
    "\n",
    "all.features = merge(dv1.06_features, gene_to_transcript_to_ref, by.x = \"FBgn_ID\", by.y = \"ref_gene_id\", all = T)\n",
    "\n",
    "tTrinotate.sub.all = merge(all.features, tTrinotate.sub, by.x = \"transcript_id\", by.y = \"dvir1.06.BLASTX\", all = T)\n",
    "\n",
    "tTrinotate.sub.all = unique(subset(tTrinotate.sub.all, select=c(\"gene_id.y\", \"gene_id.x\", \"gene_name\", \"FBgn_ID\", \"chromosome\", \"min\", \"max\", \"sprot_Top_BLASTX_hit_description\")))\n",
    "\n",
    "tTrinotate.sub.all = subset(tTrinotate.sub.all, !is.na(gene_id.y))\n",
    "\n",
    "tTrinotate.sub.some = unique(subset(tTrinotate.sub.all, select = c(\"gene_id.y\", \"gene_id.x\", \"gene_name\", \"sprot_Top_BLASTX_hit_description\")))"
   ]
  },
  {
   "cell_type": "markdown",
   "metadata": {},
   "source": [
    "Finally, from our previous study (Ahmed-Braimah _et al._ 2017), we'll load the male-biased genes:"
   ]
  },
  {
   "cell_type": "code",
   "execution_count": 12,
   "metadata": {
    "collapsed": true
   },
   "outputs": [],
   "source": [
    "male_tissue.biased_gene_factors = read.csv(\"Annotations/Genome-based/male-tissue.biased-gene-factors.txt\", header = T, sep = \"\\t\")\n",
    "SFPs = filter(male_tissue.biased_gene_factors, status == \"SFP\")$FBgn_ID\n",
    "AG_biased = filter(male_tissue.biased_gene_factors, status == \"AG-biased\")$FBgn_ID\n",
    "EB_biased = filter(male_tissue.biased_gene_factors, status == \"EB-biased\")$FBgn_ID\n",
    "TS_biased = filter(male_tissue.biased_gene_factors, status == \"TS-biased\")$FBgn_ID"
   ]
  },
  {
   "cell_type": "markdown",
   "metadata": {},
   "source": [
    "#### Expression files"
   ]
  },
  {
   "cell_type": "markdown",
   "metadata": {},
   "source": [
    "There are two raw count matrices derived from each of the mapping/abundance steps described above. We'll load each of these:"
   ]
  },
  {
   "cell_type": "code",
   "execution_count": 13,
   "metadata": {
    "collapsed": true
   },
   "outputs": [],
   "source": [
    "counts_bt2.fbgn = read.table(\"Genome/annotated_eXpress/annotated.gene.counts.matrix\", header=T, row.names=1, com='', check.names=F)\n",
    "counts_bt2.pasa = read.table(\"Trinity/pasa/eXpress/pasa.gene.counts.matrix\", header=T, row.names=1, com='', check.names=F)"
   ]
  },
  {
   "cell_type": "markdown",
   "metadata": {},
   "source": [
    "For each the counts generated by eXpress there're normalized expression matrices in TPM units (we'll have to normalize the counts derived from HISAT2). Load those:"
   ]
  },
  {
   "cell_type": "code",
   "execution_count": 14,
   "metadata": {
    "collapsed": true
   },
   "outputs": [],
   "source": [
    "tpm_bt2.fbgn = read.table(\"Genome/annotated_eXpress/annotated.gene.TMM.EXPR.matrix\", header=T, row.names=1, com='', check.names=F)\n",
    "tpm_bt2.pasa = read.table(\"Trinity/pasa/eXpress/pasa.gene.TMM.EXPR.matrix\", header=T, row.names=1, com='', check.names=F)"
   ]
  },
  {
   "cell_type": "markdown",
   "metadata": {},
   "source": [
    "We'll need the Trinity gene lengths:"
   ]
  },
  {
   "cell_type": "code",
   "execution_count": 15,
   "metadata": {
    "collapsed": true
   },
   "outputs": [],
   "source": [
    "pasa_trans_lengths = read.table(\"Trinity/pasa/bt2_reference/pasa_transcript_lengths.txt\", header = T)\n",
    "\n",
    "pasa_trans_map = read.table(\"Trinity/pasa/bt2_reference/compreh_init_build.geneToTrans_mapping\", header = F)\n",
    "\n",
    "pasa_gene_lengths = as.data.table(subset(merge(pasa_trans_lengths, pasa_trans_map, by.x = \"transcript_id\", by.y = \"V2\"), select = c(\"length\", \"V1\")))\n",
    "colnames(pasa_gene_lengths) = c(\"length\", \"gene_id\")\n",
    "pasa_gene_lengths = as.data.frame(pasa_gene_lengths[pasa_gene_lengths[, .I[which.max(length)], by=gene_id]$V1])\n",
    "rownames(pasa_gene_lengths) <- pasa_gene_lengths$gene_id\n",
    "pasa_gene_lengths = subset(pasa_gene_lengths, select = \"length\")"
   ]
  },
  {
   "cell_type": "markdown",
   "metadata": {},
   "source": [
    "Also load the annotated gene lengths, which we've saved from a previous study:"
   ]
  },
  {
   "cell_type": "code",
   "execution_count": 16,
   "metadata": {
    "collapsed": true
   },
   "outputs": [],
   "source": [
    "a.gene_lengths = read.table(\"Annotations/Genome-based/FBgn_lengths.txt\", header=T, row.names=1)"
   ]
  },
  {
   "cell_type": "markdown",
   "metadata": {},
   "source": [
    "#### Miscellaneous files:"
   ]
  },
  {
   "cell_type": "markdown",
   "metadata": {},
   "source": [
    "For the differential expression analysis we will need the sample-to-replicate mapping and any additional sample information:"
   ]
  },
  {
   "cell_type": "code",
   "execution_count": 17,
   "metadata": {
    "collapsed": true
   },
   "outputs": [],
   "source": [
    "sampleData = read.table(\"Misc/samples.txt\", header=F, check.names=F, fill=T)\n",
    "sampleData = sampleData[sampleData[,2] != '',]"
   ]
  },
  {
   "cell_type": "markdown",
   "metadata": {},
   "source": [
    "From the above we can produce a detailed sample information object:"
   ]
  },
  {
   "cell_type": "code",
   "execution_count": 18,
   "metadata": {
    "collapsed": true
   },
   "outputs": [],
   "source": [
    "sampleInfo = sampleData\n",
    "colnames(sampleInfo) = c(\"SampleName\", \"Replicate\")\n",
    "\n",
    "sampleInfo$Sex = ifelse(grepl(\"Female\",sampleInfo$SampleName), \"female\", \"male\")\n",
    "\n",
    "sampleInfo$Tissue = ifelse(grepl(\"RT\",sampleInfo$Replicate), \"repTract\", ifelse(grepl(\"_H_\",sampleInfo$Replicate), \"head\", ifelse(grepl(\"_OV_\",sampleInfo$Replicate), \"ovaries\", ifelse(grepl(\"_CR_\",sampleInfo$Replicate), \"carcass\", ifelse(grepl(\"AG\",sampleInfo$Replicate), \"acGlnds\", ifelse(grepl(\"EB\",sampleInfo$Replicate), \"ejBulb\", \"testes\"))))))\n",
    "\n",
    "sampleInfo$Status = ifelse(grepl(\"Female_C\", sampleInfo$Replicate) | grepl(\"Male\", sampleInfo$Replicate), \"conspecific\", ifelse(grepl(\"Female_V\", sampleInfo$Replicate), \"virgin\", \"heterospecific\"))\n",
    "\n",
    "sampleInfo$Time = ifelse(grepl(\"Female_V\", sampleInfo$SampleName), \"virgin\", ifelse(grepl(\"3\", sampleInfo$SampleName), \"3hpm\", ifelse(grepl(\"6\",sampleInfo$SampleName), \"6hpm\", ifelse(grepl(\"12\",sampleInfo$SampleName), \"12hpm\", \"24hpm\"))))"
   ]
  },
  {
   "cell_type": "markdown",
   "metadata": {},
   "source": [
    "Because we're using both the genome- and trinity-based expression data, it would be convenient to compare the results between both analyses. For that we made a BLAST file between transcripts of both strategies (header line added manually). We also made perform a recirpocal BLAST search between the two transcript sets. We'l load those here:"
   ]
  },
  {
   "cell_type": "code",
   "execution_count": 19,
   "metadata": {
    "collapsed": true,
    "scrolled": true
   },
   "outputs": [],
   "source": [
    "pasa_v_annotated_blast = read.table(\"Misc/BLASTn.pasa_vs_annotated.outfmt6\", header = T, sep = \"\\t\")\n",
    "pasa_v_genome_blast = read.table(\"Misc/BLASTn.pasa_vs_genome.outfmt6.txt\", header = T, sep = \"\\t\")\n",
    "pasa_v_genome_blast_sub = read.table(\"Misc/BLASTn.pasa_vs_genome.outfmt6_one_to_one.txt\", header = F, sep = \"\\t\")\n",
    "pasa_v_genome_rbh = read.table(\"Misc/dvir1.06_v_pasa.RBH.tsv\", header = T, sep = \"\\t\")"
   ]
  },
  {
   "cell_type": "markdown",
   "metadata": {},
   "source": [
    "We also have useful population genetic data from a previous study that we can use later on:"
   ]
  },
  {
   "cell_type": "code",
   "execution_count": 20,
   "metadata": {
    "collapsed": true
   },
   "outputs": [],
   "source": [
    "paml.data = read.csv(file = \"Annotations/Genome-based/PAML.branchSite.ALL.results.txt\", header = T, sep = \"\\t\")\n",
    "KaKs.data = read.csv(file = \"Annotations/Genome-based/KaKs.ALL.results.txt\", header = T, sep = \"\\t\", check.names = F)"
   ]
  },
  {
   "cell_type": "markdown",
   "metadata": {},
   "source": [
    "We also generated a new set, which includes _D. montana_ as an outgroup (we ran the RT data and AG data separately):"
   ]
  },
  {
   "cell_type": "code",
   "execution_count": 21,
   "metadata": {
    "collapsed": true
   },
   "outputs": [],
   "source": [
    "RT_paml.data = read.csv(\"Results/PopGen/ANLVM.paml.brSt.RT_results_mod.txt\", header = T, sep = \"\\t\")\n",
    "RT_paml.data = tidyr::spread(RT_paml.data, Sample, lnL)\n",
    "\n",
    "RT_paml.omega.data = read.csv(\"Results/PopGen/ANLVM.paml.omega.RT_results_mod.txt\", header = T, sep = \"\\t\")\n",
    "colnames(RT_paml.omega.data) = c(\"FBtr_ID\", \"omega\")\n",
    "\n",
    "RT_paml.data = merge(RT_paml.data, RT_paml.omega.data, by.x = \"FBtr_ID\", by.y = \"FBtr_ID\", all = T)\n",
    "rm(RT_paml.omega.data)\n",
    "\n",
    "RT_KaKs.data = read.csv(file = \"Results/PopGen/ANLVM.pairwise.KaKs.RT_results.txt\", header = T, sep = \"\\t\", check.names = F)"
   ]
  },
  {
   "cell_type": "code",
   "execution_count": 22,
   "metadata": {
    "collapsed": true
   },
   "outputs": [],
   "source": [
    "AG_paml.data = read.csv(\"Results/PopGen/ANLVM.paml.brSt.AG_results_mod.txt\", header = T, sep = \"\\t\")\n",
    "AG_paml.data = tidyr::spread(AG_paml.data, Sample, lnL)\n",
    "\n",
    "AG_paml.omega.data = read.csv(\"Results/PopGen/ANLVM.paml.omega.AG_results_mod.txt\", header = T, sep = \"\\t\")\n",
    "colnames(AG_paml.omega.data) = c(\"FBtr_ID\", \"omega\")\n",
    "\n",
    "AG_paml.data = merge(AG_paml.data, AG_paml.omega.data, by.x = \"FBtr_ID\", by.y = \"FBtr_ID\", all = T)\n",
    "rm(AG_paml.omega.data)\n",
    "\n",
    "AG_KaKs.data = read.csv(file = \"Results/PopGen/ANLVM.pairwise.KaKs.AG_results.txt\", header = T, sep = \"\\t\", check.names = F)"
   ]
  },
  {
   "cell_type": "markdown",
   "metadata": {},
   "source": [
    "We'll calculate the LRT for this new PAML dataset:"
   ]
  },
  {
   "cell_type": "code",
   "execution_count": 23,
   "metadata": {
    "collapsed": true
   },
   "outputs": [],
   "source": [
    "#### Calaculate LRT, pValues and FDR for RT_paml data\n",
    "RT_paml.data$Damr_LRT = 2*(RT_paml.data$Damr_ML95_H1 - RT_paml.data$Damr_ML95_H0)\n",
    "RT_paml.data$Damr_pValue = pchisq(q = RT_paml.data$Damr_LRT, df = 1, lower.tail = F)\n",
    "RT_paml.data$Damr_FDR = p.adjust(p = RT_paml.data$Damr_pValue, method = \"fdr\")\n",
    "\n",
    "RT_paml.data$Dlum_LRT = 2*(RT_paml.data$Dlum_LM8_H1 - RT_paml.data$Dlum_LM8_H0)\n",
    "RT_paml.data$Dlum_pValue = pchisq(q = RT_paml.data$Dlum_LRT, df = 1, lower.tail = F)\n",
    "RT_paml.data$Dlum_FDR = p.adjust(p = RT_paml.data$Dlum_pValue, method = \"fdr\")\n",
    "\n",
    "RT_paml.data$Dnov_LRT = 2*(RT_paml.data$Dnov_4_H1 - RT_paml.data$Dnov_4_H0)\n",
    "RT_paml.data$Dnov_pValue = pchisq(q = RT_paml.data$Dnov_LRT, df = 1, lower.tail = F)\n",
    "RT_paml.data$Dnov_FDR = p.adjust(p = RT_paml.data$Dnov_pValue, method = \"fdr\")\n",
    "\n",
    "RT_paml.data$Dvir_LRT = 2*(RT_paml.data$Dvir_S9_H1 - RT_paml.data$Dvir_S9_H0)\n",
    "RT_paml.data$Dvir_pValue = pchisq(q = RT_paml.data$Dvir_LRT, df = 1, lower.tail = F)\n",
    "RT_paml.data$Dvir_FDR = p.adjust(p = RT_paml.data$Dvir_pValue, method = \"fdr\")\n",
    "\n",
    "RT_paml.data$Dmon_LRT = 2*(RT_paml.data$Dmon_Oul_H1 - RT_paml.data$Dmon_Oul_H0)\n",
    "RT_paml.data$Dmon_pValue = pchisq(q = RT_paml.data$Dmon_LRT, df = 1, lower.tail = F)\n",
    "RT_paml.data$Dmon_FDR = p.adjust(p = RT_paml.data$Dmon_pValue, method = \"fdr\")"
   ]
  },
  {
   "cell_type": "code",
   "execution_count": 24,
   "metadata": {
    "collapsed": true
   },
   "outputs": [],
   "source": [
    "#### Calaculate LRT, pValues and FDR for AG_paml data\n",
    "AG_paml.data$Damr_LRT = 2*(AG_paml.data$Damr_ML95_H1 - AG_paml.data$Damr_ML95_H0)\n",
    "AG_paml.data$Damr_pValue = pchisq(q = AG_paml.data$Damr_LRT, df = 1, lower.tail = F)\n",
    "AG_paml.data$Damr_FDR = p.adjust(p = AG_paml.data$Damr_pValue, method = \"fdr\")\n",
    "\n",
    "AG_paml.data$Dlum_LRT = 2*(AG_paml.data$Dlum_LM8_H1 - AG_paml.data$Dlum_LM8_H0)\n",
    "AG_paml.data$Dlum_pValue = pchisq(q = AG_paml.data$Dlum_LRT, df = 1, lower.tail = F)\n",
    "AG_paml.data$Dlum_FDR = p.adjust(p = AG_paml.data$Dlum_pValue, method = \"fdr\")\n",
    "\n",
    "AG_paml.data$Dnov_LRT = 2*(AG_paml.data$Dnov_4_H1 - AG_paml.data$Dnov_4_H0)\n",
    "AG_paml.data$Dnov_pValue = pchisq(q = AG_paml.data$Dnov_LRT, df = 1, lower.tail = F)\n",
    "AG_paml.data$Dnov_FDR = p.adjust(p = AG_paml.data$Dnov_pValue, method = \"fdr\")\n",
    "\n",
    "AG_paml.data$Dvir_LRT = 2*(AG_paml.data$Dvir_S9_H1 - AG_paml.data$Dvir_S9_H0)\n",
    "AG_paml.data$Dvir_pValue = pchisq(q = AG_paml.data$Dvir_LRT, df = 1, lower.tail = F)\n",
    "AG_paml.data$Dvir_FDR = p.adjust(p = AG_paml.data$Dvir_pValue, method = \"fdr\")\n",
    "\n",
    "AG_paml.data$Dmon_LRT = 2*(AG_paml.data$Dmon_Oul_H1 - AG_paml.data$Dmon_Oul_H0)\n",
    "AG_paml.data$Dmon_pValue = pchisq(q = AG_paml.data$Dmon_LRT, df = 1, lower.tail = F)\n",
    "AG_paml.data$Dmon_FDR = p.adjust(p = AG_paml.data$Dmon_pValue, method = \"fdr\")"
   ]
  },
  {
   "cell_type": "markdown",
   "metadata": {},
   "source": [
    "Let's combine those two for convenience:"
   ]
  },
  {
   "cell_type": "code",
   "execution_count": 25,
   "metadata": {
    "collapsed": true
   },
   "outputs": [],
   "source": [
    "AG_paml.data$status = \"AG_biased\"\n",
    "RT_paml.data$status = \"RT_biased\"\n",
    "paml2.data = rbind(AG_paml.data, RT_paml.data)"
   ]
  },
  {
   "cell_type": "markdown",
   "metadata": {},
   "source": [
    "Also combine the pairwise KaKs data:"
   ]
  },
  {
   "cell_type": "code",
   "execution_count": 26,
   "metadata": {
    "collapsed": true
   },
   "outputs": [],
   "source": [
    "AG_KaKs.data$status = \"AG_biased\"\n",
    "RT_KaKs.data$status = \"RT_biased\"\n",
    "KaKs2.data = rbind(AG_KaKs.data, RT_KaKs.data)"
   ]
  },
  {
   "cell_type": "markdown",
   "metadata": {},
   "source": [
    "Create lists of transcripts that have an LRT FDR value < 0.01:"
   ]
  },
  {
   "cell_type": "code",
   "execution_count": 27,
   "metadata": {
    "collapsed": true
   },
   "outputs": [],
   "source": [
    "Damr.lrt.sig = filter(paml2.data, Damr_FDR < 0.01)$FBtr_ID\n",
    "Dnov.lrt.sig = filter(paml2.data, Dnov_FDR < 0.01)$FBtr_ID\n",
    "Dlum.lrt.sig = filter(paml2.data, Dlum_FDR < 0.01)$FBtr_ID\n",
    "Dvir.lrt.sig = filter(paml2.data, Dvir_FDR < 0.01)$FBtr_ID\n",
    "Dmon.lrt.sig = filter(paml2.data, Dmon_FDR < 0.01)$FBtr_ID"
   ]
  },
  {
   "cell_type": "markdown",
   "metadata": {},
   "source": [
    "For some gene name entries we might want a unique 1-to-1 matching of gene ID's. We can do that like so:"
   ]
  },
  {
   "cell_type": "code",
   "execution_count": 28,
   "metadata": {
    "collapsed": true
   },
   "outputs": [],
   "source": [
    "fbgn_to_geneName = unique(subset(dv1.06_features, select = c(\"FBgn_ID\", \"gene_name\")))\n",
    "geneID_to_fbgn = unique(subset(gene.features, select = c(\"gene_id\", \"ref_gene_id\")))\n",
    "IDz = merge(fbgn_to_geneName, geneID_to_fbgn, by.x = \"FBgn_ID\", by.y = \"ref_gene_id\", all = T)"
   ]
  },
  {
   "cell_type": "markdown",
   "metadata": {},
   "source": [
    "For the PASA transcripts, we can use the blast result to match pasa gene ids with their corresponding hisat2 gene id:"
   ]
  },
  {
   "cell_type": "code",
   "execution_count": 29,
   "metadata": {
    "collapsed": true
   },
   "outputs": [],
   "source": [
    "transcript.features = unique(subset(gene.features, select = c(\"transcript_id\", \"gene_id\", \"ref_gene_id\")))\n",
    "\n",
    "intFile1 = merge(pasa_v_genome_blast_sub, transcript.features, by.x = \"V2\", by.y = \"transcript_id\", all.x = T)\n",
    "\n",
    "intFile2 = suppressWarnings(merge(intFile1, pasa_trans_map, by.x = \"V1\", by.y = \"V2\", all.x = T))\n",
    "colnames(intFile2) = c(\"pasa_transcript_id\", \"hisat2_transcript_id\", \"hisat2_gene_id\", \"ref_gene_id\", \"pasa_gene_id\")\n",
    "\n",
    "intFile3 = unique(subset(intFile2, select = c(\"pasa_gene_id\", \"hisat2_gene_id\")))\n",
    "\n",
    "pasa_to_hisat2_mapping = aggregate(hisat2_gene_id~pasa_gene_id, data = intFile3, toString)\n",
    "\n",
    "rm(intFile1, intFile2, intFile3)"
   ]
  },
  {
   "cell_type": "markdown",
   "metadata": {},
   "source": [
    "We'll make a couple of TPM tables for gene level and heatmap plotting:"
   ]
  },
  {
   "cell_type": "code",
   "execution_count": 30,
   "metadata": {
    "collapsed": true
   },
   "outputs": [],
   "source": [
    "## For annotated bt2 data\n",
    "TPMmatrix <- tpm_bt2.fbgn\n",
    "TPMmatrix.m <- as.data.frame(melt(as.matrix(TPMmatrix)))\n",
    "TPMmatrix.m = merge(TPMmatrix.m, sampleData, by.x = \"X2\", \"V2\")\n",
    "colnames(TPMmatrix.m) <- c(\"replicate_id\", \"gene_id\", \"TPM\", \"sample\")\n",
    "TPMmatrix.m$replicate = ifelse(grepl(\"_1\", TPMmatrix.m$replicate_id), \"1\", ifelse(grepl(\"_2\", TPMmatrix.m$replicate_id), \"2\", \"3\"))\n",
    "TPMmatrix.m = merge(TPMmatrix.m, fbgn_to_geneName, by.x = \"gene_id\", by.y = \"FBgn_ID\")\n",
    "TPMmatrix.m = merge(TPMmatrix.m, sampleInfo, by.x = \"replicate_id\", by.y = \"Replicate\")\n",
    "tpmTable_bt2.fbgn = subset(TPMmatrix.m, select = c(\"gene_id\", \"gene_name\",\"sample\", \"replicate_id\", \"replicate\", \"Sex\", \"Tissue\", \"Status\", \"Time\", \"TPM\"))\n",
    "colnames(tpmTable_bt2.fbgn) = c(\"FBgn_ID\", \"gene_name\",\"sample\", \"replicate_id\", \"replicate\", \"Sex\", \"Tissue\", \"Status\", \"Time\", \"TPM\")\n",
    "rm(TPMmatrix.m, TPMmatrix)\n",
    "\n",
    "tpmSE_bt2.fbgn = summarySE(tpmTable_bt2.fbgn, measurevar = \"TPM\", groupvars = c(\"FBgn_ID\", \"gene_name\",\"sample\", \"Sex\", \"Tissue\", \"Status\", \"Time\"))\n",
    "\n",
    "# write.table(tpmSE_bt2.fbgn, \"Trinity/fbgn/eXpress/tpmSE_bt2.fbgn.txt\", quote = F, sep = \"\\t\", row.names = F)\n",
    "# tpmSE_bt2.fbgn = read.table(\"Trinity/fbgn/eXpress/tpmSE_bt2.fbgn.txt\", header = T, sep = \"\\t\")\n",
    "\n",
    "tmpMat<-cast(tpmSE_bt2.fbgn, FBgn_ID~sample, value =\"TPM\", fun.aggregate = mean)\n",
    "tpmMatrix_bt2.fbgn <- tmpMat[,-1]\n",
    "rownames(tpmMatrix_bt2.fbgn) <- tmpMat[,1]\n",
    "rm(tmpMat)"
   ]
  },
  {
   "cell_type": "code",
   "execution_count": 31,
   "metadata": {
    "collapsed": true
   },
   "outputs": [],
   "source": [
    "## For pasa data\n",
    "TPMmatrix <- tpm_bt2.pasa\n",
    "TPMmatrix.m <- as.data.frame(melt(as.matrix(TPMmatrix)))\n",
    "TPMmatrix.m = merge(TPMmatrix.m, sampleData, by.x = \"X2\", \"V2\")\n",
    "colnames(TPMmatrix.m) <- c(\"replicate_id\", \"gene_id\", \"TPM\", \"sample\")\n",
    "TPMmatrix.m$replicate = ifelse(grepl(\"_1\", TPMmatrix.m$replicate_id), \"1\", ifelse(grepl(\"_2\", TPMmatrix.m$replicate_id), \"2\", \"3\"))\n",
    "TPMmatrix.m = merge(TPMmatrix.m, pasa_to_hisat2_mapping, by.x = \"gene_id\", by.y = \"pasa_gene_id\", all.x = T)\n",
    "TPMmatrix.m = merge(TPMmatrix.m, sampleInfo, by.x = \"replicate_id\", by.y = \"Replicate\")\n",
    "tpmTable_bt2.pasa = subset(TPMmatrix.m, select = c(\"gene_id\", \"hisat2_gene_id\",\"sample\", \"replicate_id\", \"replicate\", \"Sex\", \"Tissue\", \"Status\", \"Time\", \"TPM\"))\n",
    "rm(TPMmatrix.m, TPMmatrix)\n",
    "\n",
    "# tpmSE_bt2.pasa = summarySE(tpmTable_bt2.pasa, measurevar = \"TPM\", groupvars = c(\"gene_id\", \"hisat2_gene_id\",\"sample\", \"Sex\", \"Tissue\", \"Status\", \"Time\"))\n",
    "\n",
    "# write.table(tpmSE_bt2.pasa, \"Trinity/pasa/eXpress/tpmSE_bt2.pasa.txt\", quote = F, sep = \"\\t\", row.names = F)\n",
    "tpmSE_bt2.pasa = read.table(\"Trinity/pasa/eXpress/tpmSE_bt2.pasa.txt\", header = T, sep = \"\\t\")\n",
    "\n",
    "\n",
    "tmpMat<-cast(tpmSE_bt2.pasa, gene_id~sample, value =\"TPM\", fun.aggregate = mean)\n",
    "tpmMatrix_bt2.pasa <- tmpMat[,-1]\n",
    "rownames(tpmMatrix_bt2.pasa) <- tmpMat[,1]\n",
    "rm(tmpMat)"
   ]
  },
  {
   "cell_type": "markdown",
   "metadata": {},
   "source": [
    "We'll also need to set the factor level so that the order of samples on a plot makes sense:"
   ]
  },
  {
   "cell_type": "code",
   "execution_count": 32,
   "metadata": {
    "collapsed": true
   },
   "outputs": [],
   "source": [
    "## annotated eXpress\n",
    "## For TPMse table\n",
    "tpmSE_bt2.fbgn$Tissue = factor(tpmSE_bt2.fbgn$Tissue, levels = c(\"head\", \"carcass\", \"ovaries\", \"repTract\", \"testes\", \"acGlnds\", \"ejBulb\"))\n",
    "tpmSE_bt2.fbgn$Sex = factor(tpmSE_bt2.fbgn$Sex, levels = c(\"female\", \"male\"))\n",
    "tpmSE_bt2.fbgn$Status = factor(tpmSE_bt2.fbgn$Status, levels = c(\"virgin\", \"conspecific\", \"heterospecific\"))\n",
    "tpmSE_bt2.fbgn$Time = factor(tpmSE_bt2.fbgn$Time, levels = c(\"virgin\", \"3hpm\", \"6hpm\", \"12hpm\", \"24hpm\"))\n",
    "\n",
    "## and for raw TPM table\n",
    "tpmTable_bt2.fbgn$Tissue = factor(tpmTable_bt2.fbgn$Tissue, levels = c(\"head\", \"carcass\", \"ovaries\", \"repTract\", \"testes\", \"acGlnds\", \"ejBulb\"))\n",
    "tpmTable_bt2.fbgn$Sex = factor(tpmTable_bt2.fbgn$Sex, levels = c(\"female\", \"male\"))\n",
    "tpmTable_bt2.fbgn$Status = factor(tpmTable_bt2.fbgn$Status, levels = c(\"virgin\", \"conspecific\", \"heterospecific\"))\n",
    "tpmTable_bt2.fbgn$Time = factor(tpmTable_bt2.fbgn$Time, levels = c(\"virgin\", \"3hpm\", \"6hpm\", \"12hpm\", \"24hpm\"))"
   ]
  },
  {
   "cell_type": "code",
   "execution_count": 33,
   "metadata": {
    "collapsed": true
   },
   "outputs": [],
   "source": [
    "## PASA\n",
    "## For TPMse table\n",
    "tpmSE_bt2.pasa$Tissue = factor(tpmSE_bt2.pasa$Tissue, levels = c(\"head\", \"carcass\", \"ovaries\", \"repTract\", \"testes\", \"acGlnds\", \"ejBulb\"))\n",
    "tpmSE_bt2.pasa$Sex = factor(tpmSE_bt2.pasa$Sex, levels = c(\"female\", \"male\"))\n",
    "tpmSE_bt2.pasa$Status = factor(tpmSE_bt2.pasa$Status, levels = c(\"virgin\", \"conspecific\", \"heterospecific\"))\n",
    "tpmSE_bt2.pasa$Time = factor(tpmSE_bt2.pasa$Time, levels = c(\"virgin\", \"3hpm\", \"6hpm\", \"12hpm\", \"24hpm\"))\n",
    "\n",
    "## and for raw TPM table\n",
    "tpmTable_bt2.pasa$Tissue = factor(tpmTable_bt2.pasa$Tissue, levels = c(\"head\", \"carcass\", \"ovaries\", \"repTract\", \"testes\", \"acGlnds\", \"ejBulb\"))\n",
    "tpmTable_bt2.pasa$Sex = factor(tpmTable_bt2.pasa$Sex, levels = c(\"female\", \"male\"))\n",
    "tpmTable_bt2.pasa$Status = factor(tpmTable_bt2.pasa$Status, levels = c(\"virgin\", \"conspecific\", \"heterospecific\"))\n",
    "tpmTable_bt2.pasa$Time = factor(tpmTable_bt2.pasa$Time, levels = c(\"virgin\", \"3hpm\", \"6hpm\", \"12hpm\", \"24hpm\"))"
   ]
  },
  {
   "cell_type": "markdown",
   "metadata": {},
   "source": [
    "## Quality Assessment and Filtering:"
   ]
  },
  {
   "cell_type": "markdown",
   "metadata": {},
   "source": [
    "We need to look at seevral QC metrics for our count data. First we'll look at the variation in library sizes across the thee analyses:"
   ]
  },
  {
   "cell_type": "code",
   "execution_count": 34,
   "metadata": {
    "collapsed": true
   },
   "outputs": [],
   "source": [
    "a.bt2LibSizes <- as.data.frame(colSums(counts_bt2.fbgn))\n",
    "pasa.LibSizes <- as.data.frame(colSums(counts_bt2.pasa))\n",
    "libSizes = cbind(a.bt2LibSizes, pasa.LibSizes)\n",
    "libSizes <- cbind(sample = row.names(libSizes), libSizes)\n",
    "row.names(libSizes)<- NULL\n",
    "colnames(libSizes) = c(\"sample\", \"Bowtie2 (annotated)\", \"Bowtie2 (PASA)\")\n",
    "libSizes = melt(libSizes, id.vars = \"sample\")\n",
    "colnames(libSizes) = c(\"sample\", \"mapping_method\", \"mapped_reads\")"
   ]
  },
  {
   "cell_type": "markdown",
   "metadata": {},
   "source": [
    "Now make barplots of the mapped reads across samples and mapping methods:"
   ]
  },
  {
   "cell_type": "code",
   "execution_count": 35,
   "metadata": {},
   "outputs": [
    {
     "data": {},
     "metadata": {},
     "output_type": "display_data"
    },
    {
     "data": {
      "image/png": "[encoded data removed]",
      "text/plain": [
       "plot without title"
      ]
     },
     "metadata": {},
     "output_type": "display_data"
    }
   ],
   "source": [
    "options(repr.plot.width = 12, repr.plot.height = 4)\n",
    "# pdf(\"Figures/Library_sizes.pdf\", width = 12, height = 4)\n",
    "ggplot(libSizes, aes(sample, mapped_reads, fill = mapping_method)) + \n",
    "    geom_bar(stat=\"identity\", position = \"dodge\") + \n",
    "    theme_bw() +\n",
    "    theme(axis.text.x = element_text(angle = -90, hjust = 0)) + \n",
    "    geom_hline(yintercept = 20000000) +\n",
    "    scale_fill_manual(values = wes_palette(\"Royal1\"))\n",
    "# dev.off()"
   ]
  },
  {
   "cell_type": "markdown",
   "metadata": {},
   "source": [
    "A couple of things to note here. Not surprisingly, the Trinity mapping has the highest number of mapped reads across samples, while the HISAT2 genome mapping has the lowest (this is reflected in the percentage of mapping as well; see the MultiQC output from the Snakemake pipeline). Another thing to note is that, for the paired-end male data, there is no difference in the number of mapped reads between the HISAT2 and Trinity bowtie2 alignments, suggesting the genome divergence issues are mitigated by paired-end data. "
   ]
  },
  {
   "cell_type": "markdown",
   "metadata": {},
   "source": [
    "Now we can look at the appropriate cutoffs for filtering using Brian Haas' method. To do this we count the genes acrtoss a range of minimum TPM values. The eXpress output we used generates a file that can be used to generate this matrix (see Trinity online guidelines). We'll load those two files for the genom- and Trinity-based analyses:"
   ]
  },
  {
   "cell_type": "code",
   "execution_count": 36,
   "metadata": {
    "collapsed": true
   },
   "outputs": [],
   "source": [
    "a.bt2_cbmt = read.table(\"Genome/annotated_eXpress/annotated.gene.TPM.not_cross_norm.counts_by_min_TPM\", header = T)\n",
    "pasa.bt2_cbmt = read.table(\"Trinity/pasa/eXpress/pasa.gene.TPM.not_cross_norm.counts_by_min_TPM\", header = T)"
   ]
  },
  {
   "cell_type": "markdown",
   "metadata": {},
   "source": [
    "First extract the \"expressed genes\" (in this case, between 10 and 100 TPM):"
   ]
  },
  {
   "cell_type": "code",
   "execution_count": 37,
   "metadata": {
    "collapsed": true
   },
   "outputs": [],
   "source": [
    "a.bt2_cbmt.sub = a.bt2_cbmt[a.bt2_cbmt[,1] > -100 & a.bt2_cbmt[,1] < -10,]\n",
    "pasa.bt2_cbmt.sub = pasa.bt2_cbmt[pasa.bt2_cbmt[,1] > -100 & pasa.bt2_cbmt[,1] < -10,]"
   ]
  },
  {
   "cell_type": "markdown",
   "metadata": {},
   "source": [
    "Now we a perform a linear regression on this filtered subset of the data and display the value of the Y-intercept:"
   ]
  },
  {
   "cell_type": "code",
   "execution_count": 38,
   "metadata": {},
   "outputs": [
    {
     "name": "stdout",
     "output_type": "stream",
     "text": [
      "\n",
      "Call:\n",
      "lm(formula = a.bt2_cbmt.sub[, 2] ~ a.bt2_cbmt.sub[, 1])\n",
      "\n",
      "Coefficients:\n",
      "        (Intercept)  a.bt2_cbmt.sub[, 1]  \n",
      "           11534.67                76.03  \n",
      "\n",
      "\n",
      "Call:\n",
      "lm(formula = pasa.bt2_cbmt.sub[, 2] ~ pasa.bt2_cbmt.sub[, 1])\n",
      "\n",
      "Coefficients:\n",
      "           (Intercept)  pasa.bt2_cbmt.sub[, 1]  \n",
      "               18918.9                   149.8  \n",
      "\n"
     ]
    }
   ],
   "source": [
    "a.bt2_cbmt.sub_fit = lm(a.bt2_cbmt.sub[,2] ~ a.bt2_cbmt.sub[,1])\n",
    "print(a.bt2_cbmt.sub_fit)\n",
    "\n",
    "pasa.bt2_cbmt.sub_fit = lm(pasa.bt2_cbmt.sub[,2] ~ pasa.bt2_cbmt.sub[,1])\n",
    "print(pasa.bt2_cbmt.sub_fit)"
   ]
  },
  {
   "cell_type": "markdown",
   "metadata": {},
   "source": [
    "Combine both matrices before plotting:"
   ]
  },
  {
   "cell_type": "code",
   "execution_count": 39,
   "metadata": {},
   "outputs": [
    {
     "name": "stderr",
     "output_type": "stream",
     "text": [
      "Warning message:\n",
      "\"Removed 2674 rows containing missing values (geom_point).\""
     ]
    },
    {
     "data": {},
     "metadata": {},
     "output_type": "display_data"
    },
    {
     "data": {
      "image/png": "[encoded data removed]",
      "text/plain": [
       "plot without title"
      ]
     },
     "metadata": {},
     "output_type": "display_data"
    }
   ],
   "source": [
    "a.bt2_cbmt.sub$method = \"annotated\"\n",
    "pasa.bt2_cbmt.sub$method = \"pasa\"\n",
    "cbmtSub = rbind(a.bt2_cbmt.sub,pasa.bt2_cbmt.sub)\n",
    "\n",
    "a.bt2_cbmt$method = \"annotated\"\n",
    "pasa.bt2_cbmt$method = \"pasa\"\n",
    "cbmtMatrix = rbind(a.bt2_cbmt,pasa.bt2_cbmt)\n",
    "\n",
    "options(repr.plot.width = 5, repr.plot.height = 3)\n",
    "# pdf(\"Figures/filtering_cutoff.pdf\", width = 5, height = 3)\n",
    "ggplot(cbmtMatrix, aes(neg_min_tpm, num_features, colour = method)) + \n",
    "    geom_point(alpha = 0.5) +  \n",
    "    scale_x_continuous(limits=c(-100,0)) + \n",
    "    scale_y_continuous(limits=c(0,50000)) + \n",
    "    geom_smooth(data=cbmtSub, method = \"lm\",fullrange=TRUE, size = 0.5, linetype = \"dashed\") + \n",
    "    geom_hline(yintercept = 18918.9, linetype = \"dashed\", size = 0.2) + \n",
    "    geom_hline(yintercept = 11534.67, linetype = \"dashed\", size = 0.2) + \n",
    "#     ggtitle(\"Expressed genes\", subtitle = \"Decide cutoff of expressed genes\") +\n",
    "    scale_colour_manual(values = wes_palette(\"Royal1\")) + \n",
    "    theme_bw()\n",
    "# dev.off()"
   ]
  },
  {
   "cell_type": "markdown",
   "metadata": {},
   "source": [
    "In the Trinity analysis, out of 105593 \"genes\", roughly 35000 should remain after filtering lowly expressed genes. Simmilarly, 13000 out of ~20000 genes should remain in the genome analysis. Filtering should be performed on subsetted matrices for each analysis later because the threshold for the whole matrix tends to be too high, but we'll see what it is here. First, obtain the counts per million \"CPM\" matrix:"
   ]
  },
  {
   "cell_type": "code",
   "execution_count": 40,
   "metadata": {
    "collapsed": true
   },
   "outputs": [],
   "source": [
    "cpm_bt2.fbgn <- cpm(counts_bt2.fbgn)\n",
    "cpm_bt2.pasa <- cpm(counts_bt2.pasa)"
   ]
  },
  {
   "cell_type": "markdown",
   "metadata": {},
   "source": [
    "For now, let's set the minimum CPM to 10, and generate a logical matrix for CPM > 10:"
   ]
  },
  {
   "cell_type": "code",
   "execution_count": 41,
   "metadata": {
    "collapsed": true
   },
   "outputs": [],
   "source": [
    "thresh_bt2.fbgn <- cpm_bt2.fbgn > 10\n",
    "thresh_bt2.pasa <- cpm_bt2.pasa > 10"
   ]
  },
  {
   "cell_type": "markdown",
   "metadata": {},
   "source": [
    "We would like to keep genes that have at least 2 \"TRUE\"s in each row of thresh:"
   ]
  },
  {
   "cell_type": "code",
   "execution_count": 42,
   "metadata": {
    "collapsed": true
   },
   "outputs": [],
   "source": [
    "keep_bt2.fbgn <- rowSums(thresh_bt2.fbgn) >= 2\n",
    "keep_bt2.pasa<- rowSums(thresh_bt2.pasa) >= 2"
   ]
  },
  {
   "cell_type": "markdown",
   "metadata": {},
   "source": [
    "Now we subset the rows of the counts matrix to keep genes that satisfy our filter, then check how many genes are left:"
   ]
  },
  {
   "cell_type": "code",
   "execution_count": 43,
   "metadata": {},
   "outputs": [
    {
     "data": {
      "text/html": [
       "<ol class=list-inline>\n",
       "\t<li>11301</li>\n",
       "\t<li>46</li>\n",
       "</ol>\n"
      ],
      "text/latex": [
       "\\begin{enumerate*}\n",
       "\\item 11301\n",
       "\\item 46\n",
       "\\end{enumerate*}\n"
      ],
      "text/markdown": [
       "1. 11301\n",
       "2. 46\n",
       "\n",
       "\n"
      ],
      "text/plain": [
       "[1] 11301    46"
      ]
     },
     "metadata": {},
     "output_type": "display_data"
    },
    {
     "data": {
      "text/html": [
       "<ol class=list-inline>\n",
       "\t<li>19942</li>\n",
       "\t<li>46</li>\n",
       "</ol>\n"
      ],
      "text/latex": [
       "\\begin{enumerate*}\n",
       "\\item 19942\n",
       "\\item 46\n",
       "\\end{enumerate*}\n"
      ],
      "text/markdown": [
       "1. 19942\n",
       "2. 46\n",
       "\n",
       "\n"
      ],
      "text/plain": [
       "[1] 19942    46"
      ]
     },
     "metadata": {},
     "output_type": "display_data"
    }
   ],
   "source": [
    "countsKeep_bt2.fbgn <- counts_bt2.fbgn[keep_bt2.fbgn,]\n",
    "dim(countsKeep_bt2.fbgn)\n",
    "\n",
    "countsKeep_bt2.pasa <- counts_bt2.pasa[keep_bt2.pasa,]\n",
    "dim(countsKeep_bt2.pasa)"
   ]
  },
  {
   "cell_type": "markdown",
   "metadata": {},
   "source": [
    "So a filter of 10 CPM brings the count matrix to the expected number of genes using Brian Haas' method. We would like to know what the CPM values correspond to in terms of raw counts. To do this, we'll plot CPM vs. counts for each sample. (look at the last 30)"
   ]
  },
  {
   "cell_type": "code",
   "execution_count": 44,
   "metadata": {},
   "outputs": [
    {
     "data": {
      "image/png": "[encoded data removed]",
      "text/plain": [
       "Plot with title \"Male_TS_3\""
      ]
     },
     "metadata": {},
     "output_type": "display_data"
    }
   ],
   "source": [
    "options(repr.plot.width = 9, repr.plot.height = 8)\n",
    "par(mfrow=c(5,6))\n",
    "for(i in seq(from=17, to=46, by=1)){\n",
    "  plot(cpm_bt2.fbgn[,i],counts_bt2.fbgn[,i], xlim=c(0,10), ylim=c(0,200), xlab = \"CPM\", ylab = \"count\")\n",
    "  title(colnames(cpm_bt2.fbgn)[i])\n",
    "}"
   ]
  },
  {
   "cell_type": "markdown",
   "metadata": {},
   "source": [
    "There's a range of correpondence between CPM values and raw counts. In general 10CPM seems to correspond to ~200 in raw counts."
   ]
  },
  {
   "cell_type": "markdown",
   "metadata": {},
   "source": [
    "## Differential Expression"
   ]
  },
  {
   "cell_type": "markdown",
   "metadata": {},
   "source": [
    "### Tissue-biased genes"
   ]
  },
  {
   "cell_type": "markdown",
   "metadata": {},
   "source": [
    "In the first portion of the differential expression analysis we'll look at genes that show tissue-biased expression in females. We'll perform this analysis on the genome-based transcriptome."
   ]
  },
  {
   "cell_type": "markdown",
   "metadata": {},
   "source": [
    "First we'll subset the matrix to include virgin female tissue samples."
   ]
  },
  {
   "cell_type": "code",
   "execution_count": 45,
   "metadata": {
    "collapsed": true
   },
   "outputs": [],
   "source": [
    "counts_bt2.fbgn.tissues = subset(counts_bt2.fbgn, select=grepl(\"Female_V\", colnames(counts_bt2.fbgn)))"
   ]
  },
  {
   "cell_type": "markdown",
   "metadata": {},
   "source": [
    "Now we can filter out low expression genes with a minimum 5 cpm cutoff (NOTE: Setting the threshold column number to 3 dramatically changes the number of tissue biased genes in this section)."
   ]
  },
  {
   "cell_type": "code",
   "execution_count": 46,
   "metadata": {},
   "outputs": [
    {
     "data": {
      "text/plain": [
       "\n",
       "   0    1    2    3    4    5    6    7    8    9 \n",
       "4963  224 1465  642  492  324  246  836  516 5236 "
      ]
     },
     "metadata": {},
     "output_type": "display_data"
    },
    {
     "data": {
      "text/html": [
       "<ol class=list-inline>\n",
       "\t<li>9757</li>\n",
       "\t<li>9</li>\n",
       "</ol>\n"
      ],
      "text/latex": [
       "\\begin{enumerate*}\n",
       "\\item 9757\n",
       "\\item 9\n",
       "\\end{enumerate*}\n"
      ],
      "text/markdown": [
       "1. 9757\n",
       "2. 9\n",
       "\n",
       "\n"
      ],
      "text/plain": [
       "[1] 9757    9"
      ]
     },
     "metadata": {},
     "output_type": "display_data"
    }
   ],
   "source": [
    "cpm_bt2.fbgn.tissues <- cpm(counts_bt2.fbgn.tissues)\n",
    "thresh_v.bt2.fbgn <- cpm_bt2.fbgn.tissues > 5\n",
    "## look at number of columns with above requirements\n",
    "table(rowSums(thresh_v.bt2.fbgn))\n",
    "\n",
    "countsKeep_v.bt2.fbgn <- rowSums(thresh_v.bt2.fbgn) >= 2\n",
    "countsFiltered_bt2.fbgn.tissues <- counts_bt2.fbgn.tissues[countsKeep_v.bt2.fbgn,]\n",
    "## Check how many genes remain in the matrix.\n",
    "dim(countsFiltered_bt2.fbgn.tissues)\n",
    "\n",
    "\n",
    "## Clean-up\n",
    "rm(cpm_bt2.fbgn.tissues, countsKeep_v.bt2.fbgn, thresh_v.bt2.fbgn)"
   ]
  },
  {
   "cell_type": "markdown",
   "metadata": {
    "collapsed": true
   },
   "source": [
    "We'll also subset the samplesData object to only include the virgin tissue and male samples:"
   ]
  },
  {
   "cell_type": "code",
   "execution_count": 47,
   "metadata": {
    "collapsed": true
   },
   "outputs": [],
   "source": [
    "sampleInfo.v = subset(sampleInfo, Status == \"virgin\")"
   ]
  },
  {
   "cell_type": "markdown",
   "metadata": {},
   "source": [
    "We can now define groups for differential expression:"
   ]
  },
  {
   "cell_type": "code",
   "execution_count": 48,
   "metadata": {
    "collapsed": true
   },
   "outputs": [],
   "source": [
    "groups.v = factor(sampleInfo.v$Tissue)\n",
    "design.v = model.matrix( ~ 0 + groups.v)\n",
    "colnames(design.v) <- levels(groups.v)\n",
    "rownames(design.v) <- sampleInfo.v$Replicate"
   ]
  },
  {
   "cell_type": "markdown",
   "metadata": {},
   "source": [
    "Now we'll create the DGE object and fit the general linear model:"
   ]
  },
  {
   "cell_type": "code",
   "execution_count": 49,
   "metadata": {
    "collapsed": true
   },
   "outputs": [],
   "source": [
    "dgeList.v <- DGEList(counts = countsFiltered_bt2.fbgn.tissues, group = groups.v)\n",
    "dgeList.v <- calcNormFactors(dgeList.v)\n",
    "dgeList.v <- estimateCommonDisp(dgeList.v)\n",
    "dgeList.v <- estimateTagwiseDisp(dgeList.v)\n",
    "dgeList.v_fit <- glmFit(dgeList.v, design.v)"
   ]
  },
  {
   "cell_type": "markdown",
   "metadata": {},
   "source": [
    "We can add annotation information to the fit object, and put it in the genes slot:"
   ]
  },
  {
   "cell_type": "code",
   "execution_count": 61,
   "metadata": {
    "collapsed": true
   },
   "outputs": [],
   "source": [
    "Annots = merge(merge(melOrthsAll, trinotate_annotated, all=TRUE), dv1.06_features, all=TRUE)\n",
    "annot.sum = unique(subset(Annots, select=c(\"FBgn_ID\", \"gene_name\", \"SwissProt_BlastX_Description\")))\n",
    "annot.sum = aggregate(SwissProt_BlastX_Description ~ FBgn_ID + gene_name, data = annot.sum, toString)"
   ]
  },
  {
   "cell_type": "markdown",
   "metadata": {},
   "source": [
    "now create the annotation object:"
   ]
  },
  {
   "cell_type": "code",
   "execution_count": 62,
   "metadata": {},
   "outputs": [
    {
     "data": {
      "text/plain": [
       "\n",
       "TRUE \n",
       "9757 "
      ]
     },
     "metadata": {},
     "output_type": "display_data"
    }
   ],
   "source": [
    "# Extract annotation for genes in the fit object\n",
    "ann.v = subset(annot.sum, FBgn_ID %in% rownames(dgeList.v_fit))\n",
    "# convert factors to characters\n",
    "ann.v = data.frame(lapply(ann.v, as.character), stringsAsFactors=FALSE)\n",
    "# align the fit object's rownames with gene ID's\n",
    "ann.v = ann.v[match(rownames(dgeList.v_fit), ann.v$FBgn_ID),]\n",
    "# convert factors to characters, again\n",
    "ann.v <- data.frame(lapply(ann.v, as.character), stringsAsFactors=FALSE)\n",
    "# Rename \"FBgn_ID\" as \"GeneID\"\n",
    "colnames(ann.v) = c (\"GeneID\", \"gene_name\", \"SwissProt_BlastX_Description\")\n",
    "# Check that the fit rownames match the annotation file's gene ID's\n",
    "table(ann.v$GeneID==rownames(dgeList.v_fit))\n",
    "# Add the annotations to the fit object in the \"genes\" slot\n",
    "dgeList.v_fit$genes = ann.v"
   ]
  },
  {
   "cell_type": "markdown",
   "metadata": {},
   "source": [
    "A quick look at the dispersion stats:"
   ]
  },
  {
   "cell_type": "code",
   "execution_count": 63,
   "metadata": {},
   "outputs": [
    {
     "data": {
      "text/plain": [
       "   Min. 1st Qu.  Median    Mean 3rd Qu.    Max. \n",
       "0.01993 0.02820 0.03700 0.05979 0.05430 2.15200 "
      ]
     },
     "metadata": {},
     "output_type": "display_data"
    }
   ],
   "source": [
    "summary(dgeList.v$tagwise.dispersion)"
   ]
  },
  {
   "cell_type": "markdown",
   "metadata": {},
   "source": [
    "We can plot the biological coefficient of variation to examine variability within each sample. It would also be useful to generatea voom object as an aside to check compare to the edgeR analyses (from this objectm we can look at the mean-variance trend). Also, let's generate a QQ-plot."
   ]
  },
  {
   "cell_type": "code",
   "execution_count": 64,
   "metadata": {
    "scrolled": false
   },
   "outputs": [
    {
     "data": {
      "image/png": "[encoded data removed]",
      "text/plain": [
       "Plot with title \"Voom transformed logCPM\""
      ]
     },
     "metadata": {},
     "output_type": "display_data"
    }
   ],
   "source": [
    "options(repr.plot.width = 9, repr.plot.height = 6)\n",
    "par(mfrow=c(2,2))\n",
    "# Biological coefficient of variation\n",
    "plotBCV(dgeList.v)\n",
    "# mean-variance trend\n",
    "virgin.voom = voom(dgeList.v, design.v, plot=TRUE)\n",
    "# QQ-plot\n",
    "g.v <- gof(dgeList.v_fit)\n",
    "z.v <- zscoreGamma(g.v$gof.statistics,shape=g.v$df/2,scale=2)\n",
    "qqnorm(z.v); qqline(z.v, col = 4,lwd=1,lty=1)\n",
    "# log2 transformed and normalize boxplot of counts across samples\n",
    "boxplot(virgin.voom$E, xlab=\"\", ylab=\"Log2 counts per million\",las=2,main=\"Voom transformed logCPM\")\n",
    "abline(h=median(virgin.voom$E),col=\"blue\")"
   ]
  },
  {
   "cell_type": "markdown",
   "metadata": {},
   "source": [
    "Looks good. Now let's look at sample groupings using a multidimensional scaling plot (try 'method = \"bcv\"' for a different type of grouping):"
   ]
  },
  {
   "cell_type": "code",
   "execution_count": 65,
   "metadata": {
    "collapsed": true
   },
   "outputs": [],
   "source": [
    "# glMDSPlot(dgeList.v, groups = dgeList.v$samples$group, labels = sampleInfo.v$Replicate)"
   ]
  },
  {
   "cell_type": "markdown",
   "metadata": {},
   "source": [
    "Replicates are grouping correctly. Another way to look at grouping is a heatmap of sample correlations:"
   ]
  },
  {
   "cell_type": "code",
   "execution_count": 66,
   "metadata": {},
   "outputs": [
    {
     "data": {
      "image/png": "[encoded data removed]",
      "text/plain": [
       "plot without title"
      ]
     },
     "metadata": {},
     "output_type": "display_data"
    }
   ],
   "source": [
    "## Plot sample correlation\n",
    "data = log2(countsFiltered_bt2.fbgn.tissues+1)\n",
    "colnames(data) = gsub(\"Female_\", \"\", colnames(data))\n",
    "data = as.matrix(data)\n",
    "sample_cor = cor(data, method='pearson', use='pairwise.complete.obs')\n",
    "\n",
    "options(repr.plot.width = 3.75, repr.plot.height = 3)\n",
    "pheatmap(\n",
    "  mat               = sample_cor,\n",
    "  color             = inferno(50),\n",
    "  border_color      = NA,\n",
    "  show_colnames     = TRUE,\n",
    "  show_rownames     = TRUE,\n",
    "#   filename          = \"Figures/repTract_sample_correlations.pdf\",\n",
    "#   width             = 6, \n",
    "#   height            = 5,\n",
    "  fontsize          = 12    \n",
    ")"
   ]
  },
  {
   "cell_type": "markdown",
   "metadata": {},
   "source": [
    "Now we can identify genes that show tissue-biased expression. First, we define the relevant contrasts. We'll need to define a set of three contrasts for each tissue:"
   ]
  },
  {
   "cell_type": "code",
   "execution_count": 67,
   "metadata": {
    "collapsed": true
   },
   "outputs": [],
   "source": [
    "cont.v.repTract <- makeContrasts(V_RT.vs.V_CR=repTract-carcass,\n",
    "                                 V_RT.vs.V_HD=repTract-head,\n",
    "                                 V_RT.vs.V_OV=repTract-ovaries,\n",
    "                                 levels=design.v)\n",
    "cont.v.ovaries <- makeContrasts(V_OV.vs.V_CR=ovaries-carcass,\n",
    "                                V_OV.vs.V_HD=ovaries-head,\n",
    "                                V_OV.vs.V_RT=ovaries-repTract,\n",
    "                                levels=design.v)\n",
    "cont.v.head <- makeContrasts(V_H.vs.V_CR=head-carcass,\n",
    "                             V_H.vs.V_OV=head-ovaries,\n",
    "                             V_H.vs.V_RT=head-repTract,\n",
    "                             levels=design.v)\n",
    "# cont.v.carcass <- makeContrasts(V_CR.vs.V_H=carcass-head,\n",
    "#                              V_CR.vs.V_OV=carcass-ovaries,\n",
    "#                              V_CR.vs.V_RT=carcass-repTract,\n",
    "#                              levels=design.v)"
   ]
  },
  {
   "cell_type": "markdown",
   "metadata": {},
   "source": [
    "Now we can fit the negative binomial log-linear model to conduct gene-wise statistical tests. For each contrast, we will extract the table with the relevant DE stats."
   ]
  },
  {
   "cell_type": "markdown",
   "metadata": {},
   "source": [
    "##### Reprotductive tract:"
   ]
  },
  {
   "cell_type": "code",
   "execution_count": 68,
   "metadata": {},
   "outputs": [
    {
     "data": {
      "text/html": [
       "'667 genes show RT-biased expression at a &gt;2-fold cutoff, 283 at a &gt;4-fold cutoff, and 119 at a &gt;10-fold cutoff.'"
      ],
      "text/latex": [
       "'667 genes show RT-biased expression at a >2-fold cutoff, 283 at a >4-fold cutoff, and 119 at a >10-fold cutoff.'"
      ],
      "text/markdown": [
       "'667 genes show RT-biased expression at a &gt;2-fold cutoff, 283 at a &gt;4-fold cutoff, and 119 at a &gt;10-fold cutoff.'"
      ],
      "text/plain": [
       "[1] \"667 genes show RT-biased expression at a >2-fold cutoff, 283 at a >4-fold cutoff, and 119 at a >10-fold cutoff.\""
      ]
     },
     "metadata": {},
     "output_type": "display_data"
    }
   ],
   "source": [
    "lrt.v.repTract <- glmLRT(dgeList.v_fit, contrast = cont.v.repTract)\n",
    "lrt.v.repTract.tTags <- topTags(lrt.v.repTract, n = NULL)\n",
    "lrt.v.repTract.tTags.table <- lrt.v.repTract.tTags$table\n",
    "\n",
    "# let's make several lists with varying fold-change stringency (default is >2-fold)\n",
    "repTract.list<-subset(lrt.v.repTract.tTags.table, logFC.V_RT.vs.V_CR > 1 & logFC.V_RT.vs.V_HD > 1 & logFC.V_RT.vs.V_OV > 1 & FDR<0.01)$GeneID\n",
    "repTract.list.4fold<-subset(lrt.v.repTract.tTags.table, logFC.V_RT.vs.V_CR > 2 & logFC.V_RT.vs.V_HD > 2 & logFC.V_RT.vs.V_OV > 2 & FDR<0.01)$GeneID\n",
    "repTract.list.10fold<-subset(lrt.v.repTract.tTags.table, logFC.V_RT.vs.V_CR > 3.32 & logFC.V_RT.vs.V_HD > 3.32 & logFC.V_RT.vs.V_OV > 3.32 & FDR<0.01)$GeneID\n",
    "\n",
    "paste(length(repTract.list), \" genes show RT-biased expression at a >2-fold cutoff, \", length(repTract.list.4fold), \" at a >4-fold cutoff, and \", length(repTract.list.10fold), \" at a >10-fold cutoff.\" ,sep = \"\")"
   ]
  },
  {
   "cell_type": "markdown",
   "metadata": {},
   "source": [
    "##### Ovaries:"
   ]
  },
  {
   "cell_type": "code",
   "execution_count": 70,
   "metadata": {},
   "outputs": [
    {
     "data": {
      "text/html": [
       "'2118 genes show OV-biased expression at a &gt;2-fold cutoff, 776 at a &gt;4-fold cutoff, and 121 at a &gt;10-fold cutoff.'"
      ],
      "text/latex": [
       "'2118 genes show OV-biased expression at a >2-fold cutoff, 776 at a >4-fold cutoff, and 121 at a >10-fold cutoff.'"
      ],
      "text/markdown": [
       "'2118 genes show OV-biased expression at a &gt;2-fold cutoff, 776 at a &gt;4-fold cutoff, and 121 at a &gt;10-fold cutoff.'"
      ],
      "text/plain": [
       "[1] \"2118 genes show OV-biased expression at a >2-fold cutoff, 776 at a >4-fold cutoff, and 121 at a >10-fold cutoff.\""
      ]
     },
     "metadata": {},
     "output_type": "display_data"
    }
   ],
   "source": [
    "lrt.v.ovaries <- glmLRT(dgeList.v_fit, contrast = cont.v.ovaries)\n",
    "lrt.v.ovaries.tTags <- topTags(lrt.v.ovaries, n = NULL)\n",
    "lrt.v.ovaries.tTags.table <- lrt.v.ovaries.tTags$table\n",
    "\n",
    "# let's make several lists with varying fold-change stringency (default is >2-fold)\n",
    "ovaries.list<-subset(lrt.v.ovaries.tTags.table, logFC.V_OV.vs.V_CR > 1 & logFC.V_OV.vs.V_HD > 1 & logFC.V_OV.vs.V_RT > 1 & FDR<0.01)$GeneID\n",
    "ovaries.list.4fold<-subset(lrt.v.ovaries.tTags.table, logFC.V_OV.vs.V_CR > 2 & logFC.V_OV.vs.V_HD > 2 & logFC.V_OV.vs.V_RT > 2 & FDR<0.01)$GeneID\n",
    "ovaries.list.10fold<-subset(lrt.v.ovaries.tTags.table, logFC.V_OV.vs.V_CR > 3.32 & logFC.V_OV.vs.V_HD > 3.32 & logFC.V_OV.vs.V_RT > 3.32 & FDR<0.01)$GeneID\n",
    "\n",
    "paste(length(ovaries.list), \" genes show OV-biased expression at a >2-fold cutoff, \", length(ovaries.list.4fold), \" at a >4-fold cutoff, and \", length(ovaries.list.10fold), \" at a >10-fold cutoff.\" ,sep = \"\")"
   ]
  },
  {
   "cell_type": "markdown",
   "metadata": {},
   "source": [
    "##### Head:"
   ]
  },
  {
   "cell_type": "code",
   "execution_count": 71,
   "metadata": {},
   "outputs": [
    {
     "data": {
      "text/html": [
       "'1021 genes show H-biased expression at a &gt;2-fold cutoff, 740 at a &gt;4-fold cutoff, and 481 at a &gt;10-fold cutoff.'"
      ],
      "text/latex": [
       "'1021 genes show H-biased expression at a >2-fold cutoff, 740 at a >4-fold cutoff, and 481 at a >10-fold cutoff.'"
      ],
      "text/markdown": [
       "'1021 genes show H-biased expression at a &gt;2-fold cutoff, 740 at a &gt;4-fold cutoff, and 481 at a &gt;10-fold cutoff.'"
      ],
      "text/plain": [
       "[1] \"1021 genes show H-biased expression at a >2-fold cutoff, 740 at a >4-fold cutoff, and 481 at a >10-fold cutoff.\""
      ]
     },
     "metadata": {},
     "output_type": "display_data"
    }
   ],
   "source": [
    "lrt.v.head <- glmLRT(dgeList.v_fit, contrast = cont.v.head)\n",
    "lrt.v.head.tTags <- topTags(lrt.v.head, n = NULL)\n",
    "lrt.v.head.tTags.table <- lrt.v.head.tTags$table\n",
    "\n",
    "# let's make several lists with varying fold-change stringency (default is >2-fold)\n",
    "head.list<-subset(lrt.v.head.tTags.table, logFC.V_H.vs.V_CR > 1 & logFC.V_H.vs.V_OV > 1 & logFC.V_H.vs.V_RT > 1 & FDR<0.01)$GeneID\n",
    "head.list.4fold<-subset(lrt.v.head.tTags.table, logFC.V_H.vs.V_CR > 2 & logFC.V_H.vs.V_OV > 2 & logFC.V_H.vs.V_RT > 2 & FDR<0.01)$GeneID\n",
    "head.list.10fold<-subset(lrt.v.head.tTags.table, logFC.V_H.vs.V_CR > 3.32 & logFC.V_H.vs.V_OV > 3.32 & logFC.V_H.vs.V_RT > 3.32 & FDR<0.01)$GeneID\n",
    "\n",
    "\n",
    "paste(length(head.list), \" genes show H-biased expression at a >2-fold cutoff, \", length(head.list.4fold), \" at a >4-fold cutoff, and \", length(head.list.10fold), \" at a >10-fold cutoff.\" ,sep = \"\")"
   ]
  },
  {
   "cell_type": "markdown",
   "metadata": {},
   "source": [
    "##### Carcass (this isn't terribly important, especially since one of the carcass replicates may have gotten contaminated with ovary material (see heatmap of replicates below). But we'll do it anyway ):"
   ]
  },
  {
   "cell_type": "code",
   "execution_count": 72,
   "metadata": {
    "collapsed": true
   },
   "outputs": [],
   "source": [
    "# lrt.v.carcass <- glmLRT(dgeList.v_fit, contrast = cont.v.carcass)\n",
    "# lrt.v.carcass.tTags <- topTags(lrt.v.carcass, n = NULL)\n",
    "# lrt.v.carcass.tTags.table <- lrt.v.carcass.tTags$table\n",
    "# carcass.list<-subset(lrt.v.carcass.tTags.table, logFC.V_CR.vs.V_H > 1 & logFC.V_CR.vs.V_OV > 1 & logFC.V_CR.vs.V_RT > 1 & FDR<0.01)$GeneID\n",
    "# paste(length(carcass.list), \" show carcass-biased expression\", sep = \"\")"
   ]
  },
  {
   "cell_type": "markdown",
   "metadata": {},
   "source": [
    "We can generate tissue-biased factor tables to annotate heatmaps of the tissue-biased genes, and can also be used for GO analysis later:"
   ]
  },
  {
   "cell_type": "code",
   "execution_count": 73,
   "metadata": {
    "collapsed": true
   },
   "outputs": [],
   "source": [
    "RT_factors = as.data.frame(repTract.list.4fold)\n",
    "RT_factors$V1 = \"RT-biased\"\n",
    "rownames(RT_factors) = repTract.list.4fold\n",
    "RT_factors = subset(RT_factors, select = \"V1\")\n",
    "\n",
    "OV_factors = as.data.frame(ovaries.list.4fold)\n",
    "OV_factors$V1 = \"OV-biased\"\n",
    "rownames(OV_factors) = ovaries.list.4fold\n",
    "OV_factors = subset(OV_factors, select = \"V1\")\n",
    "\n",
    "H_factors = as.data.frame(head.list.4fold)\n",
    "H_factors$V1 = \"H-biased\"\n",
    "rownames(H_factors) = head.list.4fold\n",
    "H_factors = subset(H_factors, select = \"V1\")\n",
    "\n",
    "virgin.factor.labeling = rbind(RT_factors, \n",
    "                               OV_factors, \n",
    "#                                CR_factors, \n",
    "                               H_factors)\n",
    "colnames(virgin.factor.labeling) = c('tissue_bias')\n",
    "virgin.factor_list = unique(virgin.factor.labeling[,1])"
   ]
  },
  {
   "cell_type": "markdown",
   "metadata": {},
   "source": [
    "For a heatmap, we'll subset from the mean TPM matrix produced in the introduction:"
   ]
  },
  {
   "cell_type": "code",
   "execution_count": 74,
   "metadata": {
    "collapsed": true
   },
   "outputs": [],
   "source": [
    "meanTPM_v_bt2.fbgn = subset(tpmMatrix_bt2.fbgn, rownames(tpm_bt2.fbgn) %in% rownames(virgin.factor.labeling))\n",
    "meanTPM_v_bt2.fbgn = subset(meanTPM_v_bt2.fbgn, select=grepl(\"Female_V\", colnames(meanTPM_v_bt2.fbgn)))\n",
    "colnames(meanTPM_v_bt2.fbgn) = gsub(\"Female_V_\", \"\", colnames(meanTPM_v_bt2.fbgn))"
   ]
  },
  {
   "cell_type": "markdown",
   "metadata": {},
   "source": [
    "Some more bells and whistles to generate the heatmap (for now with heatmap.3, fix this later and use the heatmap3 package):"
   ]
  },
  {
   "cell_type": "code",
   "execution_count": 75,
   "metadata": {
    "collapsed": true
   },
   "outputs": [],
   "source": [
    "data = meanTPM_v_bt2.fbgn\n",
    "gene_factors = unique(virgin.factor.labeling[,1])\n",
    "gene_factor_colors = rainbow(length(gene_factors))\n",
    "names(gene_factor_colors) = gene_factors\n",
    "data = log2(data+1)\n",
    "data = as.matrix(data) # convert to matrix\n",
    "sample_cor = cor(data, method='pearson', use='pairwise.complete.obs')\n",
    "sample_dist = as.dist(1-sample_cor)\n",
    "hc_samples = hclust(sample_dist, method='complete')\n",
    "gene_cor = NULL\n",
    "if (is.null(gene_cor)) { gene_cor = cor(t(data), method='pearson', use='pairwise.complete.obs') }\n",
    "gene_dist = as.dist(1-gene_cor)\n",
    "hc_genes = hclust(gene_dist, method='complete')\n",
    "myheatcol = colorpanel(75, '#271fc5','black','#9de100')\n",
    "data = t(scale(t(data), scale=F)) # center rows, mean substracted\n",
    "heatmap_data = data\n",
    "gene_factor_row_vals = as.factor(virgin.factor.labeling[rownames(heatmap_data),])\n",
    "names(gene_factor_row_vals) = rownames(heatmap_data)\n",
    "gene_factors_here = unique(gene_factor_row_vals)\n",
    "names(gene_factors_here) = gene_factors_here\n",
    "num_gene_factors_here = length(gene_factors_here)\n",
    "geneFactorColors = c(\"#00b468\",\n",
    "\"#8781ff\",\n",
    "# \"#534300\",\n",
    "\"#aea800\")\n",
    "geneFactorAnnotations = matrix(nrow=nrow(heatmap_data), ncol=num_gene_factors_here)\n",
    "for (i in 1:num_gene_factors_here) {\n",
    "    geneFactorAnnotations[,i] = gene_factor_row_vals %in% gene_factors_here[i]\n",
    "}\n",
    "geneFactorAnnotations = apply(geneFactorAnnotations, 1:2, function(x) as.logical(x))\n",
    "geneFactorAnnotations = t(sample_matrix_to_color_assignments(t(geneFactorAnnotations), col=geneFactorColors))\n",
    "rownames(geneFactorAnnotations) = rownames(heatmap_data)\n",
    "colnames(geneFactorAnnotations) = gene_factors_here\n",
    "heatmap_data[heatmap_data < -2] = -2\n",
    "heatmap_data[heatmap_data > 2] = 2"
   ]
  },
  {
   "cell_type": "markdown",
   "metadata": {},
   "source": [
    "For a heatmap using \"pheatmap\", here's how to rotate column labels:"
   ]
  },
  {
   "cell_type": "code",
   "execution_count": 76,
   "metadata": {
    "collapsed": true
   },
   "outputs": [],
   "source": [
    "draw_colnames_45 <- function (coln, gaps, ...) {\n",
    "    coord <- pheatmap:::find_coordinates(length(coln), gaps)\n",
    "    x     <- coord$coord - 0.5 * coord$size\n",
    "    res   <- grid::textGrob(\n",
    "      coln, x = x, y = unit(1, \"npc\") - unit(3,\"bigpts\"),\n",
    "      vjust = 0.75, hjust = 1, rot = 45, gp = grid::gpar(...)\n",
    "    )\n",
    "    return(res)\n",
    "}\n",
    "assignInNamespace(\n",
    "  x = \"draw_colnames\",\n",
    "  value = \"draw_colnames_45\",\n",
    "  ns = asNamespace(\"pheatmap\")\n",
    ")"
   ]
  },
  {
   "cell_type": "markdown",
   "metadata": {},
   "source": [
    "Set the colours for the side bar like so:"
   ]
  },
  {
   "cell_type": "code",
   "execution_count": 77,
   "metadata": {
    "collapsed": true
   },
   "outputs": [],
   "source": [
    "mat_colors <- list(tissue_bias = c(\"#c75f65\",\n",
    "\"#949b48\",\n",
    "\"#9475c5\"))\n",
    "names(mat_colors$tissue_bias) <- unique(virgin.factor_list)"
   ]
  },
  {
   "cell_type": "markdown",
   "metadata": {},
   "source": [
    "Can set the scale breaks like this:"
   ]
  },
  {
   "cell_type": "code",
   "execution_count": 78,
   "metadata": {
    "collapsed": true
   },
   "outputs": [],
   "source": [
    "# mat_breaks <- seq(min(heatmap_data), max(heatmap_data), length.out = 10)"
   ]
  },
  {
   "cell_type": "markdown",
   "metadata": {},
   "source": [
    "Or this is better:"
   ]
  },
  {
   "cell_type": "code",
   "execution_count": 79,
   "metadata": {
    "collapsed": true
   },
   "outputs": [],
   "source": [
    "# quantile_breaks <- function(xs, n = 10) {\n",
    "#   breaks <- quantile(xs, probs = seq(0, 1, length.out = n))\n",
    "#   breaks[!duplicated(breaks)]\n",
    "# }\n",
    "\n",
    "# mat_breaks <- quantile_breaks(mat, n = 101)"
   ]
  },
  {
   "cell_type": "markdown",
   "metadata": {},
   "source": [
    "Now plot it:"
   ]
  },
  {
   "cell_type": "code",
   "execution_count": 80,
   "metadata": {},
   "outputs": [
    {
     "data": {
      "image/png": "[encoded data removed]",
      "text/plain": [
       "plot without title"
      ]
     },
     "metadata": {},
     "output_type": "display_data"
    }
   ],
   "source": [
    "options(repr.plot.width = 4, repr.plot.height = 5)\n",
    "\n",
    "fig2A = pheatmap(\n",
    "  mat               = heatmap_data,\n",
    "  color             = viridis(100),\n",
    "#   breaks            = mat_breaks,\n",
    "  border_color      = NA,\n",
    "  labels_col        = c(\"carcass\", \"head\", \"ovaries\", \"rep. tract\"),\n",
    "  show_colnames     = TRUE,\n",
    "  show_rownames     = FALSE,\n",
    "  annotation_row    = virgin.factor.labeling,\n",
    "  annotation_colors = mat_colors,\n",
    "  drop_levels       = TRUE,\n",
    "  annotation_names_row = F,\n",
    "#   main              = \"Default Heatmap\",\n",
    "#   filename          = \"Figures/tissue-biased_heatmap.pdf\",\n",
    "#   width             = 4, \n",
    "#   height            = 5,\n",
    "  fontsize          = 13    \n",
    ")"
   ]
  },
  {
   "cell_type": "markdown",
   "metadata": {
    "collapsed": true
   },
   "source": [
    "#### Gene Ontology"
   ]
  },
  {
   "cell_type": "markdown",
   "metadata": {
    "collapsed": true
   },
   "source": [
    "Process the gene length information and GO annotation files for GOseq:"
   ]
  },
  {
   "cell_type": "code",
   "execution_count": 81,
   "metadata": {
    "collapsed": true
   },
   "outputs": [],
   "source": [
    "GO_info_listed = apply(GOinfo_annotated, 1, function(x) unlist(strsplit(x,',')))\n",
    "names(GO_info_listed) = rownames(GOinfo_annotated)\n",
    "features_with_GO = rownames(GOinfo_annotated)\n",
    "lengths_features_with_GO = a.gene_lengths[features_with_GO,]\n",
    "get_GO_term_descr =  function(x) {\n",
    "    d = 'none';\n",
    "    go_info = GOTERM[[x]];\n",
    "    if (length(go_info) >0) { d = paste(Ontology(go_info), Term(go_info), sep=' ');}\n",
    "    return(d);\n",
    "}"
   ]
  },
  {
   "cell_type": "markdown",
   "metadata": {},
   "source": [
    "We'll process some of this and come up with the null expectation for GO terms, then plot the proportion of tissue-biased genes as a function of those biased in bins of 200:"
   ]
  },
  {
   "cell_type": "code",
   "execution_count": 82,
   "metadata": {},
   "outputs": [
    {
     "name": "stderr",
     "output_type": "stream",
     "text": [
      "Warning message in pcls(G):\n",
      "\"initial point very close to some inequality constraints\""
     ]
    },
    {
     "data": {
      "image/png": "[encoded data removed]",
      "text/plain": [
       "plot without title"
      ]
     },
     "metadata": {},
     "output_type": "display_data"
    }
   ],
   "source": [
    "# build pwf based on ALL DE features\n",
    "options(repr.plot.width = 6, repr.plot.height = 3)\n",
    "cat_genes_vec = as.integer(features_with_GO %in% rownames(virgin.factor.labeling))\n",
    "pwf=nullp(DEgenes = cat_genes_vec, bias.data=lengths_features_with_GO)\n",
    "rownames(pwf) = names(GO_info_listed)"
   ]
  },
  {
   "cell_type": "markdown",
   "metadata": {
    "collapsed": true
   },
   "source": [
    "That looks fine. Now we'll process each tissue biased category of genes in a for-loop to identify enriched GO terms and their FDR values:"
   ]
  },
  {
   "cell_type": "code",
   "execution_count": 83,
   "metadata": {
    "collapsed": true
   },
   "outputs": [],
   "source": [
    "GO_enriched_list = list()\n",
    "\n",
    "invisible(suppressWarnings(suppressMessages(\n",
    "for (feature_cat in virgin.factor_list) {\n",
    "    message('Processing category: ', feature_cat)\n",
    "    cat_genes_vec = as.integer(features_with_GO %in% rownames(virgin.factor.labeling)[virgin.factor.labeling$tissue_bias == feature_cat])\n",
    "    pwf$DEgenes = cat_genes_vec\n",
    "    res = goseq(pwf,gene2cat=GO_info_listed)\n",
    "    ## over-represented categories:\n",
    "    pvals = res$over_represented_pvalue\n",
    "    pvals[pvals > 1 -1e-10] = 1-1e-10\n",
    "    q = qvalue(pvals)\n",
    "    res$over_represented_FDR = q$qvalues\n",
    "    go_enrich_factor = feature_cat\n",
    "    enrich_result_table = res[res$over_represented_pvalue<=0.05,]\n",
    "    descr = unlist(lapply(enrich_result_table$category, get_GO_term_descr))\n",
    "    enrich_result_table$go_term = descr\n",
    "    enrich_result_table$factor = go_enrich_factor\n",
    "    GO_enriched_list[[feature_cat]] = enrich_result_table\n",
    "}\n",
    ")))\n",
    "\n",
    "GO_enrichment_data = rbindlist(GO_enriched_list)"
   ]
  },
  {
   "cell_type": "markdown",
   "metadata": {},
   "source": [
    "Output the significant GO terms to the Results folder:"
   ]
  },
  {
   "cell_type": "code",
   "execution_count": 84,
   "metadata": {
    "collapsed": true
   },
   "outputs": [],
   "source": [
    "write.table(subset(GO_enrichment_data, over_represented_FDR < 0.05), \"Results/GO_analyses/GO_results-female_tissue-biased_genes_aBT2.txt\", quote = F, sep = \"\\t\", row.names = F)"
   ]
  },
  {
   "cell_type": "markdown",
   "metadata": {},
   "source": [
    "Let's look at some of the enriched terms in the reproductive tract. First, Molecular function:"
   ]
  },
  {
   "cell_type": "code",
   "execution_count": 85,
   "metadata": {},
   "outputs": [
    {
     "data": {
      "text/html": [
       "<table>\n",
       "<thead><tr><th scope=col>category</th><th scope=col>term</th><th scope=col>numDEInCat</th></tr></thead>\n",
       "<tbody>\n",
       "\t<tr><td>GO:0042302                                           </td><td>structural constituent of cuticle                    </td><td>10                                                   </td></tr>\n",
       "\t<tr><td>GO:0022857                                           </td><td>transmembrane transporter activity                   </td><td>33                                                   </td></tr>\n",
       "\t<tr><td>GO:0022891                                           </td><td>substrate-specific transmembrane transporter activity</td><td>29                                                   </td></tr>\n",
       "\t<tr><td>GO:0004252                                           </td><td>serine-type endopeptidase activity                   </td><td>13                                                   </td></tr>\n",
       "\t<tr><td>GO:0005215                                           </td><td>transporter activity                                 </td><td>35                                                   </td></tr>\n",
       "</tbody>\n",
       "</table>\n"
      ],
      "text/latex": [
       "\\begin{tabular}{r|lll}\n",
       " category & term & numDEInCat\\\\\n",
       "\\hline\n",
       "\t GO:0042302                                            & structural constituent of cuticle                     & 10                                                   \\\\\n",
       "\t GO:0022857                                            & transmembrane transporter activity                    & 33                                                   \\\\\n",
       "\t GO:0022891                                            & substrate-specific transmembrane transporter activity & 29                                                   \\\\\n",
       "\t GO:0004252                                            & serine-type endopeptidase activity                    & 13                                                   \\\\\n",
       "\t GO:0005215                                            & transporter activity                                  & 35                                                   \\\\\n",
       "\\end{tabular}\n"
      ],
      "text/markdown": [
       "\n",
       "category | term | numDEInCat | \n",
       "|---|---|---|---|---|\n",
       "| GO:0042302                                            | structural constituent of cuticle                     | 10                                                    | \n",
       "| GO:0022857                                            | transmembrane transporter activity                    | 33                                                    | \n",
       "| GO:0022891                                            | substrate-specific transmembrane transporter activity | 29                                                    | \n",
       "| GO:0004252                                            | serine-type endopeptidase activity                    | 13                                                    | \n",
       "| GO:0005215                                            | transporter activity                                  | 35                                                    | \n",
       "\n",
       "\n"
      ],
      "text/plain": [
       "  category   term                                                  numDEInCat\n",
       "1 GO:0042302 structural constituent of cuticle                     10        \n",
       "2 GO:0022857 transmembrane transporter activity                    33        \n",
       "3 GO:0022891 substrate-specific transmembrane transporter activity 29        \n",
       "4 GO:0004252 serine-type endopeptidase activity                    13        \n",
       "5 GO:0005215 transporter activity                                  35        "
      ]
     },
     "metadata": {},
     "output_type": "display_data"
    }
   ],
   "source": [
    "subset(GO_enrichment_data, ontology == \"MF\" & over_represented_FDR < 0.05 & factor == \"RT-biased\")[,c(\"category\",\"term\",\"numDEInCat\")]"
   ]
  },
  {
   "cell_type": "markdown",
   "metadata": {},
   "source": [
    "Some interesting terms here include \"transporter activity\", \"serine-type endopeptidase activity\", and \"structural constituent of cuticle\". We'll output individual gene expression plots for each of those categories:"
   ]
  },
  {
   "cell_type": "code",
   "execution_count": 86,
   "metadata": {},
   "outputs": [],
   "source": [
    "# RT_biased_transport_genes = extract_GO_genes(go_term = \"GO:0005215\", gene_set = repTract.list)\n",
    "# RT_biased_transport_genes_boxPlots = suppressMessages(lapply(RT_biased_transport_genes, geneBoxPlot, object = tpmTable_bt2.fbgn))\n",
    "# ggsave(\"Results/Plots/RT-biased_transport_proteins.pdf\", marrangeGrob(grobs = RT_biased_transport_genes_boxPlots, nrow = 3, ncol =1))"
   ]
  },
  {
   "cell_type": "code",
   "execution_count": 87,
   "metadata": {},
   "outputs": [],
   "source": [
    "# RT_biased_endopeptidase_genes = extract_GO_genes(go_term = \"GO:0004252\", gene_set = repTract.list)\n",
    "# RT_biased_endopeptidase_genes_boxPlots = suppressMessages(lapply(RT_biased_endopeptidase_genes, geneBoxPlot, object = tpmTable_bt2.fbgn))\n",
    "# ggsave(\"Results/Plots/RT-biased_endopeptidase_proteins.pdf\", marrangeGrob(grobs = RT_biased_endopeptidase_genes_boxPlots, nrow = 3, ncol =1))"
   ]
  },
  {
   "cell_type": "code",
   "execution_count": 88,
   "metadata": {},
   "outputs": [],
   "source": [
    "# RT_biased_cuticle_genes = extract_GO_genes(go_term = \"GO:0042302\", gene_set = repTract.list)\n",
    "# RT_biased_cuticle_genes_boxPlots = suppressMessages(lapply(RT_biased_cuticle_genes, geneBoxPlot, object = tpmTable_bt2.fbgn))\n",
    "# ggsave(\"Results/Plots/RT-biased_cuticle_proteins.pdf\", marrangeGrob(grobs = RT_biased_cuticle_genes_boxPlots, nrow = 3, ncol =1))"
   ]
  },
  {
   "cell_type": "markdown",
   "metadata": {},
   "source": [
    "Now let's look at the genes in the Biological Process categories:"
   ]
  },
  {
   "cell_type": "code",
   "execution_count": 89,
   "metadata": {
    "scrolled": false
   },
   "outputs": [
    {
     "data": {
      "text/html": [
       "<table>\n",
       "<thead><tr><th scope=col>category</th><th scope=col>term</th><th scope=col>numDEInCat</th></tr></thead>\n",
       "<tbody>\n",
       "\t<tr><td>GO:0055085                        </td><td>transmembrane transport           </td><td>31                                </td></tr>\n",
       "\t<tr><td>GO:0014706                        </td><td>striated muscle tissue development</td><td> 7                                </td></tr>\n",
       "\t<tr><td>GO:0048513                        </td><td>animal organ development          </td><td>32                                </td></tr>\n",
       "\t<tr><td>GO:0060537                        </td><td>muscle tissue development         </td><td> 7                                </td></tr>\n",
       "\t<tr><td>GO:0007617                        </td><td>mating behavior                   </td><td> 6                                </td></tr>\n",
       "\t<tr><td>GO:0009888                        </td><td>tissue development                </td><td>20                                </td></tr>\n",
       "</tbody>\n",
       "</table>\n"
      ],
      "text/latex": [
       "\\begin{tabular}{r|lll}\n",
       " category & term & numDEInCat\\\\\n",
       "\\hline\n",
       "\t GO:0055085                         & transmembrane transport            & 31                                \\\\\n",
       "\t GO:0014706                         & striated muscle tissue development &  7                                \\\\\n",
       "\t GO:0048513                         & animal organ development           & 32                                \\\\\n",
       "\t GO:0060537                         & muscle tissue development          &  7                                \\\\\n",
       "\t GO:0007617                         & mating behavior                    &  6                                \\\\\n",
       "\t GO:0009888                         & tissue development                 & 20                                \\\\\n",
       "\\end{tabular}\n"
      ],
      "text/markdown": [
       "\n",
       "category | term | numDEInCat | \n",
       "|---|---|---|---|---|---|\n",
       "| GO:0055085                         | transmembrane transport            | 31                                 | \n",
       "| GO:0014706                         | striated muscle tissue development |  7                                 | \n",
       "| GO:0048513                         | animal organ development           | 32                                 | \n",
       "| GO:0060537                         | muscle tissue development          |  7                                 | \n",
       "| GO:0007617                         | mating behavior                    |  6                                 | \n",
       "| GO:0009888                         | tissue development                 | 20                                 | \n",
       "\n",
       "\n"
      ],
      "text/plain": [
       "  category   term                               numDEInCat\n",
       "1 GO:0055085 transmembrane transport            31        \n",
       "2 GO:0014706 striated muscle tissue development  7        \n",
       "3 GO:0048513 animal organ development           32        \n",
       "4 GO:0060537 muscle tissue development           7        \n",
       "5 GO:0007617 mating behavior                     6        \n",
       "6 GO:0009888 tissue development                 20        "
      ]
     },
     "metadata": {},
     "output_type": "display_data"
    }
   ],
   "source": [
    "subset(GO_enrichment_data, ontology == \"BP\" & over_represented_FDR < 0.05 & factor == \"RT-biased\")[,c(\"category\",\"term\",\"numDEInCat\")]"
   ]
  },
  {
   "cell_type": "markdown",
   "metadata": {},
   "source": [
    "Potentially lots of overlap between genes in this ontology class and the MF ontology class, but the \"mating behaviour\" category is interesting. We'll make a plot object for those:."
   ]
  },
  {
   "cell_type": "code",
   "execution_count": 90,
   "metadata": {},
   "outputs": [],
   "source": [
    "# RT_biased_mating_behavior_genes = extract_GO_genes(go_term = \"GO:0007617\", gene_set = repTract.list)\n",
    "# RT_biased_mating_behavior_genes_boxPlots = suppressMessages(lapply(RT_biased_mating_behavior_genes, geneBoxPlot, object = tpmTable_bt2.fbgn))\n",
    "# ggsave(\"Results/Plots/RT-biased_mating_behavior_proteins.pdf\", marrangeGrob(grobs = RT_biased_mating_behavior_genes_boxPlots, nrow = 3, ncol =1))"
   ]
  },
  {
   "cell_type": "markdown",
   "metadata": {},
   "source": [
    "... and the Cellular Component category"
   ]
  },
  {
   "cell_type": "code",
   "execution_count": 91,
   "metadata": {
    "scrolled": false
   },
   "outputs": [
    {
     "data": {
      "text/html": [
       "<table>\n",
       "<thead><tr><th scope=col>category</th><th scope=col>term</th><th scope=col>numDEInCat</th></tr></thead>\n",
       "<tbody>\n",
       "\t<tr><td>GO:0005615                     </td><td>extracellular space            </td><td>27                             </td></tr>\n",
       "\t<tr><td>GO:0005576                     </td><td>extracellular region           </td><td>35                             </td></tr>\n",
       "\t<tr><td>GO:0044459                     </td><td>plasma membrane part           </td><td>40                             </td></tr>\n",
       "\t<tr><td>GO:0044449                     </td><td>contractile fiber part         </td><td>10                             </td></tr>\n",
       "\t<tr><td>GO:0030018                     </td><td>Z disc                         </td><td> 8                             </td></tr>\n",
       "\t<tr><td>GO:0016324                     </td><td>apical plasma membrane         </td><td>11                             </td></tr>\n",
       "\t<tr><td>GO:0044421                     </td><td>extracellular region part      </td><td>39                             </td></tr>\n",
       "\t<tr><td>GO:0030017                     </td><td>sarcomere                      </td><td> 5                             </td></tr>\n",
       "\t<tr><td>GO:0031224                     </td><td>intrinsic component of membrane</td><td>73                             </td></tr>\n",
       "\t<tr><td>GO:0005859                     </td><td>muscle myosin complex          </td><td> 4                             </td></tr>\n",
       "</tbody>\n",
       "</table>\n"
      ],
      "text/latex": [
       "\\begin{tabular}{r|lll}\n",
       " category & term & numDEInCat\\\\\n",
       "\\hline\n",
       "\t GO:0005615                      & extracellular space             & 27                             \\\\\n",
       "\t GO:0005576                      & extracellular region            & 35                             \\\\\n",
       "\t GO:0044459                      & plasma membrane part            & 40                             \\\\\n",
       "\t GO:0044449                      & contractile fiber part          & 10                             \\\\\n",
       "\t GO:0030018                      & Z disc                          &  8                             \\\\\n",
       "\t GO:0016324                      & apical plasma membrane          & 11                             \\\\\n",
       "\t GO:0044421                      & extracellular region part       & 39                             \\\\\n",
       "\t GO:0030017                      & sarcomere                       &  5                             \\\\\n",
       "\t GO:0031224                      & intrinsic component of membrane & 73                             \\\\\n",
       "\t GO:0005859                      & muscle myosin complex           &  4                             \\\\\n",
       "\\end{tabular}\n"
      ],
      "text/markdown": [
       "\n",
       "category | term | numDEInCat | \n",
       "|---|---|---|---|---|---|---|---|---|---|\n",
       "| GO:0005615                      | extracellular space             | 27                              | \n",
       "| GO:0005576                      | extracellular region            | 35                              | \n",
       "| GO:0044459                      | plasma membrane part            | 40                              | \n",
       "| GO:0044449                      | contractile fiber part          | 10                              | \n",
       "| GO:0030018                      | Z disc                          |  8                              | \n",
       "| GO:0016324                      | apical plasma membrane          | 11                              | \n",
       "| GO:0044421                      | extracellular region part       | 39                              | \n",
       "| GO:0030017                      | sarcomere                       |  5                              | \n",
       "| GO:0031224                      | intrinsic component of membrane | 73                              | \n",
       "| GO:0005859                      | muscle myosin complex           |  4                              | \n",
       "\n",
       "\n"
      ],
      "text/plain": [
       "   category   term                            numDEInCat\n",
       "1  GO:0005615 extracellular space             27        \n",
       "2  GO:0005576 extracellular region            35        \n",
       "3  GO:0044459 plasma membrane part            40        \n",
       "4  GO:0044449 contractile fiber part          10        \n",
       "5  GO:0030018 Z disc                           8        \n",
       "6  GO:0016324 apical plasma membrane          11        \n",
       "7  GO:0044421 extracellular region part       39        \n",
       "8  GO:0030017 sarcomere                        5        \n",
       "9  GO:0031224 intrinsic component of membrane 73        \n",
       "10 GO:0005859 muscle myosin complex            4        "
      ]
     },
     "metadata": {},
     "output_type": "display_data"
    }
   ],
   "source": [
    "subset(GO_enrichment_data, ontology == \"CC\" & over_represented_FDR < 0.05 & factor == \"RT-biased\")[,c(\"category\",\"term\",\"numDEInCat\")]"
   ]
  },
  {
   "cell_type": "markdown",
   "metadata": {},
   "source": [
    "We should also output individual gene plots for those ≥10-fold biased RT genes"
   ]
  },
  {
   "cell_type": "code",
   "execution_count": 92,
   "metadata": {},
   "outputs": [
    {
     "name": "stderr",
     "output_type": "stream",
     "text": [
      "Saving 7 x 7 in image\n"
     ]
    }
   ],
   "source": [
    "# RT_biased_10fold_genes_boxPlots = suppressMessages(lapply(repTract.list.10fold, geneBoxPlot, object = tpmTable_bt2.fbgn))\n",
    "# ggsave(\"Results/Plots/RT_biased_10fold_genes.pdf\", marrangeGrob(grobs = RT_biased_10fold_genes_boxPlots, nrow = 3, ncol =1))"
   ]
  },
  {
   "cell_type": "markdown",
   "metadata": {},
   "source": [
    "Let's plot the _Ka/Ks_ values of RT-biased genes along chromosomes. First we'll make a table containing all the relevant data:"
   ]
  },
  {
   "cell_type": "code",
   "execution_count": 93,
   "metadata": {
    "collapsed": true
   },
   "outputs": [],
   "source": [
    "AN_KaKs_data = (filter(KaKs.data, COMPARISON == \"D.amr_vs_D.nov\" & Ks > 0.0003))\n",
    "AN_KaKs_data = merge(AN_KaKs_data, FBgn_to_FBtr, by.x = \"FBtr_ID\", by.y = \"FBtr_ID\", all.x = TRUE)\n",
    "AN_KaKs_data = merge(AN_KaKs_data, dv1.06_features, by.x = \"FBgn_ID\", by.y = \"FBgn_ID\", all.x = T)\n",
    "AN_KaKs_data = merge(AN_KaKs_data, annot.sum, by.x = \"FBgn_ID\", by.y = \"FBgn_ID\", all.x = T)\n",
    "AN_KaKs_data$status = ifelse(AN_KaKs_data$FBgn_ID %in% repTract.list.4fold, \"RT-biased\", ifelse(AN_KaKs_data$FBgn_ID %in% AG_biased, \"AG-biased\", ifelse(AN_KaKs_data$FBgn_ID %in% SFPs, \"SFPs\", \"all\")))\n",
    "AN_KaKs_data$KaKs = AN_KaKs_data$`Ka/Ks`"
   ]
  },
  {
   "cell_type": "markdown",
   "metadata": {},
   "source": [
    "Run a statistical test:"
   ]
  },
  {
   "cell_type": "code",
   "execution_count": 94,
   "metadata": {},
   "outputs": [
    {
     "data": {
      "text/html": [
       "<table>\n",
       "<thead><tr><th scope=col>.y.</th><th scope=col>group1</th><th scope=col>group2</th><th scope=col>p</th><th scope=col>p.adj</th><th scope=col>p.format</th><th scope=col>p.signif</th><th scope=col>method</th></tr></thead>\n",
       "<tbody>\n",
       "\t<tr><td>KaKs        </td><td>all         </td><td>RT-biased   </td><td>8.112527e-01</td><td>8.1e-01     </td><td>0.811       </td><td>ns          </td><td>Wilcoxon    </td></tr>\n",
       "\t<tr><td>KaKs        </td><td>all         </td><td>SFPs        </td><td>4.418815e-14</td><td>2.7e-13     </td><td>4.4e-14     </td><td>****        </td><td>Wilcoxon    </td></tr>\n",
       "\t<tr><td>KaKs        </td><td>all         </td><td>AG-biased   </td><td>6.575736e-08</td><td>2.6e-07     </td><td>6.6e-08     </td><td>****        </td><td>Wilcoxon    </td></tr>\n",
       "\t<tr><td>KaKs        </td><td>RT-biased   </td><td>SFPs        </td><td>9.493739e-14</td><td>4.7e-13     </td><td>9.5e-14     </td><td>****        </td><td>Wilcoxon    </td></tr>\n",
       "\t<tr><td>KaKs        </td><td>RT-biased   </td><td>AG-biased   </td><td>4.792568e-07</td><td>1.4e-06     </td><td>4.8e-07     </td><td>****        </td><td>Wilcoxon    </td></tr>\n",
       "\t<tr><td>KaKs        </td><td>SFPs        </td><td>AG-biased   </td><td>2.610524e-02</td><td>5.2e-02     </td><td>0.026       </td><td>*           </td><td>Wilcoxon    </td></tr>\n",
       "</tbody>\n",
       "</table>\n"
      ],
      "text/latex": [
       "\\begin{tabular}{r|llllllll}\n",
       " .y. & group1 & group2 & p & p.adj & p.format & p.signif & method\\\\\n",
       "\\hline\n",
       "\t KaKs         & all          & RT-biased    & 8.112527e-01 & 8.1e-01      & 0.811        & ns           & Wilcoxon    \\\\\n",
       "\t KaKs         & all          & SFPs         & 4.418815e-14 & 2.7e-13      & 4.4e-14      & ****         & Wilcoxon    \\\\\n",
       "\t KaKs         & all          & AG-biased    & 6.575736e-08 & 2.6e-07      & 6.6e-08      & ****         & Wilcoxon    \\\\\n",
       "\t KaKs         & RT-biased    & SFPs         & 9.493739e-14 & 4.7e-13      & 9.5e-14      & ****         & Wilcoxon    \\\\\n",
       "\t KaKs         & RT-biased    & AG-biased    & 4.792568e-07 & 1.4e-06      & 4.8e-07      & ****         & Wilcoxon    \\\\\n",
       "\t KaKs         & SFPs         & AG-biased    & 2.610524e-02 & 5.2e-02      & 0.026        & *            & Wilcoxon    \\\\\n",
       "\\end{tabular}\n"
      ],
      "text/markdown": [
       "\n",
       ".y. | group1 | group2 | p | p.adj | p.format | p.signif | method | \n",
       "|---|---|---|---|---|---|\n",
       "| KaKs         | all          | RT-biased    | 8.112527e-01 | 8.1e-01      | 0.811        | ns           | Wilcoxon     | \n",
       "| KaKs         | all          | SFPs         | 4.418815e-14 | 2.7e-13      | 4.4e-14      | ****         | Wilcoxon     | \n",
       "| KaKs         | all          | AG-biased    | 6.575736e-08 | 2.6e-07      | 6.6e-08      | ****         | Wilcoxon     | \n",
       "| KaKs         | RT-biased    | SFPs         | 9.493739e-14 | 4.7e-13      | 9.5e-14      | ****         | Wilcoxon     | \n",
       "| KaKs         | RT-biased    | AG-biased    | 4.792568e-07 | 1.4e-06      | 4.8e-07      | ****         | Wilcoxon     | \n",
       "| KaKs         | SFPs         | AG-biased    | 2.610524e-02 | 5.2e-02      | 0.026        | *            | Wilcoxon     | \n",
       "\n",
       "\n"
      ],
      "text/plain": [
       "  .y.  group1    group2    p            p.adj   p.format p.signif method  \n",
       "1 KaKs all       RT-biased 8.112527e-01 8.1e-01 0.811    ns       Wilcoxon\n",
       "2 KaKs all       SFPs      4.418815e-14 2.7e-13 4.4e-14  ****     Wilcoxon\n",
       "3 KaKs all       AG-biased 6.575736e-08 2.6e-07 6.6e-08  ****     Wilcoxon\n",
       "4 KaKs RT-biased SFPs      9.493739e-14 4.7e-13 9.5e-14  ****     Wilcoxon\n",
       "5 KaKs RT-biased AG-biased 4.792568e-07 1.4e-06 4.8e-07  ****     Wilcoxon\n",
       "6 KaKs SFPs      AG-biased 2.610524e-02 5.2e-02 0.026    *        Wilcoxon"
      ]
     },
     "metadata": {},
     "output_type": "display_data"
    }
   ],
   "source": [
    "KaKs.test <- as.data.frame(compare_means(\n",
    " KaKs ~ status, data = AN_KaKs_data,\n",
    " method = \"wilcox.test\"\n",
    "))\n",
    "# (KaKs.test <- filter(KaKs.test, group1 == \"RT-biased\"))\n",
    "KaKs.test"
   ]
  },
  {
   "cell_type": "markdown",
   "metadata": {},
   "source": [
    "Now make a plot:"
   ]
  },
  {
   "cell_type": "code",
   "execution_count": 95,
   "metadata": {},
   "outputs": [
    {
     "data": {},
     "metadata": {},
     "output_type": "display_data"
    },
    {
     "data": {
      "image/png": "[encoded data removed]",
      "text/plain": [
       "plot without title"
      ]
     },
     "metadata": {},
     "output_type": "display_data"
    }
   ],
   "source": [
    "KaKs_comparisons <- list( c(\"RT-biased\", \"all\"), c(\"RT-biased\", \"SFPs\"), c(\"RT-biased\", \"AG-biased\") )\n",
    "\n",
    "KaKs_y_title <- expression(paste(italic(\"Ka/Ks\")))\n",
    "\n",
    "options(repr.plot.width = 3, repr.plot.height = 2.5)\n",
    "# pdf(\"Figures/mean_KaKs.pdf\", width = 3, height = 2.5)\n",
    "(fig2D = ggerrorplot(AN_KaKs_data, \n",
    "            x = \"status\", \n",
    "            y = \"Ka/Ks\", \n",
    "            color = \"status\",\n",
    "            add = \"mean\", \n",
    "#             desc_stat = \"mean_ci\",\n",
    "            error.plot = \"errorbar\",\n",
    "            ggtheme = theme_bw(),\n",
    "            palette = c(\"#00AFBB\", \"#E7B800\", \"#FC4E07\", \"#8176cc\")\n",
    "           ) +\n",
    "        theme(axis.text.x = element_text(angle = 45, hjust = 1, size = 12), \n",
    "              legend.position = \"none\", \n",
    "              axis.title.x = element_blank(), \n",
    "              axis.text.y = element_text(size = 12)) +\n",
    "#               stat_pvalue_manual(KaKs.test, label = \"p.adj\") +\n",
    "        stat_compare_means(ref.group = \"RT-biased\", \n",
    "                           method = \"wilcox.test\", \n",
    "                           label.y = 0.25, \n",
    "                           aes(label = ..p.signif..), color = \"red\"\n",
    "                          )  +\n",
    "#         scale_y_continuous(values = c(0.15,0.42)) +\n",
    "        labs(y = KaKs_y_title))\n",
    "        \n",
    "# dev.off()"
   ]
  },
  {
   "cell_type": "markdown",
   "metadata": {},
   "source": [
    "Let's plot omega across the genome:"
   ]
  },
  {
   "cell_type": "code",
   "execution_count": 96,
   "metadata": {
    "collapsed": true
   },
   "outputs": [],
   "source": [
    "newData = merge(paml2.data, FBgn_to_FBtr, by.x = \"FBtr_ID\", by.y = \"FBtr_ID\", all.x = TRUE)\n",
    "newData = merge(newData, dv1.06_features, by.x = \"FBgn_ID\", by.y = \"FBgn_ID\", all.x = T)\n",
    "newData = merge(newData, annot.sum, by.x = \"FBgn_ID\", by.y = \"FBgn_ID\", all.x = T)"
   ]
  },
  {
   "cell_type": "code",
   "execution_count": 97,
   "metadata": {},
   "outputs": [
    {
     "name": "stderr",
     "output_type": "stream",
     "text": [
      "Warning message:\n",
      "\"Removed 2 rows containing missing values (geom_point).\""
     ]
    },
    {
     "data": {},
     "metadata": {},
     "output_type": "display_data"
    },
    {
     "data": {
      "image/png": "[encoded data removed]",
      "text/plain": [
       "plot without title"
      ]
     },
     "metadata": {},
     "output_type": "display_data"
    }
   ],
   "source": [
    "options(repr.plot.width = 10, repr.plot.height = 2.5)\n",
    "omega_y_title <- expression(paste(italic(omega)))\n",
    "newData$chromosome = gsub(\"Chr_\", \"Chr. \", newData$chromosome)\n",
    "\n",
    "newData$sig = ifelse(newData$Dvir_FDR < 0.01, \"yes\", \"no\")\n",
    "# pdf(\"Figures/KaKs_RT-biased_chromosomes.pdf\", width = 10, height = 2.5)\n",
    "(fig2E = ggplot(filter(newData, grepl(\"Chr\", chromosome) & chromosome != \"Chr. 6\" & FBgn_ID %in% repTract.list & sig == \"no\"), aes(min, omega, size = -log10(Dvir_FDR))) + \n",
    "    geom_point(alpha = 0.4, colour = \"#a7c814\") + \n",
    "    geom_point(data =filter(newData, grepl(\"Chr\", chromosome) & chromosome != \"Chr. 6\" & FBgn_ID %in% repTract.list & sig == \"yes\"), colour = \"#e43eba\") +\n",
    "    facet_grid(.~chromosome, scales = \"free_x\") + \n",
    "    geom_hline(yintercept = 1, linetype = \"dashed\") +\n",
    "    scale_x_continuous(breaks=seq(from=0, to=30e6, by = 10e6), labels=as.character(seq(0,30,10))) +\n",
    "#     geom_text_repel(data = filter(newData, grepl(\"Chr\", chromosome) & chromosome != \"Chr. 6\" & FBgn_ID %in% repTract.list & Dvir_FDR < 0.01), aes(label = gene_name.x), size = 4, fontface = \"bold.italic\", force = 1, colour = \"black\") +\n",
    "    labs(x = \"coordinates (Mb)\", y = omega_y_title) +\n",
    "    guides(size=guide_legend(title=\"-log10(FDR)\\n(branch-site LRT)\"))+\n",
    "    theme(strip.background =  element_rect(colour = \"white\", fill = \"white\")))\n",
    "# dev.off()"
   ]
  },
  {
   "cell_type": "markdown",
   "metadata": {},
   "source": [
    "Now let's plot the percent identity for cDNA and protein of these gene categories. First add some conditional columns:"
   ]
  },
  {
   "cell_type": "code",
   "execution_count": 98,
   "metadata": {
    "collapsed": true
   },
   "outputs": [],
   "source": [
    "KaKs.data$status = ifelse(KaKs.data$FBtr_ID %in% filter(FBgn_to_FBtr, FBgn_ID %in% repTract.list.4fold)$FBtr_ID, \"RT-biased\", ifelse(KaKs.data$FBtr_ID %in% filter(FBgn_to_FBtr, FBgn_ID %in% AG_biased)$FBtr_ID, \"AG-biased\", ifelse(KaKs.data$FBtr_ID %in% filter(FBgn_to_FBtr, FBgn_ID %in% TS_biased)$FBtr_ID, \"testes-biased\", ifelse(KaKs.data$FBtr_ID %in% filter(FBgn_to_FBtr, FBgn_ID %in% EB_biased)$FBtr_ID, \"EB-biased\", ifelse(KaKs.data$FBtr_ID %in% filter(FBgn_to_FBtr, FBgn_ID %in% ovaries.list.4fold)$FBtr_ID, \"OV-biased\", ifelse(KaKs.data$FBtr_ID %in% filter(FBgn_to_FBtr, FBgn_ID %in% SFPs)$FBtr_ID, \"SFPs\", \"all\"))))))"
   ]
  },
  {
   "cell_type": "code",
   "execution_count": 99,
   "metadata": {},
   "outputs": [
    {
     "data": {},
     "metadata": {},
     "output_type": "display_data"
    },
    {
     "data": {
      "image/png": "[encoded data removed]",
      "text/plain": [
       "plot without title"
      ]
     },
     "metadata": {},
     "output_type": "display_data"
    }
   ],
   "source": [
    "options(repr.plot.width = 3, repr.plot.height = 2.5)\n",
    "\n",
    "# pdf(\"Figures/percent_identity.pdf\", width = 3, height = 2.5)\n",
    "(fig2C = ggerrorplot(filter(KaKs.data, COMPARISON == \"D.amr_vs_D.nov\" & (status == \"all\" | status == \"AG-biased\" | status == \"RT-biased\" | status == \"SFPs\")), \n",
    "            x = \"status\", \n",
    "            y = \"PROT_PERCENTID\", \n",
    "            color = \"status\",\n",
    "            add = \"mean\", \n",
    "            error.plot = \"errorbar\",\n",
    "            desc_stat = \"mean_ci\",\n",
    "            ggtheme = theme_bw(),\n",
    "            palette = c(\"#00AFBB\", \"#E7B800\", \"#FC4E07\", \"#8176cc\")\n",
    "           ) +\n",
    "        theme(axis.text.x = element_text(angle = 45, hjust = 1, size = 12), \n",
    "              legend.position = \"none\", \n",
    "              axis.title.x = element_blank(), \n",
    "              axis.text.y = element_text(size = 12)) +\n",
    "#               stat_pvalue_manual(KaKs.test, label = \"p.adj\") +\n",
    "        stat_compare_means(ref.group = \"RT-biased\", \n",
    "                           method = \"wilcox.test\", \n",
    "                           label.y = 99.75, \n",
    "                           aes(label = ..p.signif..), color = \"red\"\n",
    "                          )  +\n",
    "#         scale_y_continuous(values = c(0.15,0.42)) +\n",
    "        labs(x = \"Gene class\", y = \"% A.A. identity\"))\n",
    "        \n",
    "# dev.off()"
   ]
  },
  {
   "cell_type": "markdown",
   "metadata": {},
   "source": [
    "Finally, let's look at the chromosomal distribution of these gene categories:"
   ]
  },
  {
   "cell_type": "code",
   "execution_count": 100,
   "metadata": {
    "collapsed": true
   },
   "outputs": [],
   "source": [
    "TotalGeneNumber = as.data.frame(table(factor(subset(dv1.06_features, grepl(\"Chr\", chromosome))$chromosome)))\n",
    "colnames(TotalGeneNumber) = c(\"chromosome\", \"All genes\")\n",
    "total_genes = nrow(dv1.06_features)\n",
    "TotalGeneNumber$proportion = (TotalGeneNumber$`All genes`/total_genes)"
   ]
  },
  {
   "cell_type": "markdown",
   "metadata": {},
   "source": [
    "Output tissue-biased data: (note to self: THIS IS UGLY!!! Figure out a way to make this more concise)."
   ]
  },
  {
   "cell_type": "code",
   "execution_count": 101,
   "metadata": {
    "collapsed": true
   },
   "outputs": [],
   "source": [
    "## SFPs\n",
    "genomeNumber.SFPs = length(SFPs)\n",
    "chromNumber.SFPs=as.data.frame(table(factor(subset(dv1.06_features, FBgn_ID %in% SFPs & grepl(\"Chr\", chromosome))$chromosome)))\n",
    "colnames(chromNumber.SFPs) = c(\"chromosome\", \"Observed_biased_genes\")\n",
    "chromNumber.SFPs$sex = \"male\"\n",
    "chromNumber.SFPs = merge(TotalGeneNumber, chromNumber.SFPs)\n",
    "chromNumber.SFPs$`Expected genes` = genomeNumber.SFPs*chromNumber.SFPs$proportion\n",
    "chromNumber.SFPs$`obs.exp` = chromNumber.SFPs$Observed_biased_genes/chromNumber.SFPs$`Expected genes`\n",
    "chromNumber.SFPs$`Gene category` = \"SFPs\"\n",
    "\n",
    "## AG_biased\n",
    "genomeNumber.AG_biased = length(AG_biased)\n",
    "chromNumber.AG_biased=as.data.frame(table(factor(subset(dv1.06_features, FBgn_ID %in% AG_biased & grepl(\"Chr\", chromosome))$chromosome)))\n",
    "colnames(chromNumber.AG_biased) = c(\"chromosome\", \"Observed_biased_genes\")\n",
    "chromNumber.AG_biased$sex = \"male\"\n",
    "chromNumber.AG_biased = merge(TotalGeneNumber, chromNumber.AG_biased)\n",
    "chromNumber.AG_biased$`Expected genes` = genomeNumber.AG_biased*chromNumber.AG_biased$proportion\n",
    "chromNumber.AG_biased$`obs.exp` = chromNumber.AG_biased$Observed_biased_genes/chromNumber.AG_biased$`Expected genes`\n",
    "chromNumber.AG_biased$`Gene category` = \"AG_biased\"\n",
    "\n",
    "## repTract.list.4fold\n",
    "genomeNumber.repTract = length(repTract.list.4fold)\n",
    "chromNumber.repTract=as.data.frame(table(factor(subset(dv1.06_features, FBgn_ID %in% repTract.list.4fold & grepl(\"Chr\", chromosome))$chromosome)))\n",
    "colnames(chromNumber.repTract) = c(\"chromosome\", \"Observed_biased_genes\")\n",
    "chromNumber.repTract$sex = \"female\"\n",
    "chromNumber.repTract = merge(TotalGeneNumber, chromNumber.repTract)\n",
    "chromNumber.repTract$`Expected genes` = genomeNumber.repTract*chromNumber.repTract$proportion\n",
    "chromNumber.repTract$`obs.exp` = chromNumber.repTract$Observed_biased_genes/chromNumber.repTract$`Expected genes`\n",
    "chromNumber.repTract$`Gene category` = \"RT_biased\"\n",
    "\n",
    "## ovaries.list\n",
    "genomeNumber.ovaries = length(ovaries.list.4fold)\n",
    "chromNumber.ovaries=as.data.frame(table(factor(subset(dv1.06_features, FBgn_ID %in% ovaries.list.4fold & grepl(\"Chr\", chromosome))$chromosome)))\n",
    "colnames(chromNumber.ovaries) = c(\"chromosome\", \"Observed_biased_genes\")\n",
    "chromNumber.ovaries$sex = \"female\"\n",
    "chromNumber.ovaries = merge(TotalGeneNumber, chromNumber.ovaries)\n",
    "chromNumber.ovaries$`Expected genes` = genomeNumber.ovaries*chromNumber.ovaries$proportion\n",
    "chromNumber.ovaries$`obs.exp` = chromNumber.ovaries$Observed_biased_genes/chromNumber.ovaries$`Expected genes`\n",
    "chromNumber.ovaries$`Gene category` = \"OV_biased\""
   ]
  },
  {
   "cell_type": "markdown",
   "metadata": {},
   "source": [
    "Combine the elements above and perform a Chi-square test:"
   ]
  },
  {
   "cell_type": "code",
   "execution_count": 102,
   "metadata": {
    "collapsed": true
   },
   "outputs": [],
   "source": [
    "tissue_biased.numbers = rbind(chromNumber.SFPs, chromNumber.AG_biased, chromNumber.repTract, chromNumber.ovaries)\n",
    "tissue_biased.numbers$`Gene category` = factor(tissue_biased.numbers$`Gene category`, levels = c(\"SFPs\", \"AG_biased\",\"RT_biased\", \"OV_biased\"))\n",
    "tissue_biased.numbers$Chr = gsub(\"Chr_\", \"\", tissue_biased.numbers$chromosome)\n",
    "tissue_biased.numbers$Chr = factor(tissue_biased.numbers$Chr, levels = c(\"X\", \"2\",\"3\", \"4\", \"5\"))\n",
    "\n",
    "tissue_biased.numbers$ChiSq = ((tissue_biased.numbers$Observed_biased_genes-tissue_biased.numbers$`Expected genes`)^2)/tissue_biased.numbers$`Expected genes`\n",
    "\n",
    "tissue_biased.numbers$pval = 1-(pchisq(tissue_biased.numbers$ChiSq, df = 1))\n",
    "tissue_biased.numbers$FDR = tissue_biased.numbers$pval*nrow(tissue_biased.numbers)\n",
    "\n",
    "tissue_biased.numbers$sigLabel = NULL\n",
    "tissue_biased.numbers$sigLabel = ifelse(tissue_biased.numbers$pval < 0.05 & tissue_biased.numbers$pval > 0.01, \"*\", ifelse(tissue_biased.numbers$pval < 0.01 & tissue_biased.numbers$pval > 0.001, \"**\", ifelse(tissue_biased.numbers$pval < 0.001, \"***\", \"\")))"
   ]
  },
  {
   "cell_type": "markdown",
   "metadata": {},
   "source": [
    "Now plot it:"
   ]
  },
  {
   "cell_type": "code",
   "execution_count": 103,
   "metadata": {},
   "outputs": [
    {
     "data": {},
     "metadata": {},
     "output_type": "display_data"
    },
    {
     "data": {
      "image/png": "[encoded data removed]",
      "text/plain": [
       "plot without title"
      ]
     },
     "metadata": {},
     "output_type": "display_data"
    }
   ],
   "source": [
    "options(repr.plot.width = 4, repr.plot.height = 3)\n",
    "# pdf(\"Figures/chromosome_distribution.pdf\", width = 4, height = 3)\n",
    "(fig2B = ggplot(filter(tissue_biased.numbers, chromosome != \"Chr_6\"), aes(Chr, obs.exp, fill = Chr)) +\n",
    "    facet_wrap(~`Gene category`) +\n",
    "    geom_bar(position=position_dodge(), stat=\"identity\", width = 0.8) +\n",
    "    geom_hline(yintercept = 1, linetype = \"dashed\") +\n",
    "    scale_fill_manual(values = c(\"#61d650\", \"#358bff\",\"#358bff\", \"#358bff\", \"#358bff\")) +\n",
    "    labs(x = \"Chromosome\", y = \"observed/expected\\n gene number\") +\n",
    "    geom_text(aes(label = sigLabel), size = 6, colour = \"red\", position=position_dodge(width = 0.8)) +\n",
    "    theme(legend.position = \"none\", strip.background = element_rect(fill = \"white\")) +\n",
    "    scale_y_continuous(limits=c(0,1.9)))\n",
    "# dev.off()"
   ]
  },
  {
   "cell_type": "markdown",
   "metadata": {},
   "source": [
    "Let's try to combine all of these into one figure:"
   ]
  },
  {
   "cell_type": "code",
   "execution_count": 104,
   "metadata": {
    "collapsed": true
   },
   "outputs": [],
   "source": [
    "# fig2bcd = plot_grid(fig2B, fig2C, fig2D, labels = c(\"B\", \"C\", \"D\"), scale = c(0.9, 0.9, 0.9), ncol = 3)\n",
    "# options(repr.plot.width = 10, repr.plot.height = 6)\n",
    "# (fig2bcde = plot_grid(fig2bcd, fig2E, labels = c(\"\", \"E\"), scale = c(1, 0.9), ncol = 1))\n",
    "# (fig2abcde = plot_grid(grid.arrange(grobs = list(fig2A[[4]])), fig2bcde, labels = c(\"A\", \"\"), scale = c(0.9, 1), ncol = 2, rel_widths = 0.3, 1))"
   ]
  },
  {
   "cell_type": "markdown",
   "metadata": {},
   "source": [
    "## Reproductive tract post-mating contrasts:"
   ]
  },
  {
   "cell_type": "markdown",
   "metadata": {},
   "source": [
    "POST-HOC... after checking the grouping of replicates below, there are a couple of rogue replicates that we can remove for the remainder of this part of the analysis (these seem to have had an ovary in them that skewes expression in ovary biased genes):"
   ]
  },
  {
   "cell_type": "code",
   "execution_count": null,
   "metadata": {
    "collapsed": true
   },
   "outputs": [],
   "source": [
    "## Define good replicates\n",
    "RT_GoodReps = as.character(subset(sampleInfo, Replicate != \"Female_H3_RT_1\" & Replicate != \"Female_H6_RT_1\" & Tissue == \"repTract\")$Replicate)\n",
    "RT_GoodReps = gsub(\"Female_\", \"\", RT_GoodReps)"
   ]
  },
  {
   "cell_type": "markdown",
   "metadata": {},
   "source": [
    "Create RT-specific count matrix "
   ]
  },
  {
   "cell_type": "code",
   "execution_count": null,
   "metadata": {
    "collapsed": true
   },
   "outputs": [],
   "source": [
    "counts_bt2.fbgn.RT = subset(counts_bt2.fbgn, select=grepl(\"RT\", colnames(counts_bt2.fbgn)))\n",
    "\n",
    "#######\n",
    "## use this subset command if we want to remove the ovary-biased genes\n",
    "# counts_bt2.fbgn.RT = subset(subset(counts_bt2.fbgn, rownames(counts_bt2.fbgn) %!in% ovaries.list.4fold), select=grepl(\"RT\", colnames(counts_bt2.fbgn)))\n",
    "#######\n",
    "\n",
    "colnames(counts_bt2.fbgn.RT) = gsub(\"Female_\", \"\", colnames(counts_bt2.fbgn.RT))\n",
    "# counts_bt2.fbgn.RT = subset(counts_bt2.fbgn.RT, select=RT_GoodReps)"
   ]
  },
  {
   "cell_type": "markdown",
   "metadata": {},
   "source": [
    "Now let's filter low expression genes within a minimum cpm of 2:"
   ]
  },
  {
   "cell_type": "code",
   "execution_count": null,
   "metadata": {},
   "outputs": [],
   "source": [
    "cpm_bt2.fbgn.RT <- cpm(counts_bt2.fbgn.RT)\n",
    "thresh_RT.bt2.fbgn <- cpm_bt2.fbgn.RT > 5\n",
    "\n",
    "countsKeep_RT.bt2.fbgn <- rowSums(thresh_RT.bt2.fbgn) >= 3\n",
    "countsFiltered_bt2.fbgn.RT <- counts_bt2.fbgn.RT[countsKeep_RT.bt2.fbgn,]\n",
    "## Check how many genes remain in the matrix.\n",
    "dim(countsFiltered_bt2.fbgn.RT)\n",
    "\n",
    "## Clean-up\n",
    "rm(cpm_bt2.fbgn.RT, countsKeep_RT.bt2.fbgn, thresh_RT.bt2.fbgn)"
   ]
  },
  {
   "cell_type": "markdown",
   "metadata": {},
   "source": [
    "We'll also subset the samplesInfo object to only include the RT samples:"
   ]
  },
  {
   "cell_type": "code",
   "execution_count": null,
   "metadata": {
    "collapsed": true
   },
   "outputs": [],
   "source": [
    "sampleInfo.pm = subset(sampleInfo, Tissue == \"repTract\")\n",
    "# remove rogue replicates:\n",
    "# sampleInfo.pm = subset(sampleInfo.pm, Replicate != \"Female_H3_RT_1\" & Replicate != \"Female_H6_RT_1\")\n",
    "sampleInfo.pm$SampleName = gsub(\"Female_\", \"\", sampleInfo.pm$SampleName)\n",
    "sampleInfo.pm$Replicate = gsub(\"Female_\", \"\", sampleInfo.pm$Replicate)"
   ]
  },
  {
   "cell_type": "markdown",
   "metadata": {},
   "source": [
    "### Comparing con- and heterospeicific postmating time points to each other and to the virgin RT sample:"
   ]
  },
  {
   "cell_type": "markdown",
   "metadata": {},
   "source": [
    "Here we can set up new grouping and comparison matrix with all the postmating time-point samples by combining the \"Status\" and \"time\" factors. This design matrix will test differences between each postmating time-point and the virgin sample:"
   ]
  },
  {
   "cell_type": "code",
   "execution_count": null,
   "metadata": {
    "collapsed": true
   },
   "outputs": [],
   "source": [
    "## Will need to relevel the Status grouping to make virgin control\n",
    "Status.time <- factor(paste(sampleInfo.pm$Status, sampleInfo.pm$Time, sep=\".\"))\n",
    "sampleInfo.pmv <- cbind(sampleInfo.pm, Group=Status.time)\n",
    "sampleInfo.pmv$Group <- relevel(sampleInfo.pmv$Group, ref = \"virgin.virgin\")\n",
    "\n",
    "groups.pmv <- factor(sampleInfo.pmv$Group)\n",
    "design.pmv <- model.matrix(~groups.pmv)\n",
    "colnames(design.pmv) <- levels(groups.pmv)\n",
    "rownames(design.pmv) <- sampleInfo.pmv$Replicate"
   ]
  },
  {
   "cell_type": "markdown",
   "metadata": {},
   "source": [
    "Next we need to set a different matrix where we test for differences between conspecific and heterospecific treatments of each time point:"
   ]
  },
  {
   "cell_type": "code",
   "execution_count": null,
   "metadata": {
    "collapsed": true
   },
   "outputs": [],
   "source": [
    "groups.pmb <- factor(sampleInfo.pm$SampleName)\n",
    "design.pmb <- model.matrix(~ 0 + groups.pmb)\n",
    "colnames(design.pmb) <- levels(groups.pmb)\n",
    "rownames(design.pmb) <- sampleInfo.pm$Replicate"
   ]
  },
  {
   "cell_type": "markdown",
   "metadata": {},
   "source": [
    "Create edgeR DE object and run glmFit"
   ]
  },
  {
   "cell_type": "code",
   "execution_count": null,
   "metadata": {
    "collapsed": true
   },
   "outputs": [],
   "source": [
    "dgeList.pmv <- DGEList(counts = countsFiltered_bt2.fbgn.RT, group = groups.pmv)\n",
    "dgeList.pmv <- calcNormFactors(dgeList.pmv)\n",
    "dgeList.pmv <- estimateCommonDisp(dgeList.pmv)\n",
    "dgeList.pmv <- estimateTagwiseDisp(dgeList.pmv)\n",
    "dgeList.pmv_fit <- glmFit(dgeList.pmv, design.pmv)"
   ]
  },
  {
   "cell_type": "code",
   "execution_count": null,
   "metadata": {
    "collapsed": true
   },
   "outputs": [],
   "source": [
    "dgeList.pmb <- DGEList(counts = countsFiltered_bt2.fbgn.RT, group = groups.pmb)\n",
    "dgeList.pmb <- calcNormFactors(dgeList.pmb)\n",
    "dgeList.pmb <- estimateCommonDisp(dgeList.pmb)\n",
    "dgeList.pmb <- estimateTagwiseDisp(dgeList.pmb)\n",
    "dgeList.pmb_fit <- glmFit(dgeList.pmb, design.pmb)"
   ]
  },
  {
   "cell_type": "markdown",
   "metadata": {},
   "source": [
    "Let's add the annotation information to this fit object:"
   ]
  },
  {
   "cell_type": "code",
   "execution_count": null,
   "metadata": {},
   "outputs": [],
   "source": [
    "# Extract annotation for genes in the fit object\n",
    "ann.pmv = subset(Annots, FBgn_ID %in% rownames(dgeList.pmv_fit))\n",
    "ann.pmv = subset(ann.pmv, select = c(\"FBgn_ID\", \"gene_name\", \"SwissProt_BlastX_Description\"))\n",
    "# convert factors to characters\n",
    "ann.pmv = data.frame(lapply(ann.pmv, as.character), stringsAsFactors=FALSE)\n",
    "# align the fit object's rownames with gene ID's\n",
    "ann.pmv = ann.pmv[match(rownames(dgeList.pmv_fit), ann.pmv$FBgn_ID),]\n",
    "# convert factors to characters, again\n",
    "ann.pmv <- data.frame(lapply(ann.pmv, as.character), stringsAsFactors=FALSE)\n",
    "# Rename \"FBgn_ID\" as \"GeneID\"\n",
    "colnames(ann.pmv) = c (\"GeneID\", \"gene_name\", \"SwissProt_BlastX_Description\")\n",
    "# Check that the fit rownames match the annotation file's gene ID's\n",
    "table(ann.pmv$GeneID==rownames(dgeList.pmv_fit))\n",
    "# Add the annotations to the fit object in the \"genes\" slot\n",
    "dgeList.pmv_fit$genes = ann.pmv"
   ]
  },
  {
   "cell_type": "code",
   "execution_count": null,
   "metadata": {},
   "outputs": [],
   "source": [
    "# Extract annotation for genes in the fit object\n",
    "ann.pmb = subset(Annots, FBgn_ID %in% rownames(dgeList.pmb_fit))\n",
    "ann.pmb = subset(ann.pmb, select = c(\"FBgn_ID\", \"gene_name\", \"SwissProt_BlastX_Description\"))\n",
    "# convert factors to characters\n",
    "ann.pmb = data.frame(lapply(ann.pmb, as.character), stringsAsFactors=FALSE)\n",
    "# align the fit object's rownames with gene ID's\n",
    "ann.pmb = ann.pmb[match(rownames(dgeList.pmb_fit), ann.pmb$FBgn_ID),]\n",
    "# convert factors to characters, again\n",
    "ann.pmb <- data.frame(lapply(ann.pmb, as.character), stringsAsFactors=FALSE)\n",
    "# Rename \"FBgn_ID\" as \"GeneID\"\n",
    "colnames(ann.pmb) = c (\"GeneID\", \"gene_name\", \"SwissProt_BlastX_Description\")\n",
    "# Check that the fit rownames match the annotation file's gene ID's\n",
    "table(ann.pmb$GeneID==rownames(dgeList.pmb_fit))\n",
    "# Add the annotations to the fit object in the \"genes\" slot\n",
    "dgeList.pmb_fit$genes = ann.pmb"
   ]
  },
  {
   "cell_type": "markdown",
   "metadata": {},
   "source": [
    "Also, check the tagwise dispersion summary:"
   ]
  },
  {
   "cell_type": "code",
   "execution_count": null,
   "metadata": {},
   "outputs": [],
   "source": [
    "summary(dgeList.pmv$tagwise.dispersion)"
   ]
  },
  {
   "cell_type": "markdown",
   "metadata": {},
   "source": [
    "Again, quick look at the BCV, mean-variance trend, qq-plot and normalized count distributions."
   ]
  },
  {
   "cell_type": "code",
   "execution_count": null,
   "metadata": {},
   "outputs": [],
   "source": [
    "options(repr.plot.width = 9, repr.plot.height = 6)\n",
    "# pdf(\"Figures/DE_QC_plots.pdf\", width = 9, height = 6)\n",
    "par(mfrow=c(2,2))\n",
    "# Biological coefficient of variation\n",
    "plotBCV(dgeList.pmv)\n",
    "# mean-variance trend\n",
    "pmv.voom = voom(dgeList.pmv, design.pmv, plot=TRUE)\n",
    "# QQ-plot\n",
    "g.pmv <- gof(dgeList.pmv_fit)\n",
    "z.pmv <- zscoreGamma(g.pmv$gof.statistics,shape=g.pmv$df/2,scale=2)\n",
    "qqnorm(z.pmv); qqline(z.pmv, col = 4,lwd=1,lty=1)\n",
    "# log2 transformed and normalize boxplot of counts across samples\n",
    "boxplot(pmv.voom$E, xlab=\"\", ylab=\"Log2 counts per million\",las=2,main=\"Voom transformed logCpmv\")\n",
    "abline(h=median(pmv.voom$E),col=\"blue\")\n",
    "# dev.off()"
   ]
  },
  {
   "cell_type": "markdown",
   "metadata": {},
   "source": [
    "And make an MDS plot with Limma:"
   ]
  },
  {
   "cell_type": "code",
   "execution_count": null,
   "metadata": {},
   "outputs": [],
   "source": [
    "options(repr.plot.width = 6, repr.plot.height = 5)\n",
    "plotMDS(dgeList.pmv, cex = 0.5)"
   ]
  },
  {
   "cell_type": "markdown",
   "metadata": {},
   "source": [
    "Can also look at it interactively with Glimma:"
   ]
  },
  {
   "cell_type": "code",
   "execution_count": null,
   "metadata": {
    "collapsed": true
   },
   "outputs": [],
   "source": [
    "glMDSPlot(dgeList.pmv, groups = sampleInfo.pm, labels = sampleInfo.pm$Replicate)"
   ]
  },
  {
   "cell_type": "markdown",
   "metadata": {},
   "source": [
    "And a custom ggplot2 one:"
   ]
  },
  {
   "cell_type": "code",
   "execution_count": null,
   "metadata": {
    "collapsed": true
   },
   "outputs": [],
   "source": [
    "mdsObj <- plotMDS(dgeList.pmv, plot = F)$cmdscale.out\n",
    "mdsObj <- as.data.frame(as.matrix(mdsObj))\n",
    "mdsObj$replicate <- rownames(mdsObj)\n",
    "colnames(mdsObj) = c(\"dim1\", \"dim2\", \"replicate\")\n",
    "mdsObj = merge(mdsObj, sampleInfo.pmv, by.x = \"replicate\", by.y = \"Replicate\")\n",
    "mdsObj$Time = factor(mdsObj$Time, levels = c (\"virgin\", \"3hpm\", \"6hpm\", \"12hpm\"))\n",
    "mdsObj$Status = factor(mdsObj$Status, levels = c (\"virgin\", \"conspecific\", \"heterospecific\"))"
   ]
  },
  {
   "cell_type": "code",
   "execution_count": null,
   "metadata": {},
   "outputs": [],
   "source": [
    "options(repr.plot.width = 5, repr.plot.height = 3)\n",
    "\n",
    "# pdf(\"Figures/postmating.MDS.plot.pdf\", width = 5, height = 3)\n",
    "ggscatter(mdsObj, \n",
    "              x = \"dim1\", \n",
    "              y = \"dim2\",\n",
    "              color = \"Time\",\n",
    "              shape = \"Status\",\n",
    "              size = 3.5,\n",
    "              alpha = 0.8, \n",
    "#               ellipse = T, \n",
    "#               mean.point = T,\n",
    "              star.plot = TRUE,\n",
    "              ggtheme = theme_bw(),\n",
    "              repel = \"Time\",) + \n",
    "#                 stat_conf_ellipse(aes(color = Time, fill = Time), alpha = 0.1, geom = \"polygon\") + \n",
    "                theme(axis.text = element_text(size = 10), legend.title = element_blank(), axis.title = element_text(size = 12), legend.text = element_text(size = 12)) +\n",
    "                scale_colour_manual(values = c(\"#00c28f\",\"#e93c00\",\"#1c8200\",\"#bda2ff\")) +\n",
    "                scale_fill_manual(values = c(\"#00c28f\",\"#e93c00\",\"#1c8200\",\"#bda2ff\")) +\n",
    "                labs ( x = \"Dimension 1\", y = \"Dimension 2\")\n",
    "# dev.off()"
   ]
  },
  {
   "cell_type": "markdown",
   "metadata": {},
   "source": [
    "Replicates seem to largely group together in the first component, but two samples (H3_RT_1 and H6_RT_1) deviate from their sisters a bit. We'll consider removing those from the analysis later. For now, let's look at samples correlation. First make a column labeling object for samples/replicates:"
   ]
  },
  {
   "cell_type": "code",
   "execution_count": null,
   "metadata": {
    "collapsed": true
   },
   "outputs": [],
   "source": [
    "sampleColLabeling = subset(sampleInfo.pm, select = c(\"SampleName\", \"Replicate\"))\n",
    "sampleColLabeling = filter(sampleColLabeling, grepl(\"RT\", SampleName))\n",
    "rownames(sampleColLabeling) = sampleColLabeling$Replicate\n",
    "sampleColLabeling = subset(sampleColLabeling, select = SampleName)\n",
    "colnames(sampleColLabeling) = \"Sample\"\n",
    "sampleColLabeling$Sample = factor(sampleColLabeling$Sample, levels = c(\"V_RT\", \"C3_RT\", \"C6_RT\", \"C12_RT\", \"H3_RT\", \"H6_RT\", \"H12_RT\"))"
   ]
  },
  {
   "cell_type": "markdown",
   "metadata": {},
   "source": [
    "Now plot it:"
   ]
  },
  {
   "cell_type": "code",
   "execution_count": null,
   "metadata": {},
   "outputs": [],
   "source": [
    "## Plot sample correlation\n",
    "data = log2(countsFiltered_bt2.fbgn.RT+1)\n",
    "data = as.matrix(data)\n",
    "sample_cor = cor(data, method='pearson', use='pairwise.complete.obs')\n",
    "\n",
    "cor_colors <- list(Sample = c(\"#00071b\",\"#fbbc1b\",\"#4be177\",\"#aa0067\",\"#134f00\",\"#a40e00\",\"#ccc4c4\"))\n",
    "names(cor_colors$Sample) <- unique(sampleColLabeling$Sample)\n",
    "\n",
    "options(repr.plot.width = 7, repr.plot.height = 5)\n",
    "pheatmap(\n",
    "  mat               = sample_cor,\n",
    "  color             = inferno(100),\n",
    "#   border_color      = NA,\n",
    "  annotation_col    = sampleColLabeling,\n",
    "  annotation_row    = sampleColLabeling,\n",
    "  drop_levels       = TRUE,\n",
    "  annotation_colors = cor_colors,\n",
    "  show_colnames     = TRUE,\n",
    "  show_rownames     = TRUE,\n",
    "  annotation_names_row = F,\n",
    "#   filename          = \"Figures/repTract_sample_correlations.pdf\",\n",
    "#   width             = 7, \n",
    "#   height            = 5,\n",
    "  fontsize          = 12    \n",
    ")"
   ]
  },
  {
   "cell_type": "markdown",
   "metadata": {},
   "source": [
    "To perform pairwise differential expression tests between postmating samples, we need to set up a series of contrasts for the DE test:"
   ]
  },
  {
   "cell_type": "code",
   "execution_count": null,
   "metadata": {
    "collapsed": true
   },
   "outputs": [],
   "source": [
    "time.3hpm <- makeContrasts(C3.vs.H3=H3_RT-C3_RT, levels=design.pmb)\n",
    "time.6hpm <- makeContrasts(C6.vs.H6=H6_RT-C6_RT, levels=design.pmb)\n",
    "time.12hpm <- makeContrasts(C12.vs.H12=H12_RT-C12_RT, levels=design.pmb)"
   ]
  },
  {
   "cell_type": "markdown",
   "metadata": {},
   "source": [
    "Now we can fit the negative binomial log-linear model to conduct gene-wise statistical tests. For each contrast, we will extract the genes with the relevant DE stats."
   ]
  },
  {
   "cell_type": "code",
   "execution_count": null,
   "metadata": {
    "collapsed": true
   },
   "outputs": [],
   "source": [
    "lrt.pmb.3h <- glmLRT(dgeList.pmb_fit, contrast = time.3hpm)\n",
    "lrt.pmb.3h.tTags <- topTags(lrt.pmb.3h, n = NULL)\n",
    "lrt.pmb.3h.tTags.table <- lrt.pmb.3h.tTags$table\n",
    "sig.het_up.3hpm_list<-subset(lrt.pmb.3h.tTags.table, logFC > 1 & FDR<0.05)$GeneID\n",
    "sig.het_down.3hpm_list<-subset(lrt.pmb.3h.tTags.table, logFC < -1 & FDR<0.05)$GeneID"
   ]
  },
  {
   "cell_type": "code",
   "execution_count": null,
   "metadata": {
    "collapsed": true
   },
   "outputs": [],
   "source": [
    "lrt.pmb.6h <- glmLRT(dgeList.pmb_fit, contrast = time.6hpm)\n",
    "lrt.pmb.6h.tTags <- topTags(lrt.pmb.6h, n = NULL)\n",
    "lrt.pmb.6h.tTags.table <- lrt.pmb.6h.tTags$table\n",
    "sig.het_up.6hpm_list<-subset(lrt.pmb.6h.tTags.table, logFC > 1 & FDR<0.05)$GeneID\n",
    "sig.het_down.6hpm_list<-subset(lrt.pmb.6h.tTags.table, logFC < -1 & FDR<0.05)$GeneID"
   ]
  },
  {
   "cell_type": "code",
   "execution_count": null,
   "metadata": {
    "collapsed": true
   },
   "outputs": [],
   "source": [
    "lrt.pmb.12h <- glmLRT(dgeList.pmb_fit, contrast = time.12hpm)\n",
    "lrt.pmb.12h.tTags <- topTags(lrt.pmb.12h, n = NULL)\n",
    "lrt.pmb.12h.tTags.table <- lrt.pmb.12h.tTags$table\n",
    "sig.het_up.12hpm_list<-subset(lrt.pmb.12h.tTags.table, logFC > 1 & FDR<0.05)$GeneID\n",
    "sig.het_down.12hpm_list<-subset(lrt.pmb.12h.tTags.table, logFC < -1 & FDR<0.05)$GeneID"
   ]
  },
  {
   "cell_type": "markdown",
   "metadata": {},
   "source": [
    "Now we'll run the contrasts between each postmating sample and the virgin sample:"
   ]
  },
  {
   "cell_type": "code",
   "execution_count": null,
   "metadata": {
    "collapsed": true
   },
   "outputs": [],
   "source": [
    "glmT_C3.v.vir <- glmTreat(dgeList.pmv_fit, coef =3, lfc =1)\n",
    "glmT_C6.v.vir <- glmTreat(dgeList.pmv_fit, coef =4, lfc =1)\n",
    "glmT_C12.v.vir <- glmTreat(dgeList.pmv_fit, coef =2, lfc =1)\n",
    "glmT_H3.v.vir <- glmTreat(dgeList.pmv_fit, coef =6, lfc =1)\n",
    "glmT_H6.v.vir <- glmTreat(dgeList.pmv_fit, coef =7, lfc =1)\n",
    "glmT_H12.v.vir <- glmTreat(dgeList.pmv_fit, coef =5, lfc =1)"
   ]
  },
  {
   "cell_type": "markdown",
   "metadata": {},
   "source": [
    "Extract gene list of DE genes, first upregulated ones...."
   ]
  },
  {
   "cell_type": "code",
   "execution_count": null,
   "metadata": {
    "collapsed": true
   },
   "outputs": [],
   "source": [
    "DE.genes_C3.v.vir_up <- subset(topTags(glmT_C3.v.vir, n = NULL)$table, FDR < 0.05 & logFC > 1)$GeneID\n",
    "DE.genes_C6.v.vir_up <- subset(topTags(glmT_C6.v.vir, n = NULL)$table, FDR < 0.05 & logFC > 1)$GeneID\n",
    "DE.genes_C12.v.vir_up <- subset(topTags(glmT_C12.v.vir, n = NULL)$table, FDR < 0.05 & logFC > 1)$GeneID\n",
    "DE.genes_H3.v.vir_up <- subset(topTags(glmT_H3.v.vir, n = NULL)$table, FDR < 0.05 & logFC > 1)$GeneID\n",
    "DE.genes_H6.v.vir_up <- subset(topTags(glmT_H6.v.vir, n = NULL)$table, FDR < 0.05 & logFC > 1)$GeneID\n",
    "DE.genes_H12.v.vir_up <- subset(topTags(glmT_H12.v.vir, n = NULL)$table, FDR < 0.05 & logFC > 1)$GeneID"
   ]
  },
  {
   "cell_type": "markdown",
   "metadata": {},
   "source": [
    "... and downregulated ones..."
   ]
  },
  {
   "cell_type": "code",
   "execution_count": null,
   "metadata": {
    "collapsed": true
   },
   "outputs": [],
   "source": [
    "DE.genes_C3.v.vir_down <- subset(topTags(glmT_C3.v.vir, n = NULL)$table, FDR < 0.05 & logFC < 1)$GeneID\n",
    "DE.genes_C6.v.vir_down <- subset(topTags(glmT_C6.v.vir, n = NULL)$table, FDR < 0.05 & logFC < 1)$GeneID\n",
    "DE.genes_C12.v.vir_down <- subset(topTags(glmT_C12.v.vir, n = NULL)$table, FDR < 0.05 & logFC < 1)$GeneID\n",
    "DE.genes_H3.v.vir_down <- subset(topTags(glmT_H3.v.vir, n = NULL)$table, FDR < 0.05 & logFC < 1)$GeneID\n",
    "DE.genes_H6.v.vir_down <- subset(topTags(glmT_H6.v.vir, n = NULL)$table, FDR < 0.05 & logFC < 1)$GeneID\n",
    "DE.genes_H12.v.vir_down <- subset(topTags(glmT_H12.v.vir, n = NULL)$table, FDR < 0.05 & logFC < 1)$GeneID"
   ]
  },
  {
   "cell_type": "markdown",
   "metadata": {},
   "source": [
    "What we can do now is compare and contrasts these individual lists, capture the overlap between them, and plot Venn diagrams. First, let's aggregate by cross type:"
   ]
  },
  {
   "cell_type": "code",
   "execution_count": null,
   "metadata": {
    "collapsed": true
   },
   "outputs": [],
   "source": [
    "RT_UP_3hrs_candidates <- list(Conspecific = DE.genes_C3.v.vir_up, Heterospecific = DE.genes_H3.v.vir_up)\n",
    "RT_UP_6hrs_candidates <- list(Conspecific = DE.genes_C6.v.vir_up, Heterospecific = DE.genes_H6.v.vir_up)\n",
    "RT_UP_12hrs_candidates <- list(Conspecific = DE.genes_C12.v.vir_up, Heterospecific = DE.genes_H12.v.vir_up)\n",
    "RT_Down_3hrs_candidates <- list(Conspecific = DE.genes_C3.v.vir_down, Heterospecific = DE.genes_H3.v.vir_down)\n",
    "RT_Down_6hrs_candidates <- list(Conspecific = DE.genes_C6.v.vir_down, Heterospecific = DE.genes_H6.v.vir_down)\n",
    "RT_Down_12hrs_candidates <- list(Conspecific = DE.genes_C12.v.vir_down, Heterospecific = DE.genes_H12.v.vir_down)"
   ]
  },
  {
   "cell_type": "markdown",
   "metadata": {},
   "source": [
    "Rearrange those into lists of lists, and partition by postmating time-point"
   ]
  },
  {
   "cell_type": "code",
   "execution_count": null,
   "metadata": {
    "collapsed": true
   },
   "outputs": [],
   "source": [
    "# Rearrange into lists of lists, and partition by species\n",
    "RT_UP_3hrs_combs <- unlist(lapply(1:length(RT_UP_3hrs_candidates), function(j) combn(names(RT_UP_3hrs_candidates), j, simplify = FALSE)), recursive = FALSE)\n",
    "RT_UP_6hrs_combs <- unlist(lapply(1:length(RT_UP_6hrs_candidates), function(j) combn(names(RT_UP_6hrs_candidates), j, simplify = FALSE)), recursive = FALSE)\n",
    "RT_UP_12hrs_combs <- unlist(lapply(1:length(RT_UP_12hrs_candidates), function(j) combn(names(RT_UP_12hrs_candidates), j, simplify = FALSE)), recursive = FALSE)\n",
    "RT_Down_3hrs_combs <- unlist(lapply(1:length(RT_Down_3hrs_candidates), function(j) combn(names(RT_Down_3hrs_candidates), j, simplify = FALSE)), recursive = FALSE)\n",
    "RT_Down_6hrs_combs <- unlist(lapply(1:length(RT_Down_6hrs_candidates), function(j) combn(names(RT_Down_6hrs_candidates), j, simplify = FALSE)), recursive = FALSE)\n",
    "RT_Down_12hrs_combs <- unlist(lapply(1:length(RT_Down_12hrs_candidates), function(j) combn(names(RT_Down_12hrs_candidates), j, simplify = FALSE)), recursive = FALSE)"
   ]
  },
  {
   "cell_type": "markdown",
   "metadata": {},
   "source": [
    "Assign names to each combination (i.e., con and het):"
   ]
  },
  {
   "cell_type": "code",
   "execution_count": null,
   "metadata": {
    "collapsed": true
   },
   "outputs": [],
   "source": [
    "names(RT_UP_3hrs_combs) <- sapply(RT_UP_3hrs_combs, function(i) paste0(i, collapse = \",\"))\n",
    "names(RT_UP_6hrs_combs) <- sapply(RT_UP_6hrs_combs, function(i) paste0(i, collapse = \",\"))\n",
    "names(RT_UP_12hrs_combs) <- sapply(RT_UP_12hrs_combs, function(i) paste0(i, collapse = \",\"))\n",
    "names(RT_Down_3hrs_combs) <- sapply(RT_Down_3hrs_combs, function(i) paste0(i, collapse = \",\"))\n",
    "names(RT_Down_6hrs_combs) <- sapply(RT_Down_6hrs_combs, function(i) paste0(i, collapse = \",\"))\n",
    "names(RT_Down_12hrs_combs) <- sapply(RT_Down_12hrs_combs, function(i) paste0(i, collapse = \",\"))"
   ]
  },
  {
   "cell_type": "markdown",
   "metadata": {},
   "source": [
    "Now generate a list of each element:"
   ]
  },
  {
   "cell_type": "code",
   "execution_count": null,
   "metadata": {
    "collapsed": true
   },
   "outputs": [],
   "source": [
    "RT_UP_3hrs_elements <- lapply(RT_UP_3hrs_combs, function(i) Setdiff(RT_UP_3hrs_candidates[i], RT_UP_3hrs_candidates[setdiff(names(RT_UP_3hrs_candidates), i)]))\n",
    "RT_UP_6hrs_elements <- lapply(RT_UP_6hrs_combs, function(i) Setdiff(RT_UP_6hrs_candidates[i], RT_UP_6hrs_candidates[setdiff(names(RT_UP_6hrs_candidates), i)]))\n",
    "RT_UP_12hrs_elements <- lapply(RT_UP_12hrs_combs, function(i) Setdiff(RT_UP_12hrs_candidates[i], RT_UP_12hrs_candidates[setdiff(names(RT_UP_12hrs_candidates), i)]))\n",
    "RT_Down_3hrs_elements <- lapply(RT_Down_3hrs_combs, function(i) Setdiff(RT_Down_3hrs_candidates[i], RT_Down_3hrs_candidates[setdiff(names(RT_Down_3hrs_candidates), i)]))\n",
    "RT_Down_6hrs_elements <- lapply(RT_Down_6hrs_combs, function(i) Setdiff(RT_Down_6hrs_candidates[i], RT_Down_6hrs_candidates[setdiff(names(RT_Down_6hrs_candidates), i)]))\n",
    "RT_Down_12hrs_elements <- lapply(RT_Down_12hrs_combs, function(i) Setdiff(RT_Down_12hrs_candidates[i], RT_Down_12hrs_candidates[setdiff(names(RT_Down_12hrs_candidates), i)]))"
   ]
  },
  {
   "cell_type": "markdown",
   "metadata": {},
   "source": [
    "Now we generate the Venn diagram objects and plot them:"
   ]
  },
  {
   "cell_type": "code",
   "execution_count": null,
   "metadata": {},
   "outputs": [],
   "source": [
    "RT_UP_3hrs_Vdiag<-venn.diagram(RT_UP_3hrs_candidates, NULL, fill=c(\"#ffb200\",\"#00b5d4\"), alpha=c(0.75,0.75), cex = 1.5, cat.fontface= 2, cat.cex = 0, resolution = 1000, main = \"3hpm\")\n",
    "RT_UP_6hrs_Vdiag<-venn.diagram(RT_UP_6hrs_candidates, NULL, fill=c(\"#ffb200\",\"#00b5d4\"), alpha=c(0.75,0.75), cex = 1.5, cat.fontface= 2, cat.cex = 0, resolution = 1000, main = \"6hpm\")\n",
    "RT_UP_12hrs_Vdiag<-venn.diagram(RT_UP_12hrs_candidates, NULL, fill=c(\"#ffb200\",\"#00b5d4\"), alpha=c(0.75,0.75), cex = 1.5, cat.fontface= 2, cat.cex = 0, resolution = 1000, main = \"12hpm\")\n",
    "RT_Down_3hrs_Vdiag<-venn.diagram(RT_Down_3hrs_candidates, NULL, fill=c(\"#ffb200\",\"#00b5d4\"), alpha=c(0.75,0.75), cex = 1.5, cat.fontface= 2, cat.cex = 0, resolution = 1000, main = \"3hpm\")\n",
    "RT_Down_6hrs_Vdiag<-venn.diagram(RT_Down_6hrs_candidates, NULL, fill=c(\"#ffb200\",\"#00b5d4\"), alpha=c(0.75,0.75), cex = 1.5, cat.fontface= 2, cat.cex = 0, resolution = 1000, main = \"6hpm\")\n",
    "RT_Down_12hrs_Vdiag<-venn.diagram(RT_Down_12hrs_candidates, NULL, fill=c(\"#ffb200\",\"#00b5d4\"), alpha=c(0.75,0.75), cex = 1.5, cat.fontface= 2, cat.cex = 0, resolution = 1000, main = \"12hpm\")\n",
    "# \"#3f5a2a\",\n",
    "# \"#ffb200\",\"#00b5d4\"\n",
    "options(repr.plot.width = 4.5, repr.plot.height = 2)\n",
    "\n",
    "# pdf(\"Figures/Venn_diag.up.pdf\", width = 4.5, height = 2)\n",
    "grid.arrange(gTree(children=RT_UP_3hrs_Vdiag), gTree(children=RT_UP_6hrs_Vdiag), gTree(children=RT_UP_12hrs_Vdiag), ncol = 3, top = \"Upregulated genes\")\n",
    "# dev.off()\n",
    "\n",
    "# pdf(\"Figures/Venn_diag.down.pdf\", width = 4.5, height = 2)\n",
    "grid.arrange(gTree(children=RT_Down_3hrs_Vdiag), gTree(children=RT_Down_6hrs_Vdiag), gTree(children=RT_Down_12hrs_Vdiag), ncol = 3, top = \"Downregulated genes\")\n",
    "# dev.off()"
   ]
  },
  {
   "cell_type": "markdown",
   "metadata": {
    "collapsed": true
   },
   "source": [
    "Before we can look at Glimma volcano plots, we need to run the decideTestsDGE for each glmTreat output:"
   ]
  },
  {
   "cell_type": "code",
   "execution_count": null,
   "metadata": {
    "collapsed": true
   },
   "outputs": [],
   "source": [
    "dt_C3.v.vir = decideTestsDGE(glmT_C3.v.vir)\n",
    "dt_C6.v.vir = decideTestsDGE(glmT_C6.v.vir)\n",
    "dt_C12.v.vir = decideTestsDGE(glmT_C12.v.vir)\n",
    "dt_H3.v.vir = decideTestsDGE(glmT_H3.v.vir)\n",
    "dt_H6.v.vir = decideTestsDGE(glmT_H6.v.vir)\n",
    "dt_H12.v.vir = decideTestsDGE(glmT_H12.v.vir)"
   ]
  },
  {
   "cell_type": "markdown",
   "metadata": {},
   "source": [
    "Here's one example of a volcano plot between heterospecific 6hpm samples and virgins:"
   ]
  },
  {
   "cell_type": "code",
   "execution_count": null,
   "metadata": {
    "collapsed": true
   },
   "outputs": [],
   "source": [
    "glXYPlot(x=glmT_H6.v.vir$table$logFC, y=-log10(glmT_H6.v.vir$table$PValue), xlab=\"logFC\", ylab=\"logodds\", status=dt_H6.v.vir, groups=sampleInfo.pm$SampleName, anno = ann.pmv, side.main=\"gene_name\", counts = dgeList.pmv)"
   ]
  },
  {
   "cell_type": "markdown",
   "metadata": {},
   "source": [
    "##### Analysis of upregulated genes in the female RT:"
   ]
  },
  {
   "cell_type": "markdown",
   "metadata": {},
   "source": [
    "First we'll look at those genes that are upregulated in the RT across all three postmating timepoints. We'll first generate a list of these genes and a TPM matrix for the conspecific condition samples:"
   ]
  },
  {
   "cell_type": "code",
   "execution_count": null,
   "metadata": {},
   "outputs": [],
   "source": [
    "RT_upregulated_genes = unique(unlist(c(RT_UP_3hrs_elements, RT_UP_6hrs_elements, RT_UP_12hrs_elements)))\n",
    "message(paste(\"There are \", length(RT_upregulated_genes), \" upregulated genes\", sep =\"\"))\n",
    "RT_upregulated_genes_matrix = subset(tpmMatrix_bt2.fbgn, rownames(tpmMatrix_bt2.fbgn) %in% RT_upregulated_genes)\n",
    "\n",
    "RT_upregulated_genes_matrix = RT_upregulated_genes_matrix[ , grepl(\"RT\", names(RT_upregulated_genes_matrix))]\n",
    "RT_upregulated_genes_matrix_con = subset(RT_upregulated_genes_matrix, select = c(\"Female_V_RT\", \"Female_C3_RT\", \"Female_C6_RT\", \"Female_C12_RT\"))\n",
    "RT_upregulated_genes_matrix_het = subset(RT_upregulated_genes_matrix, select = c(\"Female_V_RT\", \"Female_H3_RT\", \"Female_H6_RT\", \"Female_H12_RT\"))"
   ]
  },
  {
   "cell_type": "markdown",
   "metadata": {},
   "source": [
    "We can perform clustering of these genes by expression profile across the conspecific samples. We'll first need to estimate an appropriate number of clusters."
   ]
  },
  {
   "cell_type": "code",
   "execution_count": null,
   "metadata": {},
   "outputs": [],
   "source": [
    "options(repr.plot.width = 4, repr.plot.height = 3)\n",
    "findK(RT_upregulated_genes_matrix)"
   ]
  },
  {
   "cell_type": "markdown",
   "metadata": {},
   "source": [
    "Cruedly, it looks like 6 clusters will aproopriately represent groupings of this gene set. We'll re-examine this after performing the analysis. First we'll run the cluster analysis:"
   ]
  },
  {
   "cell_type": "code",
   "execution_count": null,
   "metadata": {
    "collapsed": true
   },
   "outputs": [],
   "source": [
    "data = RT_upregulated_genes_matrix\n",
    "data = log2(data+1)\n",
    "data = as.matrix(data) # convert to matrix\n",
    "data = t(scale(t(data), scale=F))\n",
    "sample_cor = cor(data, method='pearson', use='pairwise.complete.obs')\n",
    "sample_dist = as.dist(1-sample_cor)\n",
    "hc_samples = hclust(sample_dist, method='complete')\n",
    "gene_cor = NULL\n",
    "if (is.null(gene_cor)) { gene_cor = cor(t(data), method='pearson', use='pairwise.complete.obs') }\n",
    "gene_dist = as.dist(1-gene_cor)\n",
    "hc_genes = hclust(gene_dist, method='complete')\n",
    "gene_partition_assignments <- cutree(as.hclust(hc_genes), k=6)\n",
    "\n",
    "## can also be done by tree height:\n",
    "#gene_partition_assignments <- cutree(as.hclust(hc_genes), h=50/100*max(hc_genes$height))"
   ]
  },
  {
   "cell_type": "markdown",
   "metadata": {},
   "source": [
    "Here we'll just generate some color parameters for each cluster:"
   ]
  },
  {
   "cell_type": "code",
   "execution_count": null,
   "metadata": {
    "collapsed": true
   },
   "outputs": [],
   "source": [
    "partition_colors = rainbow(length(unique(gene_partition_assignments)), start=0.4, end=0.95)\n",
    "gene_colors_dframe = data.frame(clusters=gene_partition_assignments, colors=partition_colors[gene_partition_assignments])\n",
    "gene_colors = as.matrix(partition_colors[gene_partition_assignments])"
   ]
  },
  {
   "cell_type": "markdown",
   "metadata": {},
   "source": [
    "Now we can plot a heatmap of these genes with their cluster identification:"
   ]
  },
  {
   "cell_type": "code",
   "execution_count": null,
   "metadata": {},
   "outputs": [],
   "source": [
    "heatmap_data = data\n",
    "heatmap_data[heatmap_data < -2] = -2\n",
    "heatmap_data[heatmap_data > 2] = 2\n",
    "options(repr.plot.width = 6, repr.plot.height = 7)\n",
    "heatmap.3(heatmap_data, dendrogram = \"row\", Rowv=as.dendrogram(hc_genes), Colv = c(\"V_RT\", \"C3_RT\", \"C6_RT\", \"C12_RT\"),col=myheatcol, RowSideColors=gene_colors, scale=\"none\", density.info=\"histogram\", trace=\"none\", key=TRUE, cexCol=1, margins=c(10,10), cexRow=0.5, labRow = F)"
   ]
  },
  {
   "cell_type": "markdown",
   "metadata": {},
   "source": [
    "The cluster grouping (coloured bars on the left) seem to correspond well to overall grouping of gene expression profiles."
   ]
  },
  {
   "cell_type": "markdown",
   "metadata": {},
   "source": [
    "We'll loop over the cluster assignments and import them into the cluster list object:"
   ]
  },
  {
   "cell_type": "code",
   "execution_count": null,
   "metadata": {
    "collapsed": true
   },
   "outputs": [],
   "source": [
    "cluster_list = list()\n",
    "max_cluster_count = max(gene_partition_assignments)\n",
    "for (i in 1:max_cluster_count) {\n",
    "    partition_i = (gene_partition_assignments == i)\n",
    "    partition_data = data[partition_i,,drop=F]\n",
    "    cluster_list[[i]] = as.data.frame(partition_data)\n",
    "    cluster_list[[i]]$Gene_ID = rownames(cluster_list[[i]])\n",
    "    cluster_list[[i]]$cluster = paste(\"cluster_\", i, sep = \"\")\n",
    "}\n",
    "\n",
    "#cluster_list\n",
    "cluster_PM_data = rbindlist(cluster_list)"
   ]
  },
  {
   "cell_type": "markdown",
   "metadata": {},
   "source": [
    "Now we'll generate a data frame with expression data for these clusters to make line plots of each cluster:"
   ]
  },
  {
   "cell_type": "code",
   "execution_count": null,
   "metadata": {
    "collapsed": true
   },
   "outputs": [],
   "source": [
    "conSub = subset(cluster_PM_data, select = c(\"Gene_ID\", \"cluster\", \"Female_V_RT\", \"Female_C3_RT\", \"Female_C6_RT\", \"Female_C12_RT\"))\n",
    "hetSub = subset(cluster_PM_data, select = c(\"Gene_ID\", \"cluster\", \"Female_V_RT\", \"Female_H3_RT\", \"Female_H6_RT\", \"Female_H12_RT\"))\n",
    "\n",
    "df.conSub = melt(conSub, id.vars = c(\"Gene_ID\", \"cluster\"))\n",
    "df.conSub$condition <- ifelse(grepl(\"C\", df.conSub$variable, ignore.case = F), \"conspecific\", ifelse(grepl(\"H\", df.conSub$variable, ignore.case = F), \"heterospecific\", \"virgin\"))\n",
    "df.conSub$time <- ifelse(grepl(\"3\", df.conSub$variable), \"3hpm\", ifelse(grepl(\"6\", df.conSub$variable), \"6hpm\", ifelse(grepl(\"12\", df.conSub$variable), \"12hpm\",\"virgin\")))\n",
    "df.conSub$time = factor(df.conSub$time, levels = c(\"virgin\", \"3hpm\", \"6hpm\", \"12hpm\"))\n",
    "df.conSub$crossType = \"conspecific\"\n",
    "\n",
    "df.hetSub = melt(hetSub, id.vars = c(\"Gene_ID\", \"cluster\"))\n",
    "df.hetSub$condition <- ifelse(grepl(\"C\", df.hetSub$variable, ignore.case = F), \"conspecific\", ifelse(grepl(\"H\", df.hetSub$variable, ignore.case = F), \"heterospecific\", \"virgin\"))\n",
    "df.hetSub$time <- ifelse(grepl(\"3\", df.hetSub$variable), \"3hpm\", ifelse(grepl(\"6\", df.hetSub$variable), \"6hpm\", ifelse(grepl(\"12\", df.hetSub$variable), \"12hpm\",\"virgin\")))\n",
    "df.hetSub$time = factor(df.hetSub$time, levels = c(\"virgin\", \"3hpm\", \"6hpm\", \"12hpm\"))\n",
    "df.hetSub$crossType = \"heterospecific\"\n",
    "\n",
    "newSub = rbind(df.conSub, df.hetSub)"
   ]
  },
  {
   "cell_type": "markdown",
   "metadata": {},
   "source": [
    "We can plot it like so:"
   ]
  },
  {
   "cell_type": "code",
   "execution_count": null,
   "metadata": {
    "scrolled": false
   },
   "outputs": [],
   "source": [
    "newSub$cluster = factor(newSub$cluster, levels = c(\"cluster_1\", \n",
    "                                                   \"cluster_2\", \n",
    "                                                   \"cluster_3\", \n",
    "                                                   \"cluster_4\", \n",
    "                                                   \"cluster_5\", \n",
    "#                                                    \"cluster_6\", \n",
    "#                                                    \"cluster_7\", \n",
    "                                                   \"cluster_6\"))\n",
    "options(repr.plot.width = 6, repr.plot.height = 3)\n",
    "# pdf(\"Figures/cluster_groupings.pdf\", width = 6, height = 3)\n",
    "ggplot() + \n",
    "    geom_line(data = subset(newSub, crossType == \"conspecific\"),\n",
    "              aes(time, value, group = Gene_ID), \n",
    "              colour = \"#ffb200\",\n",
    "              alpha = 0.4,\n",
    "              size = 0.5) +\n",
    "    geom_line(data = subset(newSub, crossType == \"heterospecific\"), \n",
    "              aes(time, value, group = Gene_ID), \n",
    "              colour = \"#00b5d4\",\n",
    "              alpha = 0.5,\n",
    "              size = 0.5) +\n",
    "    theme_minimal() + \n",
    "    facet_wrap('cluster',scales='free_y', nrow = 2) +\n",
    "    scale_color_hue(l=50,h.start=200) + \n",
    "    theme(axis.text.x=element_text(angle=45,hjust=1, size = 12),\n",
    "         axis.text.y = element_text(size = 12),\n",
    "         axis.title.x = element_blank(),\n",
    "         axis.title.y = element_text(size = 13),\n",
    "         strip.text = element_text(size = 14)) +\n",
    "    stat_summary(data = newSub, \n",
    "                 aes(x=time,y=value,group=crossType),\n",
    "                 fun.data=\"mean_cl_boot\",\n",
    "                 color=\"black\",\n",
    "                 fill=\"black\",\n",
    "                 alpha=0.2,\n",
    "                 size=0.3,\n",
    "                 geom=\"smooth\") +\n",
    "    ylab(\"centered log2(TPM+1)\")\n",
    "# dev.off()"
   ]
  },
  {
   "cell_type": "markdown",
   "metadata": {},
   "source": [
    "Let's output individual gene plots of all thesegenes, partitioned by cluster:"
   ]
  },
  {
   "cell_type": "code",
   "execution_count": null,
   "metadata": {
    "collapsed": true
   },
   "outputs": [],
   "source": [
    "# DE.genes_up_C1_boxPlots = suppressMessages(lapply(unique(newSub$Gene_ID[newSub$cluster == \"cluster_1\"]), geneBoxPlot, object = tpmTable_bt2.fbgn))\n",
    "# ggsave(\"Results/Plots/DE.RT_genes_up_C1_boxPlots.pdf\", marrangeGrob(grobs = DE.genes_up_C1_boxPlots, nrow = 3, ncol =1))\n",
    "\n",
    "# DE.genes_up_C2_boxPlots = suppressMessages(lapply(unique(newSub$Gene_ID[newSub$cluster == \"cluster_2\"]), geneBoxPlot, object = tpmTable_bt2.fbgn))\n",
    "# ggsave(\"Results/Plots/DE.RT_genes_up_C2_boxPlots.pdf\", marrangeGrob(grobs = DE.genes_up_C2_boxPlots, nrow = 3, ncol =1))\n",
    "\n",
    "# DE.genes_up_C3_boxPlots = suppressMessages(lapply(unique(newSub$Gene_ID[newSub$cluster == \"cluster_3\"]), geneBoxPlot, object = tpmTable_bt2.fbgn))\n",
    "# ggsave(\"Results/Plots/DE.RT_genes_up_C3_boxPlots.pdf\", marrangeGrob(grobs = DE.genes_up_C3_boxPlots, nrow = 3, ncol =1))\n",
    "\n",
    "# DE.genes_up_C4_boxPlots = suppressMessages(lapply(unique(newSub$Gene_ID[newSub$cluster == \"cluster_4\"]), geneBoxPlot, object = tpmTable_bt2.fbgn))\n",
    "# ggsave(\"Results/Plots/DE.RT_genes_up_C4_boxPlots.pdf\", marrangeGrob(grobs = DE.genes_up_C4_boxPlots, nrow = 3, ncol =1))\n",
    "\n",
    "# DE.genes_up_C5_boxPlots = suppressMessages(lapply(unique(newSub$Gene_ID[newSub$cluster == \"cluster_5\"]), geneBoxPlot, object = tpmTable_bt2.fbgn))\n",
    "# ggsave(\"Results/Plots/DE.RT_genes_up_C5_boxPlots.pdf\", marrangeGrob(grobs = DE.genes_up_C5_boxPlots, nrow = 3, ncol =1))\n",
    "\n",
    "# DE.genes_up_C6_boxPlots = suppressMessages(lapply(unique(newSub$Gene_ID[newSub$cluster == \"cluster_6\"]), geneBoxPlot, object = tpmTable_bt2.fbgn))\n",
    "# ggsave(\"Results/Plots/DE.RT_genes_up_C6_boxPlots.pdf\", marrangeGrob(grobs = DE.genes_up_C6_boxPlots, nrow = 3, ncol =1))"
   ]
  },
  {
   "cell_type": "markdown",
   "metadata": {},
   "source": [
    "Let's look at GO enrichment across all upregulated genes:"
   ]
  },
  {
   "cell_type": "code",
   "execution_count": null,
   "metadata": {
    "collapsed": true
   },
   "outputs": [],
   "source": [
    "cluster.factor.labeling = as.data.frame(unique(subset(newSub, select = c(\"Gene_ID\", \"cluster\"))))\n",
    "row.names(cluster.factor.labeling) <- cluster.factor.labeling$Gene_ID\n",
    "cluster.factor.labeling = subset(cluster.factor.labeling, select = \"cluster\")\n",
    "cluster.factor_list = unique(cluster.factor.labeling[,1])"
   ]
  },
  {
   "cell_type": "code",
   "execution_count": null,
   "metadata": {},
   "outputs": [],
   "source": [
    "cat_genes_vec = as.integer(features_with_GO %in% newSub$Gene_ID)\n",
    "pwf$DEgenes = cat_genes_vec\n",
    "res = goseq(pwf,gene2cat=GO_info_listed)\n",
    "## over-represented categories:\n",
    "pvals = res$over_represented_pvalue\n",
    "pvals[pvals > 1 -1e-10] = 1-1e-10\n",
    "q = qvalue(pvals)\n",
    "res$over_represented_FDR = q$qvalues\n",
    "enrich_result_table = res[res$over_represented_pvalue<=0.05,]\n",
    "descr = unlist(lapply(enrich_result_table$category, get_GO_term_descr))\n",
    "enrich_result_table$go_term = descr"
   ]
  },
  {
   "cell_type": "markdown",
   "metadata": {},
   "source": [
    "There's lots of term redundancy here in the Biological process category. We'll output the result, then prune with GOtrim:"
   ]
  },
  {
   "cell_type": "code",
   "execution_count": null,
   "metadata": {
    "collapsed": true
   },
   "outputs": [],
   "source": [
    "GO_sub = subset(enrich_result_table, over_represented_FDR < 0.05)\n",
    "# GO_sub = subset(GO_sub, select = c(\"category\", \"numDEInCat\", \"numInCat\"))\n",
    "write.table(GO_sub, \"Results/GO_analyses/postmating_up_DE_for_pruning.txt\", quote = F, sep = \"\\t\", row.names = F)"
   ]
  },
  {
   "cell_type": "markdown",
   "metadata": {},
   "source": [
    "After visibly pruning, we re-load the pruned table:"
   ]
  },
  {
   "cell_type": "code",
   "execution_count": null,
   "metadata": {
    "collapsed": true
   },
   "outputs": [],
   "source": [
    "GO_sub_pruned = read.csv(\"Results/GO_analyses/postmating_up_DE_PRUNED.txt\", header = T, sep = \"\\t\")"
   ]
  },
  {
   "cell_type": "markdown",
   "metadata": {},
   "source": [
    "And can plot them as before:"
   ]
  },
  {
   "cell_type": "code",
   "execution_count": null,
   "metadata": {},
   "outputs": [],
   "source": [
    "thisData = subset(GO_sub_pruned, over_represented_FDR < 0.05)\n",
    "thisData$neg_log10_FDR = -log10(thisData$over_represented_pvalue)\n",
    "\n",
    "options(repr.plot.width = 6, repr.plot.height = 5)\n",
    "# pdf(\"Figures/postmating_GO_lollipop.pdf\", width = 6, height = 5)\n",
    "ggdotchart(thisData, x = \"term\", y = \"neg_log10_FDR\",\n",
    "           color = \"ontology\",                                # Color by groups\n",
    "           palette = c(\"#00AFBB\", \"#E7B800\", \"#FC4E07\"), # Custom color palette\n",
    "           sorting = \"descending\",                       # Sort value in descending order\n",
    "           add = \"segments\",                             # Add segments from y = 0 to dots\n",
    "           rotate = TRUE,                                # Rotate vertically\n",
    "           group = \"ontology\",                                # Order by groups\n",
    "           dot.size = 6,                                 # Large dot size\n",
    "           label = \"numDEInCat\",                        # Add mpg values as dot labels\n",
    "           font.label = list(color = \"white\", size = 9, \n",
    "                             vjust = 0.5),               # Adjust label parameters\n",
    "           ggtheme = theme_pubr()                        # ggplot2 theme\n",
    "           ) + labs(y = \"-log10(p-value)\", x = NULL)\n",
    "# dev.off()"
   ]
  },
  {
   "cell_type": "markdown",
   "metadata": {},
   "source": [
    "Here's a more exhaustive bubble plot:"
   ]
  },
  {
   "cell_type": "code",
   "execution_count": null,
   "metadata": {
    "scrolled": false
   },
   "outputs": [],
   "source": [
    "options(repr.plot.width = 12, repr.plot.height = 4)\n",
    "ggplot(subset(enrich_result_table, over_represented_FDR < 0.05), \n",
    "       aes(category, -log10(over_represented_pvalue), size = numDEInCat, colour = ontology)) + \n",
    "    geom_point() +\n",
    "#     facet_grid(.~ontology, scale = \"free_x\") +\n",
    "    xlab(NULL) + \n",
    "    geom_text_repel(data = subset(enrich_result_table, over_represented_FDR < 0.05), \n",
    "                    aes(category, -log10(over_represented_pvalue),label=term), \n",
    "                    force = 50, \n",
    "                    inherit.aes = F, \n",
    "                    box.padding = unit(0.35, \"lines\"), \n",
    "                    point.padding = unit(0.5, \"lines\"), \n",
    "                    fontface = \"bold\", \n",
    "                    size = 3) + \n",
    "    theme(axis.text.x = element_text(angle = 45, face = \"bold\", vjust = 1, hjust = 1)) + \n",
    "    scale_size(range = c(0,12)) + \n",
    "    scale_colour_manual(values=c(\"#e00068\",\n",
    "                                 \"#01777b\",\n",
    "                                 \"#9d31e4\")) + \n",
    "    scale_y_continuous(limits=c(3, 9))"
   ]
  },
  {
   "cell_type": "markdown",
   "metadata": {},
   "source": [
    "Now let's run the GO enrichment analysis for each cluster. First we create a factor labeling object:"
   ]
  },
  {
   "cell_type": "code",
   "execution_count": null,
   "metadata": {},
   "outputs": [],
   "source": [
    "GO_enriched_list = list()\n",
    "\n",
    "invisible(suppressWarnings(suppressMessages(\n",
    "for (feature_cat in cluster.factor_list) {\n",
    "    message('Processing category: ', feature_cat)\n",
    "    cat_genes_vec = as.integer(features_with_GO %in% rownames(cluster.factor.labeling)[cluster.factor.labeling$cluster == feature_cat])\n",
    "    pwf$DEgenes = cat_genes_vec\n",
    "    res = goseq(pwf,gene2cat=GO_info_listed)\n",
    "    ## over-represented categories:\n",
    "    pvals = res$over_represented_pvalue\n",
    "    pvals[pvals > 1 -1e-10] = 1-1e-10\n",
    "    q = qvalue(pvals)\n",
    "    res$over_represented_FDR = q$qvalues\n",
    "    go_enrich_factor = feature_cat\n",
    "    enrich_result_table = res[res$over_represented_pvalue<=0.05,]\n",
    "    descr = unlist(lapply(enrich_result_table$category, get_GO_term_descr))\n",
    "    enrich_result_table$go_term = descr\n",
    "    enrich_result_table$factor = go_enrich_factor\n",
    "    GO_enriched_list[[feature_cat]] = enrich_result_table\n",
    "}\n",
    ")))\n",
    "GO_enrichment_data = rbindlist(GO_enriched_list)\n",
    "write.table(GO_enrichment_data, \"Results/GO_analyses/GO_results-RT_clusters_upregulated_genes_aBT2.txt\", quote = F, sep = \"\\t\", row.names = F)\n",
    "unique(filter(GO_enrichment_data, over_represented_FDR < 0.05)$factor)"
   ]
  },
  {
   "cell_type": "markdown",
   "metadata": {},
   "source": [
    "We can output a PDF of gene plots for different categories of upregulated genes. First, we'll create lists of DE genes that are unique to either con- or heterospecific condition, or are shared:"
   ]
  },
  {
   "cell_type": "code",
   "execution_count": null,
   "metadata": {
    "collapsed": true
   },
   "outputs": [],
   "source": [
    "hetUnique.3hpm = setdiff(intersect(DE.genes_H3.v.vir_up, sig.het_up.3hpm_list), DE.genes_C3.v.vir_up)\n",
    "hetUnique.6hpm = setdiff(intersect(DE.genes_H6.v.vir_up, sig.het_up.6hpm_list), DE.genes_C6.v.vir_up)\n",
    "hetUnique.12hpm = setdiff(intersect(DE.genes_H12.v.vir_up, sig.het_up.12hpm_list), DE.genes_C12.v.vir_up)\n",
    "DE.genes_up_het_unique = unique(c(hetUnique.3hpm, hetUnique.6hpm, hetUnique.12hpm))"
   ]
  },
  {
   "cell_type": "code",
   "execution_count": null,
   "metadata": {
    "collapsed": true
   },
   "outputs": [],
   "source": [
    "conUnique.3hpm = setdiff(intersect(DE.genes_C3.v.vir_up, sig.het_down.3hpm_list), DE.genes_H3.v.vir_up)\n",
    "conUnique.6hpm = setdiff(intersect(DE.genes_C6.v.vir_up, sig.het_down.6hpm_list), DE.genes_H6.v.vir_up)\n",
    "conUnique.12hpm = setdiff(intersect(DE.genes_C12.v.vir_up, sig.het_down.12hpm_list), DE.genes_H12.v.vir_up)\n",
    "DE.genes_up_con_unique = unique(c(conUnique.3hpm, conUnique.6hpm, conUnique.12hpm))"
   ]
  },
  {
   "cell_type": "code",
   "execution_count": null,
   "metadata": {
    "collapsed": true
   },
   "outputs": [],
   "source": [
    "shared.3hpm = setdiff(intersect(DE.genes_C3.v.vir_up, DE.genes_H3.v.vir_up), c(sig.het_up.3hpm_list, sig.het_down.3hpm_list))\n",
    "shared.6hpm = setdiff(intersect(DE.genes_C6.v.vir_up, DE.genes_H6.v.vir_up), c(sig.het_up.6hpm_list, sig.het_down.6hpm_list))\n",
    "shared.12hpm = setdiff(intersect(DE.genes_C12.v.vir_up, DE.genes_H12.v.vir_up), c(sig.het_up.12hpm_list, sig.het_down.12hpm_list))\n",
    "DE.genes_up_shared = unique(c(shared.3hpm, shared.6hpm, shared.12hpm))"
   ]
  },
  {
   "cell_type": "markdown",
   "metadata": {},
   "source": [
    "Here we'll output these plots:"
   ]
  },
  {
   "cell_type": "code",
   "execution_count": null,
   "metadata": {
    "collapsed": true
   },
   "outputs": [],
   "source": [
    "# DE.genes_up_con_specific_boxPlots = suppressMessages(lapply(DE.genes_up_con_unique, geneBoxPlot, object = tpmTable_bt2.fbgn))\n",
    "# ggsave(\"Results/Plots/RT_Upregulated_genes_in_con_condition.pdf\", marrangeGrob(grobs = DE.genes_up_con_specific_boxPlots, nrow = 3, ncol =1))\n",
    "\n",
    "# DE.genes_up_het_specific_boxPlots = suppressMessages(lapply(DE.genes_up_het_unique, geneBoxPlot, object = tpmTable_bt2.fbgn))\n",
    "# ggsave(\"Results/Plots/RT_Upregulated_genes_in_het_condition.pdf\", marrangeGrob(grobs = DE.genes_up_het_specific_boxPlots, nrow = 3, ncol =1))\n",
    "\n",
    "# DE.genes_up_shared_boxPlots = suppressMessages(lapply(DE.genes_up_shared, geneBoxPlot, object = tpmTable_bt2.fbgn))\n",
    "# ggsave(\"Results/Plots/RT_Upregulated_genes_shared.pdf\", marrangeGrob(grobs = DE.genes_up_shared_boxPlots, nrow = 3, ncol =1))"
   ]
  },
  {
   "cell_type": "markdown",
   "metadata": {},
   "source": [
    "We can also run GO analyses on these three groups separately (actually just on the shared ones; either specific group has no enrichment):"
   ]
  },
  {
   "cell_type": "code",
   "execution_count": null,
   "metadata": {},
   "outputs": [],
   "source": [
    "## Shared\n",
    "cat_genes_vec = as.integer(features_with_GO %in% DE.genes_up_shared)\n",
    "pwf$DEgenes = cat_genes_vec\n",
    "res = goseq(pwf,gene2cat=GO_info_listed)\n",
    "## over-represented categories:\n",
    "pvals = res$over_represented_pvalue\n",
    "pvals[pvals > 1 -1e-10] = 1-1e-10\n",
    "q = qvalue(pvals)\n",
    "res$over_represented_FDR = q$qvalues\n",
    "Up_shared.enrich_result_table = res[res$over_represented_pvalue<=0.05,]\n",
    "descr = unlist(lapply(Up_shared.enrich_result_table$category, get_GO_term_descr))\n",
    "Up_shared.enrich_result_table$go_term = descr\n",
    "Up_shared.enrich_result_table$factor = go_enrich_factor\n",
    "write.table(Up_shared.enrich_result_table, \"Results/GO_analyses/GO_results-RT_upregulated_genes_shared_aBT2.txt\", quote = F, sep = \"\\t\", row.names = F)"
   ]
  },
  {
   "cell_type": "markdown",
   "metadata": {},
   "source": [
    "###### Immune and JNK pathway genes that are uniquely upregulated in the heterospecific condition:"
   ]
  },
  {
   "cell_type": "markdown",
   "metadata": {},
   "source": [
    "Immune genes feature prominantly among upregulated genes that are specific to the heterospecific condition. Let's make an individual gene plot for those. First, some edits for some data frame:"
   ]
  },
  {
   "cell_type": "code",
   "execution_count": null,
   "metadata": {
    "collapsed": true
   },
   "outputs": [],
   "source": [
    "melOrthsAll$mel_GeneSymbol = gsub(\"CG12780, \", \"\", melOrthsAll$mel_GeneSymbol)\n",
    "annot.sum$SwissProt_BlastX_Description = gsub(\"Phospholipase A2 isozymes PA3A/PA3B/PA5\", \"Phospholipase\", annot.sum$SwissProt_BlastX_Description)"
   ]
  },
  {
   "cell_type": "markdown",
   "metadata": {},
   "source": [
    "Now generate a grid plot:"
   ]
  },
  {
   "cell_type": "code",
   "execution_count": null,
   "metadata": {
    "collapsed": true
   },
   "outputs": [],
   "source": [
    "options(repr.plot.width = 9, repr.plot.height = 5)\n",
    "attacin = RT.geneBoxPlot(tpmTable_bt2.fbgn, \"FBgn0207711\")\n",
    "defensin = RT.geneBoxPlot(tpmTable_bt2.fbgn, \"FBgn0209590\")\n",
    "cecropin = RT.geneBoxPlot(tpmTable_bt2.fbgn, \"FBgn0017816\") + labs(title = \"Cec2B\", subtitle = \"Cecropin-2\")\n",
    "gnbp = RT.geneBoxPlot(tpmTable_bt2.fbgn, \"FBgn0207804\") + labs(title = \"GJ20666 (GNBP-like3)\", subtitle = \"Gram-negative bacteria-binding\\nprotein 3\")\n",
    "relish = RT.geneBoxPlot(tpmTable_bt2.fbgn, \"FBgn0210579\")\n",
    "immune_genes_plots = plot_grid(attacin, defensin, cecropin, gnbp, relish, ncol = 3, align = \"h\")"
   ]
  },
  {
   "cell_type": "markdown",
   "metadata": {},
   "source": [
    "ALso for JNK pathway genes:"
   ]
  },
  {
   "cell_type": "code",
   "execution_count": null,
   "metadata": {
    "collapsed": true
   },
   "outputs": [],
   "source": [
    "options(repr.plot.width = 6, repr.plot.height = 5)\n",
    "gadd45 = RT.geneBoxPlot(tpmTable_bt2.fbgn, \"FBgn0208196\") + labs(title = \"GJ21062 (Gadd45)\", subtitle = \"Growth arrest and DNA-dammage\\ninducible protein\")\n",
    "ets21c = RT.geneBoxPlot(tpmTable_bt2.fbgn, \"FBgn0206847\")\n",
    "GIIIspla2 = RT.geneBoxPlot(tpmTable_bt2.fbgn, \"FBgn0206553\") \n",
    "socs = RT.geneBoxPlot(tpmTable_bt2.fbgn, \"FBgn0197572\")\n",
    "jnkStat_genes_plots = plot_grid(gadd45, ets21c, GIIIspla2, socs, ncol = 2, align = \"h\")"
   ]
  },
  {
   "cell_type": "markdown",
   "metadata": {},
   "source": [
    "Now combine them:"
   ]
  },
  {
   "cell_type": "code",
   "execution_count": null,
   "metadata": {},
   "outputs": [],
   "source": [
    "options(repr.plot.width = 15, repr.plot.height = 5.3)\n",
    "# pdf(\"Figures/immune_and_jnkStat_gene_plots.pdf\", height = 5.3, width = 15)\n",
    "plot_grid(immune_genes_plots, jnkStat_genes_plots, ncol = 2, labels = \"AUTO\", rel_widths = c(1.33, 1), label_size = 20, scale = c(0.95, 0.95))\n",
    "# dev.off()"
   ]
  },
  {
   "cell_type": "markdown",
   "metadata": {},
   "source": [
    "##### Analysis of downregulated genes in the female RT:"
   ]
  },
  {
   "cell_type": "markdown",
   "metadata": {},
   "source": [
    "First we'll look at those genes that are upregulated in the RT across all three postmating timepoints. We'll first generate a list of these genes and a TPM matrix for the conspecific condition samples:"
   ]
  },
  {
   "cell_type": "code",
   "execution_count": null,
   "metadata": {},
   "outputs": [],
   "source": [
    "RT_downregulated_genes = unique(unlist(c(RT_Down_3hrs_elements, RT_Down_6hrs_elements, RT_Down_12hrs_elements)))\n",
    "message(paste(\"There are \", length(RT_downregulated_genes), \" downregulated genes\", sep =\"\"))\n",
    "RT_downregulated_genes_matrix = subset(tpmMatrix_bt2.fbgn, rownames(tpmMatrix_bt2.fbgn) %in% RT_downregulated_genes)\n",
    "\n",
    "RT_downregulated_genes_matrix = RT_downregulated_genes_matrix[ , grepl(\"RT\", names(RT_downregulated_genes_matrix))]\n",
    "RT_downregulated_genes_matrix_con = subset(RT_downregulated_genes_matrix, select = c(\"Female_V_RT\", \"Female_C3_RT\", \"Female_C6_RT\", \"Female_C12_RT\"))\n",
    "RT_downregulated_genes_matrix_het = subset(RT_downregulated_genes_matrix, select = c(\"Female_V_RT\", \"Female_H3_RT\", \"Female_H6_RT\", \"Female_H12_RT\"))"
   ]
  },
  {
   "cell_type": "markdown",
   "metadata": {},
   "source": [
    "We can perform clustering of these genes by expression profile across the conspecific samples. We'll first need to estimate an appropriate number of clusters."
   ]
  },
  {
   "cell_type": "code",
   "execution_count": null,
   "metadata": {},
   "outputs": [],
   "source": [
    "options(repr.plot.width = 4, repr.plot.height = 3)\n",
    "findK(RT_downregulated_genes_matrix)"
   ]
  },
  {
   "cell_type": "markdown",
   "metadata": {},
   "source": [
    "Cruedly, it looks like 5 clusters will aproopriately represent groupings of this gene set. We'll re-examine this after performing the analysis. First we'll run the cluster analysis:"
   ]
  },
  {
   "cell_type": "code",
   "execution_count": null,
   "metadata": {
    "collapsed": true
   },
   "outputs": [],
   "source": [
    "data = RT_downregulated_genes_matrix\n",
    "data = log2(data+1)\n",
    "data = as.matrix(data) # convert to matrix\n",
    "data = t(scale(t(data), scale=F))\n",
    "sample_cor = cor(data, method='pearson', use='pairwise.complete.obs')\n",
    "sample_dist = as.dist(1-sample_cor)\n",
    "hc_samples = hclust(sample_dist, method='complete')\n",
    "gene_cor = NULL\n",
    "if (is.null(gene_cor)) { gene_cor = cor(t(data), method='pearson', use='pairwise.complete.obs') }\n",
    "gene_dist = as.dist(1-gene_cor)\n",
    "hc_genes = hclust(gene_dist, method='complete')\n",
    "gene_partition_assignments <- cutree(as.hclust(hc_genes), k=6)\n",
    "\n",
    "## can also be done by tree height:\n",
    "#gene_partition_assignments <- cutree(as.hclust(hc_genes), h=50/100*max(hc_genes$height))"
   ]
  },
  {
   "cell_type": "markdown",
   "metadata": {},
   "source": [
    "Here we'll just generate some color parameters for each cluster:"
   ]
  },
  {
   "cell_type": "code",
   "execution_count": null,
   "metadata": {
    "collapsed": true
   },
   "outputs": [],
   "source": [
    "partition_colors = rainbow(length(unique(gene_partition_assignments)), start=0.4, end=0.95)\n",
    "gene_colors_dframe = data.frame(clusters=gene_partition_assignments, colors=partition_colors[gene_partition_assignments])\n",
    "gene_colors = as.matrix(partition_colors[gene_partition_assignments])"
   ]
  },
  {
   "cell_type": "markdown",
   "metadata": {},
   "source": [
    "Now we can plot a heatmap of these genes with their cluster identification:"
   ]
  },
  {
   "cell_type": "code",
   "execution_count": null,
   "metadata": {},
   "outputs": [],
   "source": [
    "heatmap_data = data\n",
    "heatmap_data[heatmap_data < -2] = -2\n",
    "heatmap_data[heatmap_data > 2] = 2\n",
    "options(repr.plot.width = 6, repr.plot.height = 7)\n",
    "heatmap.3(heatmap_data, dendrogram = \"row\", Rowv=as.dendrogram(hc_genes), Colv = c(\"V_RT\", \"C3_RT\", \"C6_RT\", \"C12_RT\"),col=myheatcol, RowSideColors=gene_colors, scale=\"none\", density.info=\"histogram\", trace=\"none\", key=TRUE, cexCol=1, margins=c(10,10), cexRow=0.5, labRow = F)"
   ]
  },
  {
   "cell_type": "markdown",
   "metadata": {},
   "source": [
    "The cluster grouping (coloured bars on the left) seem to correspond well to overall grouping of gene expression profiles."
   ]
  },
  {
   "cell_type": "markdown",
   "metadata": {},
   "source": [
    "We'll loop over the cluster assignments and import them into the cluster list object:"
   ]
  },
  {
   "cell_type": "code",
   "execution_count": null,
   "metadata": {
    "collapsed": true
   },
   "outputs": [],
   "source": [
    "cluster_list = list()\n",
    "max_cluster_count = max(gene_partition_assignments)\n",
    "for (i in 1:max_cluster_count) {\n",
    "    partition_i = (gene_partition_assignments == i)\n",
    "    partition_data = data[partition_i,,drop=F]\n",
    "    cluster_list[[i]] = as.data.frame(partition_data)\n",
    "    cluster_list[[i]]$Gene_ID = rownames(cluster_list[[i]])\n",
    "    cluster_list[[i]]$cluster = paste(\"cluster_\", i, sep = \"\")\n",
    "}\n",
    "\n",
    "#cluster_list\n",
    "cluster_PM_data = rbindlist(cluster_list)"
   ]
  },
  {
   "cell_type": "markdown",
   "metadata": {},
   "source": [
    "Now we'll generate a data frame with expression data for these clusters to make line plots of each cluster:"
   ]
  },
  {
   "cell_type": "code",
   "execution_count": null,
   "metadata": {
    "collapsed": true
   },
   "outputs": [],
   "source": [
    "conSub = subset(cluster_PM_data, select = c(\"Gene_ID\", \"cluster\", \"Female_V_RT\", \"Female_C3_RT\", \"Female_C6_RT\", \"Female_C12_RT\"))\n",
    "hetSub = subset(cluster_PM_data, select = c(\"Gene_ID\", \"cluster\", \"Female_V_RT\", \"Female_H3_RT\", \"Female_H6_RT\", \"Female_H12_RT\"))\n",
    "\n",
    "df.conSub = melt(conSub, id.vars = c(\"Gene_ID\", \"cluster\"))\n",
    "df.conSub$condition <- ifelse(grepl(\"C\", df.conSub$variable, ignore.case = F), \"conspecific\", ifelse(grepl(\"H\", df.conSub$variable, ignore.case = F), \"heterospecific\", \"virgin\"))\n",
    "df.conSub$time <- ifelse(grepl(\"3\", df.conSub$variable), \"3hpm\", ifelse(grepl(\"6\", df.conSub$variable), \"6hpm\", ifelse(grepl(\"12\", df.conSub$variable), \"12hpm\",\"virgin\")))\n",
    "df.conSub$time = factor(df.conSub$time, levels = c(\"virgin\", \"3hpm\", \"6hpm\", \"12hpm\"))\n",
    "df.conSub$crossType = \"conspecific\"\n",
    "\n",
    "df.hetSub = melt(hetSub, id.vars = c(\"Gene_ID\", \"cluster\"))\n",
    "df.hetSub$condition <- ifelse(grepl(\"C\", df.hetSub$variable, ignore.case = F), \"conspecific\", ifelse(grepl(\"H\", df.hetSub$variable, ignore.case = F), \"heterospecific\", \"virgin\"))\n",
    "df.hetSub$time <- ifelse(grepl(\"3\", df.hetSub$variable), \"3hpm\", ifelse(grepl(\"6\", df.hetSub$variable), \"6hpm\", ifelse(grepl(\"12\", df.hetSub$variable), \"12hpm\",\"virgin\")))\n",
    "df.hetSub$time = factor(df.hetSub$time, levels = c(\"virgin\", \"3hpm\", \"6hpm\", \"12hpm\"))\n",
    "df.hetSub$crossType = \"heterospecific\"\n",
    "\n",
    "newSub = rbind(df.conSub, df.hetSub)"
   ]
  },
  {
   "cell_type": "markdown",
   "metadata": {},
   "source": [
    "We can plot it like so:"
   ]
  },
  {
   "cell_type": "code",
   "execution_count": null,
   "metadata": {
    "scrolled": false
   },
   "outputs": [],
   "source": [
    "newSub$cluster = factor(newSub$cluster, levels = c(\"cluster_1\", \n",
    "                                                   \"cluster_2\", \n",
    "                                                   \"cluster_3\", \n",
    "                                                   \"cluster_4\",\n",
    "                                                   \"cluster_5\",\n",
    "                                                   \"cluster_6\" \n",
    "#                                                    \"cluster_7\", \n",
    "                                                  ))\n",
    "options(repr.plot.width = 6, repr.plot.height = 3)\n",
    "# pdf(\"Figures/cluster_groupings_down.pdf\", width = 6, height = 3)\n",
    "ggplot() + \n",
    "    geom_line(data = subset(newSub, crossType == \"conspecific\"),\n",
    "              aes(time, value, group = Gene_ID), \n",
    "              colour = \"#ffb200\",\n",
    "              alpha = 0.5,\n",
    "              size = 0.5) +\n",
    "    geom_line(data = subset(newSub, crossType == \"heterospecific\"), \n",
    "              aes(time, value, group = Gene_ID), \n",
    "              colour = \"#00b5d4\",\n",
    "              alpha = 0.5,\n",
    "              size = 0.5) +\n",
    "    theme_minimal() + \n",
    "    facet_wrap('cluster',scales='free_y', nrow = 2) +\n",
    "    scale_color_hue(l=50,h.start=200) + \n",
    "    theme(axis.text.x=element_text(angle=45,hjust=1, size = 12),\n",
    "         axis.text.y = element_text(size = 12),\n",
    "         axis.title.x = element_blank(),\n",
    "         axis.title.y = element_text(size = 13),\n",
    "         strip.text = element_text(size = 14)) +\n",
    "    stat_summary(data = newSub, \n",
    "                 aes(x=time,y=value,group=crossType),\n",
    "                 fun.data=\"mean_cl_boot\",\n",
    "                 color=\"black\",\n",
    "                 fill=\"black\",\n",
    "                 alpha=0.2,\n",
    "                 size=0.3,\n",
    "                 geom=\"smooth\") +\n",
    "    ylab(\"centered log2(TPM+1)\")\n",
    "# dev.off()"
   ]
  },
  {
   "cell_type": "markdown",
   "metadata": {},
   "source": [
    "Let's output individual gene plots of all thesegenes, partitioned by cluster:"
   ]
  },
  {
   "cell_type": "code",
   "execution_count": null,
   "metadata": {
    "collapsed": true
   },
   "outputs": [],
   "source": [
    "# DE.genes_down_C1_boxPlots = suppressMessages(lapply(unique(newSub$Gene_ID[newSub$cluster == \"cluster_1\"]), geneBoxPlot, object = tpmTable_bt2.fbgn))\n",
    "# ggsave(\"Results/Plots/DE.RT_genes_down_C1_boxPlots.pdf\", marrangeGrob(grobs = DE.genes_down_C1_boxPlots, nrow = 3, ncol =1))\n",
    "\n",
    "# DE.genes_down_C2_boxPlots = suppressMessages(lapply(unique(newSub$Gene_ID[newSub$cluster == \"cluster_2\"]), geneBoxPlot, object = tpmTable_bt2.fbgn))\n",
    "# ggsave(\"Results/Plots/DE.RT_genes_down_C2_boxPlots.pdf\", marrangeGrob(grobs = DE.genes_down_C2_boxPlots, nrow = 3, ncol =1))\n",
    "\n",
    "# DE.genes_down_C3_boxPlots = suppressMessages(lapply(unique(newSub$Gene_ID[newSub$cluster == \"cluster_3\"]), geneBoxPlot, object = tpmTable_bt2.fbgn))\n",
    "# ggsave(\"Results/Plots/DE.RT_genes_down_C3_boxPlots.pdf\", marrangeGrob(grobs = DE.genes_down_C3_boxPlots, nrow = 3, ncol =1))\n",
    "\n",
    "# DE.genes_down_C4_boxPlots = suppressMessages(lapply(unique(newSub$Gene_ID[newSub$cluster == \"cluster_4\"]), geneBoxPlot, object = tpmTable_bt2.fbgn))\n",
    "# ggsave(\"Results/Plots/DE.RT_genes_down_C4_boxPlots.pdf\", marrangeGrob(grobs = DE.genes_down_C4_boxPlots, nrow = 3, ncol =1))\n",
    "\n",
    "# DE.genes_down_C5_boxPlots = suppressMessages(lapply(unique(newSub$Gene_ID[newSub$cluster == \"cluster_5\"]), geneBoxPlot, object = tpmTable_bt2.fbgn))\n",
    "# ggsave(\"Results/Plots/DE.RT_genes_down_C5_boxPlots.pdf\", marrangeGrob(grobs = DE.genes_down_C5_boxPlots, nrow = 3, ncol =1))\n",
    "\n",
    "# DE.genes_down_C6_boxPlots = suppressMessages(lapply(unique(newSub$Gene_ID[newSub$cluster == \"cluster_6\"]), geneBoxPlot, object = tpmTable_bt2.fbgn))\n",
    "# ggsave(\"Results/Plots/DE.RT_genes_down_C6_boxPlots.pdf\", marrangeGrob(grobs = DE.genes_down_C6_boxPlots, nrow = 3, ncol =1))"
   ]
  },
  {
   "cell_type": "markdown",
   "metadata": {},
   "source": [
    "Let's look at GO enrichment across all downregulated genes:"
   ]
  },
  {
   "cell_type": "code",
   "execution_count": null,
   "metadata": {},
   "outputs": [],
   "source": [
    "cat_genes_vec = as.integer(features_with_GO %in% newSub$Gene_ID)\n",
    "pwf$DEgenes = cat_genes_vec\n",
    "res = goseq(pwf,gene2cat=GO_info_listed)\n",
    "## over-represented categories:\n",
    "pvals = res$over_represented_pvalue\n",
    "pvals[pvals > 1 -1e-10] = 1-1e-10\n",
    "q = qvalue(pvals)\n",
    "res$over_represented_FDR = q$qvalues\n",
    "enrich_result_table = res[res$over_represented_pvalue<=0.05,]\n",
    "descr = unlist(lapply(enrich_result_table$category, get_GO_term_descr))\n",
    "enrich_result_table$go_term = descr\n",
    "subset(enrich_result_table, over_represented_FDR < 0.05)"
   ]
  },
  {
   "cell_type": "markdown",
   "metadata": {},
   "source": [
    "No significant GO terms."
   ]
  },
  {
   "cell_type": "markdown",
   "metadata": {},
   "source": [
    "### Ovaries post-mating contrasts:"
   ]
  },
  {
   "cell_type": "markdown",
   "metadata": {},
   "source": [
    "Create OV-specific count matrix "
   ]
  },
  {
   "cell_type": "code",
   "execution_count": null,
   "metadata": {
    "collapsed": true
   },
   "outputs": [],
   "source": [
    "counts_bt2.fbgn.OV = subset(counts_bt2.fbgn, select=grepl(\"OV\", colnames(counts_bt2.fbgn)))\n",
    "colnames(counts_bt2.fbgn.OV) = gsub(\"Female_\", \"\", colnames(counts_bt2.fbgn.OV))"
   ]
  },
  {
   "cell_type": "markdown",
   "metadata": {},
   "source": [
    "Now let's filter low expression genes within a minimum cpm of 2:"
   ]
  },
  {
   "cell_type": "code",
   "execution_count": null,
   "metadata": {},
   "outputs": [],
   "source": [
    "cpm_bt2.fbgn.OV <- cpm(counts_bt2.fbgn.OV)\n",
    "thresh_OV.bt2.fbgn <- cpm_bt2.fbgn.OV > 5\n",
    "\n",
    "countsKeep_OV.bt2.fbgn <- rowSums(thresh_OV.bt2.fbgn) >= 2\n",
    "countsFiltered_bt2.fbgn.OV <- counts_bt2.fbgn.OV[countsKeep_OV.bt2.fbgn,]\n",
    "## Check how many genes remain in the matrix.\n",
    "dim(countsFiltered_bt2.fbgn.OV)\n",
    "\n",
    "## Clean-up\n",
    "rm(cpm_bt2.fbgn.OV, countsKeep_OV.bt2.fbgn, thresh_OV.bt2.fbgn)"
   ]
  },
  {
   "cell_type": "markdown",
   "metadata": {},
   "source": [
    "We'll also subset the samplesInfo object to only include the RT samples:"
   ]
  },
  {
   "cell_type": "code",
   "execution_count": null,
   "metadata": {
    "collapsed": true
   },
   "outputs": [],
   "source": [
    "sampleInfo.ov = subset(sampleInfo, Tissue == \"ovaries\")\n",
    "sampleInfo.ov$SampleName = gsub(\"Female_\", \"\", sampleInfo.ov$SampleName)\n",
    "sampleInfo.ov$Replicate = gsub(\"Female_\", \"\", sampleInfo.ov$Replicate)"
   ]
  },
  {
   "cell_type": "markdown",
   "metadata": {},
   "source": [
    "#### Comparing each postmating time point to the virgin ovary sample and to each other:"
   ]
  },
  {
   "cell_type": "markdown",
   "metadata": {},
   "source": [
    "Here we can set up new grouping and comparison matrix with all the postmating time-point samples by combining the \"Status\" and \"time\" factors:"
   ]
  },
  {
   "cell_type": "code",
   "execution_count": null,
   "metadata": {
    "collapsed": true
   },
   "outputs": [],
   "source": [
    "## Will need to relevel the Status grouping to make virgin control\n",
    "Status.time <- factor(paste(sampleInfo.ov$Status, sampleInfo.ov$Time, sep=\".\"))\n",
    "sampleInfo.ov <- cbind(sampleInfo.ov, Group=Status.time)\n",
    "sampleInfo.ov$Group <- relevel(sampleInfo.ov$Group, ref = \"virgin.virgin\")"
   ]
  },
  {
   "cell_type": "markdown",
   "metadata": {},
   "source": [
    "Next we need to set a different matrix where we test for differences between conspecific and heterospecific treatments of each time point:"
   ]
  },
  {
   "cell_type": "code",
   "execution_count": null,
   "metadata": {
    "collapsed": true
   },
   "outputs": [],
   "source": [
    "groups.ovb <- factor(sampleInfo.ov$SampleName)\n",
    "design.ovb <- model.matrix(~ 0 + groups.ovb)\n",
    "colnames(design.ovb) <- levels(groups.ovb)\n",
    "rownames(design.ovb) <- sampleInfo.ov$Replicate"
   ]
  },
  {
   "cell_type": "markdown",
   "metadata": {},
   "source": [
    "Create edgeR DE object and run glmFit"
   ]
  },
  {
   "cell_type": "code",
   "execution_count": null,
   "metadata": {
    "collapsed": true
   },
   "outputs": [],
   "source": [
    "dgeList.ov <- DGEList(counts = countsFiltered_bt2.fbgn.OV, group = groups.ovb)\n",
    "dgeList.ov <- calcNormFactors(dgeList.ov)\n",
    "dgeList.ov <- estimateCommonDisp(dgeList.ov)\n",
    "dgeList.ov <- estimateTagwiseDisp(dgeList.ov)\n",
    "dgeList.ov_fit <- glmFit(dgeList.ov, design.ovb)"
   ]
  },
  {
   "cell_type": "markdown",
   "metadata": {},
   "source": [
    "Let's add the annotation information to this fit object:"
   ]
  },
  {
   "cell_type": "code",
   "execution_count": null,
   "metadata": {},
   "outputs": [],
   "source": [
    "# Extract annotation for genes in the fit object\n",
    "ann.ov = subset(Annots, FBgn_ID %in% rownames(dgeList.ov_fit))\n",
    "ann.ov = subset(ann.ov, select = c(\"FBgn_ID\", \"gene_name\", \"SwissProt_BlastX_Description\"))\n",
    "# convert factors to characters\n",
    "ann.ov = data.frame(lapply(ann.ov, as.character), stringsAsFactors=FALSE)\n",
    "# align the fit object's rownames with gene ID's\n",
    "ann.ov = ann.ov[match(rownames(dgeList.ov_fit), ann.ov$FBgn_ID),]\n",
    "# convert factors to characters, again\n",
    "ann.ov <- data.frame(lapply(ann.ov, as.character), stringsAsFactors=FALSE)\n",
    "# Rename \"FBgn_ID\" as \"GeneID\"\n",
    "colnames(ann.ov) = c (\"GeneID\", \"gene_name\", \"SwissProt_BlastX_Description\")\n",
    "# Check that the fit rownames match the annotation file's gene ID's\n",
    "table(ann.ov$GeneID==rownames(dgeList.ov_fit))\n",
    "# Add the annotations to the fit object in the \"genes\" slot\n",
    "dgeList.ov_fit$genes = ann.ov"
   ]
  },
  {
   "cell_type": "markdown",
   "metadata": {},
   "source": [
    "Also, check the tagwise dispersion summary:"
   ]
  },
  {
   "cell_type": "code",
   "execution_count": null,
   "metadata": {},
   "outputs": [],
   "source": [
    "summary(dgeList.ov$tagwise.dispersion)"
   ]
  },
  {
   "cell_type": "markdown",
   "metadata": {},
   "source": [
    "Again, quick look at the BCV, mean-variance trend, qq-plot and normalized count distributions."
   ]
  },
  {
   "cell_type": "code",
   "execution_count": null,
   "metadata": {
    "scrolled": false
   },
   "outputs": [],
   "source": [
    "options(repr.plot.width = 8, repr.plot.height = 6)\n",
    "par(mfrow=c(2,2))\n",
    "# Biological coefficient of variation\n",
    "plotBCV(dgeList.ov)\n",
    "# mean-variance trend\n",
    "ov.voom = voom(dgeList.ov, design.ovb, plot=TRUE)\n",
    "# QQ-plot\n",
    "g.ov <- gof(dgeList.ov_fit)\n",
    "z.ov <- zscoreGamma(g.ov$gof.statistics,shape=g.ov$df/2,scale=2)\n",
    "qqnorm(z.ov); qqline(z.ov, col = 4,lwd=1,lty=1)\n",
    "# log2 transformed and normalize boxplot of counts across samples\n",
    "boxplot(ov.voom$E, xlab=\"\", ylab=\"Log2 counts per million\",las=2,main=\"Voom transformed logCov\")\n",
    "abline(h=median(ov.voom$E),col=\"blue\")"
   ]
  },
  {
   "cell_type": "markdown",
   "metadata": {},
   "source": [
    "And make an MDS plot with Limma:"
   ]
  },
  {
   "cell_type": "code",
   "execution_count": null,
   "metadata": {},
   "outputs": [],
   "source": [
    "options(repr.plot.width = 4, repr.plot.height = 3)\n",
    "plotMDS(dgeList.ov, cex = 0.5)"
   ]
  },
  {
   "cell_type": "markdown",
   "metadata": {},
   "source": [
    "Let's look at samples correlation:"
   ]
  },
  {
   "cell_type": "code",
   "execution_count": null,
   "metadata": {
    "collapsed": true
   },
   "outputs": [],
   "source": [
    "sampleColLabeling = subset(sampleInfo.ov, select = c(\"SampleName\", \"Replicate\"))\n",
    "sampleColLabeling = filter(sampleColLabeling, grepl(\"OV\", SampleName))\n",
    "rownames(sampleColLabeling) = sampleColLabeling$Replicate\n",
    "sampleColLabeling = subset(sampleColLabeling, select = SampleName)\n",
    "colnames(sampleColLabeling) = \"Sample\"\n",
    "sampleColLabeling$Sample = factor(sampleColLabeling$Sample, levels = c(\"V_OV\", \"C6_OV\", \"H6_OV\"))"
   ]
  },
  {
   "cell_type": "markdown",
   "metadata": {},
   "source": [
    "Now plot it:"
   ]
  },
  {
   "cell_type": "code",
   "execution_count": null,
   "metadata": {},
   "outputs": [],
   "source": [
    "## Plot sample correlation\n",
    "data = log2(countsFiltered_bt2.fbgn.OV+1)\n",
    "colnames(data) = gsub(\"Female_\", \"\", colnames(data))\n",
    "data = as.matrix(data)\n",
    "sample_cor = cor(data, method='pearson', use='pairwise.complete.obs')\n",
    "\n",
    "cor_colors <- list(Sample = c(\"#00071b\",\"#fbbc1b\",\"#4be177\"))\n",
    "names(cor_colors$Sample) <- unique(sampleColLabeling$Sample)\n",
    "\n",
    "options(repr.plot.width = 5, repr.plot.height = 3.5)\n",
    "pheatmap(\n",
    "  mat               = sample_cor,\n",
    "  color             = inferno(100),\n",
    "#   border_color      = NA,\n",
    "  annotation_col    = sampleColLabeling,\n",
    "  annotation_row    = sampleColLabeling,\n",
    "  drop_levels       = TRUE,\n",
    "  annotation_colors = cor_colors,\n",
    "  show_colnames     = TRUE,\n",
    "  show_rownames     = TRUE,\n",
    "  annotation_names_row = F,\n",
    "#   filename          = \"Figures/repTract_sample_correlations.pdf\",\n",
    "#   width             = 7, \n",
    "#   height            = 5,\n",
    "  fontsize          = 12    \n",
    ")"
   ]
  },
  {
   "cell_type": "markdown",
   "metadata": {},
   "source": [
    "To perform pairwise differential expression tests between postmating samples and the virgin sample, we can run glmTreat by specifying the coefficient (have to look at the matrix), and only capture genes with >2-fold expression difference:"
   ]
  },
  {
   "cell_type": "code",
   "execution_count": null,
   "metadata": {
    "collapsed": true
   },
   "outputs": [],
   "source": [
    "het.v.vir <- makeContrasts(hOV.vs.vOV=H6_OV-V_OV, levels=design.ovb)\n",
    "con.v.vir <- makeContrasts(cOV.vs.vOV=C6_OV-V_OV, levels=design.ovb)\n",
    "het.v.con <- makeContrasts(hOV.vs.cOV=H6_OV-C6_OV, levels=design.ovb)\n",
    "all.v.all <- makeContrasts(hOV.vs.vOV=H6_OV-V_OV, cOV.vs.vOV=C6_OV-V_OV, hOV.vs.cOV=H6_OV-C6_OV, levels=design.ovb)"
   ]
  },
  {
   "cell_type": "code",
   "execution_count": null,
   "metadata": {},
   "outputs": [],
   "source": [
    "lrt_all.v.all <- glmLRT(dgeList.ov_fit, contrast = all.v.all)\n",
    "lrt_all.v.all.tTags <- topTags(lrt_all.v.all, n = 4)\n",
    "lrt_all.v.all.tTags.table <- lrt_all.v.all.tTags$table\n",
    "head(lrt_all.v.all.tTags.table)"
   ]
  },
  {
   "cell_type": "markdown",
   "metadata": {},
   "source": [
    "Now we can fit the negative binomial log-linear model to conduct gene-wise statistical tests. For each contrast, we will extract the table with the relevant DE stats."
   ]
  },
  {
   "cell_type": "code",
   "execution_count": null,
   "metadata": {},
   "outputs": [],
   "source": [
    "lrt_het.v.vir <- glmLRT(dgeList.ov_fit, contrast = het.v.vir)\n",
    "lrt_het.v.vir.tTags <- topTags(lrt_het.v.vir, n = NULL)\n",
    "lrt_het.v.vir.tTags.table <- lrt_het.v.vir.tTags$table\n",
    "\n",
    "# let's make several lists with varying fold-change stringency (default is >2-fold)\n",
    "OV_het.v.vir.list_up<-subset(lrt_het.v.vir.tTags.table, logFC > 1 & FDR<0.05)$GeneID\n",
    "OV_het.v.vir.list_down<-subset(lrt_het.v.vir.tTags.table, logFC < -1 & FDR<0.05)$GeneID\n",
    "\n",
    "paste(length(OV_het.v.vir.list_up), \" genes are upregulated in the heterospecific cross, and \", length(OV_het.v.vir.list_down), \" are downregualted\" ,sep = \"\")"
   ]
  },
  {
   "cell_type": "code",
   "execution_count": null,
   "metadata": {},
   "outputs": [],
   "source": [
    "lrt_con.v.vir <- glmLRT(dgeList.ov_fit, contrast = con.v.vir)\n",
    "lrt_con.v.vir.tTags <- topTags(lrt_con.v.vir, n = NULL)\n",
    "lrt_con.v.vir.tTags.table <- lrt_con.v.vir.tTags$table\n",
    "\n",
    "# let's make several lists with varying fold-change stringency (default is >2-fold)\n",
    "OV_con.v.vir.list_up<-subset(lrt_con.v.vir.tTags.table, logFC > 1 & FDR<0.05)$GeneID\n",
    "OV_con.v.vir.list_down<-subset(lrt_con.v.vir.tTags.table, logFC < -1 & FDR<0.05)$GeneID\n",
    "\n",
    "paste(length(OV_con.v.vir.list_up), \" genes are upregulated in the conspecific cross, and \", length(OV_con.v.vir.list_down), \" are downregualted\" ,sep = \"\")"
   ]
  },
  {
   "cell_type": "code",
   "execution_count": null,
   "metadata": {},
   "outputs": [],
   "source": [
    "lrt_het.v.con <- glmLRT(dgeList.ov_fit, contrast = het.v.con)\n",
    "lrt_het.v.con.tTags <- topTags(lrt_het.v.con, n = NULL)\n",
    "lrt_het.v.con.tTags.table <- lrt_het.v.con.tTags$table\n",
    "\n",
    "# let's make several lists with varying fold-change stringency (default is >2-fold)\n",
    "OV_het.v.con.list_up<-subset(lrt_het.v.con.tTags.table, logFC > 1 & FDR<0.05)$GeneID\n",
    "OV_het.v.con.list_down<-subset(lrt_het.v.con.tTags.table, logFC < -1 & FDR<0.05)$GeneID\n",
    "\n",
    "paste(length(OV_het.v.con.list_up), \" genes are upregulated in the heterospecific cross, and \", length(OV_het.v.con.list_down), \" are downregualted\" ,sep = \"\")"
   ]
  },
  {
   "cell_type": "code",
   "execution_count": null,
   "metadata": {},
   "outputs": [],
   "source": [
    "length(unique(c(OV_het.v.vir.list_up, OV_het.v.vir.list_down, OV_con.v.vir.list_up, OV_con.v.vir.list_down, OV_het.v.con.list_up, OV_het.v.con.list_down)))"
   ]
  },
  {
   "cell_type": "markdown",
   "metadata": {},
   "source": [
    "##### Analysis of upregulated genes in the female ovary:"
   ]
  },
  {
   "cell_type": "markdown",
   "metadata": {},
   "source": [
    "First we'll look at those genes that are upregulated in the RT across all three postmating timepoints. We'll first generate a list of these genes and a TPM matrix for the conspecific condition samples:"
   ]
  },
  {
   "cell_type": "code",
   "execution_count": null,
   "metadata": {},
   "outputs": [],
   "source": [
    "OV_upregulated_genes = unique(c(OV_het.v.vir.list_up, OV_con.v.vir.list_up))\n",
    "message(paste(\"There are \", length(OV_upregulated_genes), \" upregulated genes\", sep =\"\"))\n",
    "OV_upregulated_genes_matrix = subset(tpmMatrix_bt2.fbgn, rownames(tpmMatrix_bt2.fbgn) %in% OV_upregulated_genes)\n",
    "\n",
    "OV_upregulated_genes_matrix = OV_upregulated_genes_matrix[ , grepl(\"OV\", names(OV_upregulated_genes_matrix))]\n",
    "OV_upregulated_genes_matrix_con = subset(OV_upregulated_genes_matrix, select = c(\"Female_V_OV\", \"Female_C6_OV\"))\n",
    "OV_upregulated_genes_matrix_het = subset(OV_upregulated_genes_matrix, select = c(\"Female_V_OV\", \"Female_H6_OV\"))"
   ]
  },
  {
   "cell_type": "markdown",
   "metadata": {},
   "source": [
    "We can perform clustering of these genes by expression profile across the conspecific samples. We'll first need to estimate an appropriate number of clusters."
   ]
  },
  {
   "cell_type": "code",
   "execution_count": null,
   "metadata": {},
   "outputs": [],
   "source": [
    "options(repr.plot.width = 4, repr.plot.height = 3)\n",
    "findK(OV_upregulated_genes_matrix)"
   ]
  },
  {
   "cell_type": "markdown",
   "metadata": {},
   "source": [
    "Cruedly, it looks like 3 clusters will aproopriately represent groupings of this gene set. We'll re-examine this after performing the analysis. First we'll run the cluster analysis:"
   ]
  },
  {
   "cell_type": "code",
   "execution_count": null,
   "metadata": {
    "collapsed": true
   },
   "outputs": [],
   "source": [
    "data = OV_upregulated_genes_matrix\n",
    "data = log2(data+1)\n",
    "data = as.matrix(data) # convert to matrix\n",
    "data = t(scale(t(data), scale=F))\n",
    "sample_cor = cor(data, method='pearson', use='pairwise.complete.obs')\n",
    "sample_dist = as.dist(1-sample_cor)\n",
    "hc_samples = hclust(sample_dist, method='complete')\n",
    "gene_cor = NULL\n",
    "if (is.null(gene_cor)) { gene_cor = cor(t(data), method='pearson', use='pairwise.complete.obs') }\n",
    "gene_dist = as.dist(1-gene_cor)\n",
    "hc_genes = hclust(gene_dist, method='complete')\n",
    "gene_partition_assignments <- cutree(as.hclust(hc_genes), k=4)\n",
    "\n",
    "## can also be done by tree height:\n",
    "#gene_partition_assignments <- cutree(as.hclust(hc_genes), h=50/100*max(hc_genes$height))"
   ]
  },
  {
   "cell_type": "markdown",
   "metadata": {},
   "source": [
    "Here we'll just generate some color parameters for each cluster:"
   ]
  },
  {
   "cell_type": "code",
   "execution_count": null,
   "metadata": {
    "collapsed": true
   },
   "outputs": [],
   "source": [
    "partition_colors = rainbow(length(unique(gene_partition_assignments)), start=0.4, end=0.95)\n",
    "gene_colors_dframe = data.frame(clusters=gene_partition_assignments, colors=partition_colors[gene_partition_assignments])\n",
    "gene_colors = as.matrix(partition_colors[gene_partition_assignments])"
   ]
  },
  {
   "cell_type": "markdown",
   "metadata": {},
   "source": [
    "Now we can plot a heatmap of these genes with their cluster identification:"
   ]
  },
  {
   "cell_type": "code",
   "execution_count": null,
   "metadata": {},
   "outputs": [],
   "source": [
    "heatmap_data = data\n",
    "heatmap_data[heatmap_data < -2] = -2\n",
    "heatmap_data[heatmap_data > 2] = 2\n",
    "options(repr.plot.width = 6, repr.plot.height = 7)\n",
    "heatmap.3(heatmap_data, dendrogram = \"row\", Rowv=as.dendrogram(hc_genes), Colv = c(\"V_RT\", \"C3_RT\", \"C6_RT\", \"C12_RT\"),col=myheatcol, RowSideColors=gene_colors, scale=\"none\", density.info=\"histogram\", trace=\"none\", key=TRUE, cexCol=1, margins=c(10,10), cexRow=0.5, labRow = F)"
   ]
  },
  {
   "cell_type": "markdown",
   "metadata": {},
   "source": [
    "The cluster grouping (coloured bars on the left) seem to correspond well to overall grouping of gene expression profiles."
   ]
  },
  {
   "cell_type": "markdown",
   "metadata": {},
   "source": [
    "We'll loop over the cluster assignments and import them into the cluster list object:"
   ]
  },
  {
   "cell_type": "code",
   "execution_count": null,
   "metadata": {
    "collapsed": true
   },
   "outputs": [],
   "source": [
    "cluster_list = list()\n",
    "max_cluster_count = max(gene_partition_assignments)\n",
    "for (i in 1:max_cluster_count) {\n",
    "    partition_i = (gene_partition_assignments == i)\n",
    "    partition_data = data[partition_i,,drop=F]\n",
    "    cluster_list[[i]] = as.data.frame(partition_data)\n",
    "    cluster_list[[i]]$Gene_ID = rownames(cluster_list[[i]])\n",
    "    cluster_list[[i]]$cluster = paste(\"cluster_\", i, sep = \"\")\n",
    "}\n",
    "\n",
    "#cluster_list\n",
    "cluster_OV_data = rbindlist(cluster_list)"
   ]
  },
  {
   "cell_type": "markdown",
   "metadata": {},
   "source": [
    "Now we'll generate a data frame with expression data for these clusters to make line plots of each cluster:"
   ]
  },
  {
   "cell_type": "code",
   "execution_count": null,
   "metadata": {
    "collapsed": true
   },
   "outputs": [],
   "source": [
    "conSub = subset(cluster_OV_data, select = c(\"Gene_ID\", \"cluster\", \"Female_V_OV\", \"Female_C6_OV\"))\n",
    "hetSub = subset(cluster_OV_data, select = c(\"Gene_ID\", \"cluster\", \"Female_V_OV\", \"Female_H6_OV\"))\n",
    "\n",
    "df.conSub = melt(conSub, id.vars = c(\"Gene_ID\", \"cluster\"))\n",
    "df.conSub$condition <- ifelse(grepl(\"C\", df.conSub$variable, ignore.case = F), \"conspecific\", ifelse(grepl(\"H\", df.conSub$variable, ignore.case = F), \"heterospecific\", \"virgin\"))\n",
    "df.conSub$time <- ifelse(grepl(\"6\", df.conSub$variable), \"6hpm\", \"virgin\")\n",
    "df.conSub$time = factor(df.conSub$time, levels = c(\"virgin\", \"6hpm\"))\n",
    "df.conSub$crossType = \"conspecific\"\n",
    "\n",
    "df.hetSub = melt(hetSub, id.vars = c(\"Gene_ID\", \"cluster\"))\n",
    "df.hetSub$condition <- ifelse(grepl(\"C\", df.hetSub$variable, ignore.case = F), \"conspecific\", ifelse(grepl(\"H\", df.hetSub$variable, ignore.case = F), \"heterospecific\", \"virgin\"))\n",
    "df.hetSub$time <- ifelse(grepl(\"6\", df.hetSub$variable), \"6hpm\", \"virgin\")\n",
    "df.hetSub$time = factor(df.hetSub$time, levels = c(\"virgin\", \"6hpm\"))\n",
    "df.hetSub$crossType = \"heterospecific\"\n",
    "\n",
    "newSub = rbind(df.conSub, df.hetSub)"
   ]
  },
  {
   "cell_type": "markdown",
   "metadata": {},
   "source": [
    "We can plot it like so:"
   ]
  },
  {
   "cell_type": "code",
   "execution_count": null,
   "metadata": {},
   "outputs": [],
   "source": [
    "newSub$cluster = factor(newSub$cluster, levels = c(\"cluster_1\", \n",
    "                                                   \"cluster_2\", \n",
    "                                                   \"cluster_3\",\n",
    "                                                  \"cluster_4\"))\n",
    "options(repr.plot.width = 6, repr.plot.height = 3)\n",
    "# pdf(\"cluster_groupings.pdf\", width = 5, height = 3)\n",
    "ggplot() + \n",
    "    geom_line(data = subset(newSub, crossType == \"conspecific\"),\n",
    "              aes(time, value, group = Gene_ID), \n",
    "              colour = \"#ffb200\",\n",
    "              alpha = 0.4,\n",
    "              size = 0.5) +\n",
    "    geom_line(data = subset(newSub, crossType == \"heterospecific\"), \n",
    "              aes(time, value, group = Gene_ID), \n",
    "              colour = \"#00b5d4\",\n",
    "              alpha = 0.5,\n",
    "              size = 0.5) +\n",
    "    theme_minimal() + \n",
    "    facet_wrap('cluster',scales='free_y', nrow = 2) +\n",
    "    scale_color_hue(l=50,h.start=200) + \n",
    "    theme(axis.text.x=element_text(angle=-45,hjust=0)) +\n",
    "    stat_summary(data = newSub, \n",
    "                 aes(x=time,y=value,group=crossType),\n",
    "                 fun.data=\"mean_cl_boot\",\n",
    "                 color=\"black\",\n",
    "                 fill=\"black\",\n",
    "                 alpha=0.2,\n",
    "                 size=0.3,\n",
    "                 geom=\"smooth\") +\n",
    "    ylab(\"centered log2(TPM+1)\")\n",
    "# dev.off()"
   ]
  },
  {
   "cell_type": "markdown",
   "metadata": {},
   "source": [
    "We can output the signficant GO results for those clusters here. First we'll make a factor level object:"
   ]
  },
  {
   "cell_type": "code",
   "execution_count": null,
   "metadata": {
    "collapsed": true
   },
   "outputs": [],
   "source": [
    "cluster.factor.labeling = as.data.frame(unique(subset(newSub, select = c(\"Gene_ID\", \"cluster\"))))\n",
    "row.names(cluster.factor.labeling) <- cluster.factor.labeling$Gene_ID\n",
    "cluster.factor.labeling = subset(cluster.factor.labeling, select = \"cluster\")\n",
    "cluster.factor_list = unique(cluster.factor.labeling[,1])"
   ]
  },
  {
   "cell_type": "code",
   "execution_count": null,
   "metadata": {},
   "outputs": [],
   "source": [
    "GO_enriched_list = list()\n",
    "\n",
    "invisible(suppressWarnings(suppressMessages(\n",
    "for (feature_cat in cluster.factor_list) {\n",
    "    message('Processing category: ', feature_cat)\n",
    "    cat_genes_vec = as.integer(features_with_GO %in% rownames(cluster.factor.labeling)[cluster.factor.labeling$cluster == feature_cat])\n",
    "    pwf$DEgenes = cat_genes_vec\n",
    "    res = goseq(pwf,gene2cat=GO_info_listed)\n",
    "    ## over-represented categories:\n",
    "    pvals = res$over_represented_pvalue\n",
    "    pvals[pvals > 1 -1e-10] = 1-1e-10\n",
    "    q = qvalue(pvals)\n",
    "    res$over_represented_FDR = q$qvalues\n",
    "    go_enrich_factor = feature_cat\n",
    "    enrich_result_table = res[res$over_represented_pvalue<=0.05,]\n",
    "    descr = unlist(lapply(enrich_result_table$category, get_GO_term_descr))\n",
    "    enrich_result_table$go_term = descr\n",
    "    enrich_result_table$factor = go_enrich_factor\n",
    "    GO_enriched_list[[feature_cat]] = enrich_result_table\n",
    "}\n",
    ")))\n",
    "GO_enrichment_data = rbindlist(GO_enriched_list)\n",
    "write.table(GO_enrichment_data, \"Results/GO_analyses/GO_results-ovary_clusters_upregulated_genes_aBT2.txt\", quote = F, sep = \"\\t\", row.names = F)\n",
    "unique(filter(GO_enrichment_data, over_represented_FDR < 0.05)$factor)"
   ]
  },
  {
   "cell_type": "code",
   "execution_count": null,
   "metadata": {},
   "outputs": [],
   "source": [
    "filter(GO_enrichment_data, over_represented_FDR < 0.05)"
   ]
  },
  {
   "cell_type": "markdown",
   "metadata": {},
   "source": [
    "Can use this cell to plot individual genes belonging to a specific GO category:"
   ]
  },
  {
   "cell_type": "code",
   "execution_count": null,
   "metadata": {
    "collapsed": true
   },
   "outputs": [],
   "source": [
    "OV.geneBoxPlot <- function(object, gene) {\n",
    "    swisprotName <- subset(annot.sum, FBgn_ID == gene)$SwissProt_BlastX_Description\n",
    "        melOrth <- subset(melOrthsAll, FBgn_ID == gene)$mel_GeneSymbol\n",
    "        geneName <- subset(annot.sum, FBgn_ID == gene)$gene_name\n",
    "        p <- ggplot(subset(object, FBgn_ID == gene & Tissue == \"ovaries\"), aes(Time, TPM, colour = Status)) + \n",
    "                geom_boxplot(position = \"dodge\", outlier.size = 0, width = 0.3) + \n",
    "                geom_point(pch = 21, position = position_jitterdodge(), aes(colour = Status)) +\n",
    "#                 facet_grid(~Tissue, scales = \"free_x\", space = \"free_x\") +\n",
    "                labs(title = paste(geneName, \" (\", melOrth, \")\", sep = \"\"), subtitle = paste(swisprotName,  sep = \"\")) + \n",
    "                theme_minimal() + \n",
    "                theme(legend.position=\"none\", axis.text.x = element_text(angle = 45, hjust = 1, size = 12), axis.text.y = element_text(size = 12), axis.title.x = element_blank()) +\n",
    "                scale_colour_manual(values = c(\"#3f5a2a\", \"#ffb200\", \"#00b5d4\"))\n",
    "    return(p)\n",
    "}"
   ]
  },
  {
   "cell_type": "code",
   "execution_count": null,
   "metadata": {},
   "outputs": [],
   "source": [
    "OV.geneBoxPlot(tpmTable_bt2.fbgn, \"FBgn0016474\")"
   ]
  },
  {
   "cell_type": "code",
   "execution_count": null,
   "metadata": {
    "scrolled": false
   },
   "outputs": [],
   "source": [
    "myList = as.character(extract_GO_genes(go_term = \"GO:0005811\", gene_set = newSub$Gene_ID))\n",
    "lapply(myList, geneBoxPlot, object = tpmTable_bt2.fbgn)"
   ]
  },
  {
   "cell_type": "markdown",
   "metadata": {},
   "source": [
    "Let's look at GO enrichment across all upregulated genes:"
   ]
  },
  {
   "cell_type": "code",
   "execution_count": null,
   "metadata": {},
   "outputs": [],
   "source": [
    "cat_genes_vec = as.integer(features_with_GO %in% newSub$Gene_ID)\n",
    "pwf$DEgenes = cat_genes_vec\n",
    "res = goseq(pwf,gene2cat=GO_info_listed)\n",
    "## over-represented categories:\n",
    "pvals = res$over_represented_pvalue\n",
    "pvals[pvals > 1 -1e-10] = 1-1e-10\n",
    "q = qvalue(pvals)\n",
    "res$over_represented_FDR = q$qvalues\n",
    "enrich_result_table = res[res$over_represented_pvalue<=0.05,]\n",
    "descr = unlist(lapply(enrich_result_table$category, get_GO_term_descr))\n",
    "enrich_result_table$go_term = descr\n",
    "write.table(enrich_result_table, \"Results/GO_analyses/GO_results-ovary_upregulated_genes_aBT2.txt\", quote = F, sep = \"\\t\", row.names = F)"
   ]
  },
  {
   "cell_type": "code",
   "execution_count": null,
   "metadata": {},
   "outputs": [],
   "source": [
    "filter(enrich_result_table, over_represented_FDR < 0.05)"
   ]
  },
  {
   "cell_type": "markdown",
   "metadata": {},
   "source": [
    "##### Analysis of downregulated genes in the female ovary:"
   ]
  },
  {
   "cell_type": "markdown",
   "metadata": {},
   "source": [
    "First we'll look at those genes that are upregulated in the RT across all three postmating timepoints. We'll first generate a list of these genes and a TPM matrix for the conspecific condition samples:"
   ]
  },
  {
   "cell_type": "code",
   "execution_count": null,
   "metadata": {},
   "outputs": [],
   "source": [
    "OV_downregulated_genes = unique(c(OV_het.v.vir.list_down, OV_con.v.vir.list_down))\n",
    "message(paste(\"There are \", length(OV_downregulated_genes), \" downregulated genes\", sep =\"\"))\n",
    "OV_downregulated_genes_matrix = subset(tpmMatrix_bt2.fbgn, rownames(tpmMatrix_bt2.fbgn) %in% OV_downregulated_genes)\n",
    "\n",
    "OV_downregulated_genes_matrix = OV_downregulated_genes_matrix[ , grepl(\"OV\", names(OV_downregulated_genes_matrix))]\n",
    "OV_downregulated_genes_matrix_con = subset(OV_downregulated_genes_matrix, select = c(\"Female_V_OV\", \"Female_C6_OV\"))\n",
    "OV_downregulated_genes_matrix_het = subset(OV_downregulated_genes_matrix, select = c(\"Female_V_OV\", \"Female_H6_OV\"))"
   ]
  },
  {
   "cell_type": "markdown",
   "metadata": {},
   "source": [
    "We can perform clustering of these genes by expression profile across the conspecific samples. We'll first need to estimate an appropriate number of clusters."
   ]
  },
  {
   "cell_type": "code",
   "execution_count": null,
   "metadata": {},
   "outputs": [],
   "source": [
    "options(repr.plot.width = 4, repr.plot.height = 3)\n",
    "findK(OV_downregulated_genes_matrix)"
   ]
  },
  {
   "cell_type": "markdown",
   "metadata": {},
   "source": [
    "Cruedly, it looks like 3 clusters will aproopriately represent groupings of this gene set. We'll re-examine this after performing the analysis. First we'll run the cluster analysis:"
   ]
  },
  {
   "cell_type": "code",
   "execution_count": null,
   "metadata": {
    "collapsed": true
   },
   "outputs": [],
   "source": [
    "data = OV_downregulated_genes_matrix\n",
    "data = log2(data+1)\n",
    "data = as.matrix(data) # convert to matrix\n",
    "data = t(scale(t(data), scale=F))\n",
    "sample_cor = cor(data, method='pearson', use='pairwise.complete.obs')\n",
    "sample_dist = as.dist(1-sample_cor)\n",
    "hc_samples = hclust(sample_dist, method='complete')\n",
    "gene_cor = NULL\n",
    "if (is.null(gene_cor)) { gene_cor = cor(t(data), method='pearson', use='pairwise.complete.obs') }\n",
    "gene_dist = as.dist(1-gene_cor)\n",
    "hc_genes = hclust(gene_dist, method='complete')\n",
    "gene_partition_assignments <- cutree(as.hclust(hc_genes), k=4)\n",
    "\n",
    "## can also be done by tree height:\n",
    "#gene_partition_assignments <- cutree(as.hclust(hc_genes), h=50/100*max(hc_genes$height))"
   ]
  },
  {
   "cell_type": "markdown",
   "metadata": {},
   "source": [
    "Here we'll just generate some color parameters for each cluster:"
   ]
  },
  {
   "cell_type": "code",
   "execution_count": null,
   "metadata": {
    "collapsed": true
   },
   "outputs": [],
   "source": [
    "partition_colors = rainbow(length(unique(gene_partition_assignments)), start=0.4, end=0.95)\n",
    "gene_colors_dframe = data.frame(clusters=gene_partition_assignments, colors=partition_colors[gene_partition_assignments])\n",
    "gene_colors = as.matrix(partition_colors[gene_partition_assignments])"
   ]
  },
  {
   "cell_type": "markdown",
   "metadata": {},
   "source": [
    "Now we can plot a heatmap of these genes with their cluster identification:"
   ]
  },
  {
   "cell_type": "code",
   "execution_count": null,
   "metadata": {},
   "outputs": [],
   "source": [
    "heatmap_data = data\n",
    "heatmap_data[heatmap_data < -2] = -2\n",
    "heatmap_data[heatmap_data > 2] = 2\n",
    "options(repr.plot.width = 6, repr.plot.height = 7)\n",
    "heatmap.3(heatmap_data, dendrogram = \"row\", Rowv=as.dendrogram(hc_genes), Colv = c(\"V_RT\", \"C3_RT\", \"C6_RT\", \"C12_RT\"),col=myheatcol, RowSideColors=gene_colors, scale=\"none\", density.info=\"histogram\", trace=\"none\", key=TRUE, cexCol=1, margins=c(10,10), cexRow=0.5, labRow = F)"
   ]
  },
  {
   "cell_type": "markdown",
   "metadata": {},
   "source": [
    "The cluster grouping (coloured bars on the left) seem to correspond well to overall grouping of gene expression profiles."
   ]
  },
  {
   "cell_type": "markdown",
   "metadata": {},
   "source": [
    "We'll loop over the cluster assignments and import them into the cluster list object:"
   ]
  },
  {
   "cell_type": "code",
   "execution_count": null,
   "metadata": {
    "collapsed": true
   },
   "outputs": [],
   "source": [
    "cluster_list = list()\n",
    "max_cluster_count = max(gene_partition_assignments)\n",
    "for (i in 1:max_cluster_count) {\n",
    "    partition_i = (gene_partition_assignments == i)\n",
    "    partition_data = data[partition_i,,drop=F]\n",
    "    cluster_list[[i]] = as.data.frame(partition_data)\n",
    "    cluster_list[[i]]$Gene_ID = rownames(cluster_list[[i]])\n",
    "    cluster_list[[i]]$cluster = paste(\"cluster_\", i, sep = \"\")\n",
    "}\n",
    "\n",
    "#cluster_list\n",
    "cluster_OV_data = rbindlist(cluster_list)"
   ]
  },
  {
   "cell_type": "markdown",
   "metadata": {},
   "source": [
    "Now we'll generate a data frame with expression data for these clusters to make line plots of each cluster:"
   ]
  },
  {
   "cell_type": "code",
   "execution_count": null,
   "metadata": {
    "collapsed": true
   },
   "outputs": [],
   "source": [
    "conSub = subset(cluster_OV_data, select = c(\"Gene_ID\", \"cluster\", \"Female_V_OV\", \"Female_C6_OV\"))\n",
    "hetSub = subset(cluster_OV_data, select = c(\"Gene_ID\", \"cluster\", \"Female_V_OV\", \"Female_H6_OV\"))\n",
    "\n",
    "df.conSub = melt(conSub, id.vars = c(\"Gene_ID\", \"cluster\"))\n",
    "df.conSub$condition <- ifelse(grepl(\"C\", df.conSub$variable, ignore.case = F), \"conspecific\", ifelse(grepl(\"H\", df.conSub$variable, ignore.case = F), \"heterospecific\", \"virgin\"))\n",
    "df.conSub$time <- ifelse(grepl(\"6\", df.conSub$variable), \"6hpm\", \"virgin\")\n",
    "df.conSub$time = factor(df.conSub$time, levels = c(\"virgin\", \"6hpm\"))\n",
    "df.conSub$crossType = \"conspecific\"\n",
    "\n",
    "df.hetSub = melt(hetSub, id.vars = c(\"Gene_ID\", \"cluster\"))\n",
    "df.hetSub$condition <- ifelse(grepl(\"C\", df.hetSub$variable, ignore.case = F), \"conspecific\", ifelse(grepl(\"H\", df.hetSub$variable, ignore.case = F), \"heterospecific\", \"virgin\"))\n",
    "df.hetSub$time <- ifelse(grepl(\"6\", df.hetSub$variable), \"6hpm\", \"virgin\")\n",
    "df.hetSub$time = factor(df.hetSub$time, levels = c(\"virgin\", \"6hpm\"))\n",
    "df.hetSub$crossType = \"heterospecific\"\n",
    "\n",
    "newSub = rbind(df.conSub, df.hetSub)"
   ]
  },
  {
   "cell_type": "markdown",
   "metadata": {},
   "source": [
    "We can plot it like so:"
   ]
  },
  {
   "cell_type": "code",
   "execution_count": null,
   "metadata": {
    "scrolled": false
   },
   "outputs": [],
   "source": [
    "newSub$cluster = factor(newSub$cluster, levels = c(\"cluster_1\", \n",
    "                                                   \"cluster_2\", \n",
    "                                                   \"cluster_3\",\n",
    "                                                    \"cluster_4\"))\n",
    "options(repr.plot.width = 6, repr.plot.height = 3)\n",
    "# pdf(\"cluster_groupings.pdf\", width = 5, height = 3)\n",
    "ggplot() + \n",
    "    geom_line(data = subset(newSub, crossType == \"conspecific\"),\n",
    "              aes(time, value, group = Gene_ID), \n",
    "              colour = \"#ffb200\",\n",
    "              alpha = 0.4,\n",
    "              size = 0.5) +\n",
    "    geom_line(data = subset(newSub, crossType == \"heterospecific\"), \n",
    "              aes(time, value, group = Gene_ID), \n",
    "              colour = \"#00b5d4\",\n",
    "              alpha = 0.5,\n",
    "              size = 0.5) +\n",
    "    theme_minimal() + \n",
    "    facet_wrap('cluster',scales='free_y', nrow = 2) +\n",
    "    scale_color_hue(l=50,h.start=200) + \n",
    "    theme(axis.text.x=element_text(angle=-45,hjust=0)) +\n",
    "    stat_summary(data = newSub, \n",
    "                 aes(x=time,y=value,group=crossType),\n",
    "                 fun.data=\"mean_cl_boot\",\n",
    "                 color=\"black\",\n",
    "                 fill=\"black\",\n",
    "                 alpha=0.2,\n",
    "                 size=0.3,\n",
    "                 geom=\"smooth\") +\n",
    "    ylab(\"centered log2(TPM+1)\")\n",
    "# dev.off()"
   ]
  },
  {
   "cell_type": "markdown",
   "metadata": {},
   "source": [
    "We can output the signficant GO results for those clusters here. First we'll make a factor level object:"
   ]
  },
  {
   "cell_type": "code",
   "execution_count": null,
   "metadata": {
    "collapsed": true
   },
   "outputs": [],
   "source": [
    "cluster.factor.labeling = as.data.frame(unique(subset(newSub, select = c(\"Gene_ID\", \"cluster\"))))\n",
    "# here remove cluster 3 because it chokes the script:\n",
    "cluster.factor.labeling = subset(cluster.factor.labeling, cluster != \"cluster_3\")\n",
    "\n",
    "row.names(cluster.factor.labeling) <- cluster.factor.labeling$Gene_ID\n",
    "cluster.factor.labeling = subset(cluster.factor.labeling, select = \"cluster\")\n",
    "cluster.factor_list = unique(cluster.factor.labeling[,1])"
   ]
  },
  {
   "cell_type": "code",
   "execution_count": null,
   "metadata": {},
   "outputs": [],
   "source": [
    "GO_enriched_list = list()\n",
    "\n",
    "invisible(suppressWarnings(suppressMessages(\n",
    "for (feature_cat in cluster.factor_list) {\n",
    "    message('Processing category: ', feature_cat)\n",
    "    cat_genes_vec = as.integer(features_with_GO %in% rownames(cluster.factor.labeling)[cluster.factor.labeling$cluster == feature_cat])\n",
    "    pwf$DEgenes = cat_genes_vec\n",
    "    res = goseq(pwf,gene2cat=GO_info_listed)\n",
    "    ## over-represented categories:\n",
    "    pvals = res$over_represented_pvalue\n",
    "    pvals[pvals > 1 -1e-10] = 1-1e-10\n",
    "    q = qvalue(pvals)\n",
    "    res$over_represented_FDR = q$qvalues\n",
    "    go_enrich_factor = feature_cat\n",
    "    enrich_result_table = res[res$over_represented_pvalue<=0.05,]\n",
    "    descr = unlist(lapply(enrich_result_table$category, get_GO_term_descr))\n",
    "    enrich_result_table$go_term = descr\n",
    "    enrich_result_table$factor = go_enrich_factor\n",
    "    GO_enriched_list[[feature_cat]] = enrich_result_table\n",
    "}\n",
    ")))\n",
    "GO_enrichment_data = rbindlist(GO_enriched_list)\n",
    "write.table(GO_enrichment_data, \"Results/GO_analyses/GO_results-ovary_clusters_downregulated_genes_aBT2.txt\", quote = F, sep = \"\\t\", row.names = F)\n",
    "unique(filter(GO_enrichment_data, over_represented_FDR < 0.05)$factor)"
   ]
  },
  {
   "cell_type": "markdown",
   "metadata": {},
   "source": [
    "Let's look at GO enrichment across all upregulated genes:"
   ]
  },
  {
   "cell_type": "code",
   "execution_count": null,
   "metadata": {},
   "outputs": [],
   "source": [
    "cat_genes_vec = as.integer(features_with_GO %in% newSub$Gene_ID)\n",
    "pwf$DEgenes = cat_genes_vec\n",
    "res = goseq(pwf,gene2cat=GO_info_listed)\n",
    "## over-represented categories:\n",
    "pvals = res$over_represented_pvalue\n",
    "pvals[pvals > 1 -1e-10] = 1-1e-10\n",
    "q = qvalue(pvals)\n",
    "res$over_represented_FDR = q$qvalues\n",
    "enrich_result_table = res[res$over_represented_pvalue<=0.05,]\n",
    "descr = unlist(lapply(enrich_result_table$category, get_GO_term_descr))\n",
    "enrich_result_table$go_term = descr\n",
    "write.table(enrich_result_table, \"Results/GO_analyses/GO_results-ovary_downregulated_genes_aBT2.txt\", quote = F, sep = \"\\t\", row.names = F)"
   ]
  },
  {
   "cell_type": "code",
   "execution_count": null,
   "metadata": {},
   "outputs": [],
   "source": [
    "filter(enrich_result_table, over_represented_FDR < 0.05)"
   ]
  },
  {
   "cell_type": "markdown",
   "metadata": {},
   "source": [
    "### Head post-mating contrasts:"
   ]
  },
  {
   "cell_type": "markdown",
   "metadata": {},
   "source": [
    "Create H-specific count matrix "
   ]
  },
  {
   "cell_type": "code",
   "execution_count": null,
   "metadata": {
    "collapsed": true
   },
   "outputs": [],
   "source": [
    "counts_bt2.fbgn.H = subset(counts_bt2.fbgn, select=grepl(\"_H_\", colnames(counts_bt2.fbgn)))\n",
    "colnames(counts_bt2.fbgn.H) = gsub(\"Female_\", \"\", colnames(counts_bt2.fbgn.H))"
   ]
  },
  {
   "cell_type": "markdown",
   "metadata": {},
   "source": [
    "Now let's filter low expression genes within a minimum cpm of 2:"
   ]
  },
  {
   "cell_type": "code",
   "execution_count": null,
   "metadata": {},
   "outputs": [],
   "source": [
    "cpm_bt2.fbgn.H <- cpm(counts_bt2.fbgn.H)\n",
    "thresh_H.bt2.fbgn <- cpm_bt2.fbgn.H > 5\n",
    "\n",
    "countsKeep_H.bt2.fbgn <- rowSums(thresh_H.bt2.fbgn) >= 2\n",
    "countsFiltered_bt2.fbgn.H <- counts_bt2.fbgn.H[countsKeep_H.bt2.fbgn,]\n",
    "## Check how many genes remain in the matrix.\n",
    "dim(countsFiltered_bt2.fbgn.H)\n",
    "\n",
    "## Clean-up\n",
    "rm(cpm_bt2.fbgn.H, countsKeep_H.bt2.fbgn, thresh_H.bt2.fbgn)"
   ]
  },
  {
   "cell_type": "markdown",
   "metadata": {},
   "source": [
    "We'll also subset the samplesInfo object to only include the RT samples:"
   ]
  },
  {
   "cell_type": "code",
   "execution_count": null,
   "metadata": {
    "collapsed": true
   },
   "outputs": [],
   "source": [
    "sampleInfo.h = subset(sampleInfo, Tissue == \"head\")\n",
    "sampleInfo.h$SampleName = gsub(\"Female_\", \"\", sampleInfo.h$SampleName)\n",
    "sampleInfo.h$Replicate = gsub(\"Female_\", \"\", sampleInfo.h$Replicate)"
   ]
  },
  {
   "cell_type": "markdown",
   "metadata": {},
   "source": [
    "#### Comparing each postmating time point to the virgin ovary sample:"
   ]
  },
  {
   "cell_type": "markdown",
   "metadata": {},
   "source": [
    "Here we can set up new grouping and comparison matrix with all the postmating time-point samples by combining the \"Status\" and \"time\" factors:"
   ]
  },
  {
   "cell_type": "code",
   "execution_count": null,
   "metadata": {
    "collapsed": true
   },
   "outputs": [],
   "source": [
    "## Will need to relevel the Status grouping to make virgin control\n",
    "Status.time <- factor(paste(sampleInfo.h$Status, sampleInfo.h$Time, sep=\".\"))\n",
    "sampleInfo.h <- cbind(sampleInfo.h, Group=Status.time)\n",
    "sampleInfo.h$Group <- relevel(sampleInfo.h$Group, ref = \"virgin.virgin\")"
   ]
  },
  {
   "cell_type": "markdown",
   "metadata": {},
   "source": [
    "Next we need to set a different matrix where we test for differences between conspecific and heterospecific treatments of each time point:"
   ]
  },
  {
   "cell_type": "code",
   "execution_count": null,
   "metadata": {
    "collapsed": true
   },
   "outputs": [],
   "source": [
    "groups.hb <- factor(sampleInfo.h$SampleName)\n",
    "design.hb <- model.matrix(~ 0 + groups.hb)\n",
    "colnames(design.hb) <- levels(groups.hb)\n",
    "rownames(design.hb) <- sampleInfo.h$Replicate"
   ]
  },
  {
   "cell_type": "markdown",
   "metadata": {},
   "source": [
    "Create edgeR DE object and run glmFit"
   ]
  },
  {
   "cell_type": "code",
   "execution_count": null,
   "metadata": {
    "collapsed": true
   },
   "outputs": [],
   "source": [
    "dgeList.h <- DGEList(counts = countsFiltered_bt2.fbgn.H, group = groups.hb)\n",
    "dgeList.h <- calcNormFactors(dgeList.h)\n",
    "dgeList.h <- estimateCommonDisp(dgeList.h)\n",
    "dgeList.h <- estimateTagwiseDisp(dgeList.h)\n",
    "dgeList.h_fit <- glmFit(dgeList.h, design.hb)"
   ]
  },
  {
   "cell_type": "markdown",
   "metadata": {},
   "source": [
    "Let's add the annotation information to this fit object:"
   ]
  },
  {
   "cell_type": "code",
   "execution_count": null,
   "metadata": {},
   "outputs": [],
   "source": [
    "# Extract annotation for genes in the fit object\n",
    "ann.h = subset(Annots, FBgn_ID %in% rownames(dgeList.h_fit))\n",
    "ann.h = subset(ann.h, select = c(\"FBgn_ID\", \"gene_name\", \"SwissProt_BlastX_Description\"))\n",
    "# convert factors to characters\n",
    "ann.h = data.frame(lapply(ann.h, as.character), stringsAsFactors=FALSE)\n",
    "# align the fit object's rownames with gene ID's\n",
    "ann.h = ann.h[match(rownames(dgeList.h_fit), ann.h$FBgn_ID),]\n",
    "# convert factors to characters, again\n",
    "ann.h <- data.frame(lapply(ann.h, as.character), stringsAsFactors=FALSE)\n",
    "# Rename \"FBgn_ID\" as \"GeneID\"\n",
    "colnames(ann.h) = c (\"GeneID\", \"gene_name\", \"SwissProt_BlastX_Description\")\n",
    "# Check that the fit rownames match the annotation file's gene ID's\n",
    "table(ann.h$GeneID==rownames(dgeList.h_fit))\n",
    "# Add the annotations to the fit object in the \"genes\" slot\n",
    "dgeList.h_fit$genes = ann.h"
   ]
  },
  {
   "cell_type": "markdown",
   "metadata": {},
   "source": [
    "Also, check the tagwise dispersion summary:"
   ]
  },
  {
   "cell_type": "code",
   "execution_count": null,
   "metadata": {},
   "outputs": [],
   "source": [
    "summary(dgeList.h$tagwise.dispersion)"
   ]
  },
  {
   "cell_type": "markdown",
   "metadata": {},
   "source": [
    "Again, quick look at the BCV, mean-variance trend, qq-plot and normalized count distributions."
   ]
  },
  {
   "cell_type": "code",
   "execution_count": null,
   "metadata": {
    "scrolled": false
   },
   "outputs": [],
   "source": [
    "options(repr.plot.width = 8, repr.plot.height = 6)\n",
    "par(mfrow=c(2,2))\n",
    "# Biological coefficient of variation\n",
    "plotBCV(dgeList.h)\n",
    "# mean-variance trend\n",
    "h.voom = voom(dgeList.h, design.hb, plot=TRUE)\n",
    "# QQ-plot\n",
    "g.h <- gof(dgeList.h_fit)\n",
    "z.h <- zscoreGamma(g.h$gof.statistics,shape=g.h$df/2,scale=2)\n",
    "qqnorm(z.h); qqline(z.h, col = 4,lwd=1,lty=1)\n",
    "# log2 transformed and normalize boxplot of counts across samples\n",
    "boxplot(h.voom$E, xlab=\"\", ylab=\"Log2 counts per million\",las=2,main=\"Voom transformed logCh\")\n",
    "abline(h=median(h.voom$E),col=\"blue\")"
   ]
  },
  {
   "cell_type": "markdown",
   "metadata": {},
   "source": [
    "And make an MDS plot with Limma:"
   ]
  },
  {
   "cell_type": "code",
   "execution_count": null,
   "metadata": {},
   "outputs": [],
   "source": [
    "options(repr.plot.width = 4, repr.plot.height = 3)\n",
    "plotMDS(dgeList.h, cex = 0.5)"
   ]
  },
  {
   "cell_type": "markdown",
   "metadata": {},
   "source": [
    "Let's look at samples correlation:"
   ]
  },
  {
   "cell_type": "code",
   "execution_count": null,
   "metadata": {
    "collapsed": true
   },
   "outputs": [],
   "source": [
    "sampleColLabeling = subset(sampleInfo.h, select = c(\"SampleName\", \"Replicate\"))\n",
    "sampleColLabeling = filter(sampleColLabeling, grepl(\"H\", SampleName))\n",
    "rownames(sampleColLabeling) = sampleColLabeling$Replicate\n",
    "sampleColLabeling = subset(sampleColLabeling, select = SampleName)\n",
    "colnames(sampleColLabeling) = \"Sample\"\n",
    "sampleColLabeling$Sample = factor(sampleColLabeling$Sample, levels = c(\"V_H\", \"C6_H\", \"H6_H\"))"
   ]
  },
  {
   "cell_type": "markdown",
   "metadata": {},
   "source": [
    "Now plot it:"
   ]
  },
  {
   "cell_type": "code",
   "execution_count": null,
   "metadata": {},
   "outputs": [],
   "source": [
    "## Plot sample correlation\n",
    "data = log2(countsFiltered_bt2.fbgn.H+1)\n",
    "colnames(data) = gsub(\"Female_\", \"\", colnames(data))\n",
    "data = as.matrix(data)\n",
    "sample_cor = cor(data, method='pearson', use='pairwise.complete.obs')\n",
    "\n",
    "cor_colors <- list(Sample = c(\"#00071b\",\"#fbbc1b\",\"#4be177\"))\n",
    "names(cor_colors$Sample) <- unique(sampleColLabeling$Sample)\n",
    "\n",
    "options(repr.plot.width = 5, repr.plot.height = 3.5)\n",
    "pheatmap(\n",
    "  mat               = sample_cor,\n",
    "  color             = inferno(100),\n",
    "#   border_color      = NA,\n",
    "  annotation_col    = sampleColLabeling,\n",
    "  annotation_row    = sampleColLabeling,\n",
    "  drop_levels       = TRUE,\n",
    "  annotation_colors = cor_colors,\n",
    "  show_colnames     = TRUE,\n",
    "  show_rownames     = TRUE,\n",
    "  annotation_names_row = F,\n",
    "#   filename          = \"Figures/repTract_sample_correlations.pdf\",\n",
    "#   width             = 7, \n",
    "#   height            = 5,\n",
    "  fontsize          = 12    \n",
    ")"
   ]
  },
  {
   "cell_type": "markdown",
   "metadata": {},
   "source": [
    "To perform pairwise differential expression tests between postmating samples and the virgin sample, we can run glmTreat by specifying the coefficient (have to look at the matrix), and only capture genes with >2-fold expression difference:"
   ]
  },
  {
   "cell_type": "code",
   "execution_count": null,
   "metadata": {
    "collapsed": true
   },
   "outputs": [],
   "source": [
    "het.v.vir <- makeContrasts(hH.vs.vH=H6_H-V_H, levels=design.hb)\n",
    "con.v.vir <- makeContrasts(hH.vs.cH=C6_H-V_H, levels=design.hb)\n",
    "het.v.con <- makeContrasts(hH.vs.cH=H6_H-C6_H, levels=design.hb)"
   ]
  },
  {
   "cell_type": "markdown",
   "metadata": {},
   "source": [
    "Now we can fit the negative binomial log-linear model to conduct gene-wise statistical tests. For each contrast, we will extract the table with the relevant DE stats."
   ]
  },
  {
   "cell_type": "code",
   "execution_count": null,
   "metadata": {},
   "outputs": [],
   "source": [
    "lrt_het.v.vir <- glmLRT(dgeList.h_fit, contrast = het.v.vir)\n",
    "lrt_het.v.vir.tTags <- topTags(lrt_het.v.vir, n = NULL)\n",
    "lrt_het.v.vir.tTags.table <- lrt_het.v.vir.tTags$table\n",
    "\n",
    "# let's make several lists with varying fold-change stringency (default is >2-fold)\n",
    "H_het.v.vir.list_up<-subset(lrt_het.v.vir.tTags.table, logFC > 1 & FDR<0.05)$GeneID\n",
    "H_het.v.vir.list_down<-subset(lrt_het.v.vir.tTags.table, logFC < -1 & FDR<0.05)$GeneID\n",
    "\n",
    "paste(length(H_het.v.vir.list_up), \" genes are upregulated in the heterospecific cross, and \", length(H_het.v.vir.list_down), \" are downregualted\" ,sep = \"\")"
   ]
  },
  {
   "cell_type": "code",
   "execution_count": null,
   "metadata": {},
   "outputs": [],
   "source": [
    "lrt_con.v.vir <- glmLRT(dgeList.h_fit, contrast = con.v.vir)\n",
    "lrt_con.v.vir.tTags <- topTags(lrt_con.v.vir, n = NULL)\n",
    "lrt_con.v.vir.tTags.table <- lrt_con.v.vir.tTags$table\n",
    "\n",
    "# let's make several lists with varying fold-change stringency (default is >2-fold)\n",
    "H_con.v.vir.list_up<-subset(lrt_con.v.vir.tTags.table, logFC > 1 & FDR<0.05)$GeneID\n",
    "H_con.v.vir.list_down<-subset(lrt_con.v.vir.tTags.table, logFC < -1 & FDR<0.05)$GeneID\n",
    "\n",
    "paste(length(H_con.v.vir.list_up), \" genes are upregulated in the conspecific cross, and \", length(H_con.v.vir.list_down), \" are downregualted\" ,sep = \"\")"
   ]
  },
  {
   "cell_type": "code",
   "execution_count": null,
   "metadata": {},
   "outputs": [],
   "source": [
    "lrt_het.v.con <- glmLRT(dgeList.h_fit, contrast = het.v.con)\n",
    "lrt_het.v.con.tTags <- topTags(lrt_het.v.con, n = NULL)\n",
    "lrt_het.v.con.tTags.table <- lrt_het.v.con.tTags$table\n",
    "\n",
    "# let's make several lists with varying fold-change stringency (default is >2-fold)\n",
    "H_het.v.con.list_up<-subset(lrt_het.v.con.tTags.table, logFC > 1 & FDR<0.05)$GeneID\n",
    "H_het.v.con.list_down<-subset(lrt_het.v.con.tTags.table, logFC < -1 & FDR<0.05)$GeneID\n",
    "\n",
    "paste(length(H_het.v.con.list_up), \" genes are upregulated in the heterospecific cross, and \", length(H_het.v.con.list_down), \" are downregualted\" ,sep = \"\")"
   ]
  },
  {
   "cell_type": "code",
   "execution_count": null,
   "metadata": {},
   "outputs": [],
   "source": [
    "length(unique(c(H_het.v.vir.list_up, H_het.v.vir.list_down, H_con.v.vir.list_up, H_con.v.vir.list_down, H_het.v.con.list_up, H_het.v.con.list_down)))"
   ]
  },
  {
   "cell_type": "markdown",
   "metadata": {},
   "source": [
    "##### Analysis of upregulated genes in the female head:"
   ]
  },
  {
   "cell_type": "markdown",
   "metadata": {},
   "source": [
    "First we'll look at those genes that are upregulated in the RT across all three postmating timepoints. We'll first generate a list of these genes and a TPM matrix for the conspecific condition samples:"
   ]
  },
  {
   "cell_type": "code",
   "execution_count": null,
   "metadata": {},
   "outputs": [],
   "source": [
    "H_upregulated_genes = unique(c(H_het.v.vir.list_up, H_con.v.vir.list_up))\n",
    "message(paste(\"There are \", length(H_upregulated_genes), \" upregulated genes\", sep =\"\"))\n",
    "H_upregulated_genes_matrix = subset(tpmMatrix_bt2.fbgn, rownames(tpmMatrix_bt2.fbgn) %in% H_upregulated_genes)\n",
    "\n",
    "H_upregulated_genes_matrix = H_upregulated_genes_matrix[ , grepl(\"_H$\", names(H_upregulated_genes_matrix))]\n",
    "H_upregulated_genes_matrix_con = subset(H_upregulated_genes_matrix, select = c(\"Female_V_H\", \"Female_C6_H\"))\n",
    "H_upregulated_genes_matrix_het = subset(H_upregulated_genes_matrix, select = c(\"Female_V_H\", \"Female_H6_H\"))"
   ]
  },
  {
   "cell_type": "markdown",
   "metadata": {},
   "source": [
    "We can perform clustering of these genes by expression profile across the conspecific samples. We'll first need to estimate an appropriate number of clusters."
   ]
  },
  {
   "cell_type": "code",
   "execution_count": null,
   "metadata": {},
   "outputs": [],
   "source": [
    "options(repr.plot.width = 4, repr.plot.height = 3)\n",
    "findK(H_upregulated_genes_matrix)"
   ]
  },
  {
   "cell_type": "markdown",
   "metadata": {},
   "source": [
    "Cruedly, it looks like 3 clusters will aproopriately represent groupings of this gene set. We'll re-examine this after performing the analysis. First we'll run the cluster analysis:"
   ]
  },
  {
   "cell_type": "code",
   "execution_count": null,
   "metadata": {
    "collapsed": true
   },
   "outputs": [],
   "source": [
    "data = H_upregulated_genes_matrix\n",
    "data = log2(data+1)\n",
    "data = as.matrix(data) # convert to matrix\n",
    "data = t(scale(t(data), scale=F))\n",
    "sample_cor = cor(data, method='pearson', use='pairwise.complete.obs')\n",
    "sample_dist = as.dist(1-sample_cor)\n",
    "hc_samples = hclust(sample_dist, method='complete')\n",
    "gene_cor = NULL\n",
    "if (is.null(gene_cor)) { gene_cor = cor(t(data), method='pearson', use='pairwise.complete.obs') }\n",
    "gene_dist = as.dist(1-gene_cor)\n",
    "hc_genes = hclust(gene_dist, method='complete')\n",
    "gene_partition_assignments <- cutree(as.hclust(hc_genes), k=5)\n",
    "\n",
    "## can also be done by tree height:\n",
    "#gene_partition_assignments <- cutree(as.hclust(hc_genes), h=50/100*max(hc_genes$height))"
   ]
  },
  {
   "cell_type": "markdown",
   "metadata": {},
   "source": [
    "Here we'll just generate some color parameters for each cluster:"
   ]
  },
  {
   "cell_type": "code",
   "execution_count": null,
   "metadata": {
    "collapsed": true
   },
   "outputs": [],
   "source": [
    "partition_colors = rainbow(length(unique(gene_partition_assignments)), start=0.4, end=0.95)\n",
    "gene_colors_dframe = data.frame(clusters=gene_partition_assignments, colors=partition_colors[gene_partition_assignments])\n",
    "gene_colors = as.matrix(partition_colors[gene_partition_assignments])"
   ]
  },
  {
   "cell_type": "markdown",
   "metadata": {},
   "source": [
    "Now we can plot a heatmap of these genes with their cluster identification:"
   ]
  },
  {
   "cell_type": "code",
   "execution_count": null,
   "metadata": {},
   "outputs": [],
   "source": [
    "heatmap_data = data\n",
    "heatmap_data[heatmap_data < -2] = -2\n",
    "heatmap_data[heatmap_data > 2] = 2\n",
    "options(repr.plot.width = 6, repr.plot.height = 7)\n",
    "heatmap.3(heatmap_data, dendrogram = \"row\", Rowv=as.dendrogram(hc_genes), Colv = c(\"V_RT\", \"C3_RT\", \"C6_RT\", \"C12_RT\"),col=myheatcol, RowSideColors=gene_colors, scale=\"none\", density.info=\"histogram\", trace=\"none\", key=TRUE, cexCol=1, margins=c(10,10), cexRow=0.5, labRow = F)"
   ]
  },
  {
   "cell_type": "markdown",
   "metadata": {},
   "source": [
    "The cluster grouping (coloured bars on the left) seem to correspond well to overall grouping of gene expression profiles."
   ]
  },
  {
   "cell_type": "markdown",
   "metadata": {},
   "source": [
    "We'll loop over the cluster assignments and import them into the cluster list object:"
   ]
  },
  {
   "cell_type": "code",
   "execution_count": null,
   "metadata": {
    "collapsed": true
   },
   "outputs": [],
   "source": [
    "cluster_list = list()\n",
    "max_cluster_count = max(gene_partition_assignments)\n",
    "for (i in 1:max_cluster_count) {\n",
    "    partition_i = (gene_partition_assignments == i)\n",
    "    partition_data = data[partition_i,,drop=F]\n",
    "    cluster_list[[i]] = as.data.frame(partition_data)\n",
    "    cluster_list[[i]]$Gene_ID = rownames(cluster_list[[i]])\n",
    "    cluster_list[[i]]$cluster = paste(\"cluster_\", i, sep = \"\")\n",
    "}\n",
    "\n",
    "#cluster_list\n",
    "cluster_H_data = rbindlist(cluster_list)"
   ]
  },
  {
   "cell_type": "markdown",
   "metadata": {},
   "source": [
    "Now we'll generate a data frame with expression data for these clusters to make line plots of each cluster:"
   ]
  },
  {
   "cell_type": "code",
   "execution_count": null,
   "metadata": {
    "collapsed": true
   },
   "outputs": [],
   "source": [
    "conSub = subset(cluster_H_data, select = c(\"Gene_ID\", \"cluster\", \"Female_V_H\", \"Female_C6_H\"))\n",
    "hetSub = subset(cluster_H_data, select = c(\"Gene_ID\", \"cluster\", \"Female_V_H\", \"Female_H6_H\"))\n",
    "\n",
    "df.conSub = melt(conSub, id.vars = c(\"Gene_ID\", \"cluster\"))\n",
    "df.conSub$condition <- ifelse(grepl(\"C\", df.conSub$variable, ignore.case = F), \"conspecific\", ifelse(grepl(\"H\", df.conSub$variable, ignore.case = F), \"heterospecific\", \"virgin\"))\n",
    "df.conSub$time <- ifelse(grepl(\"6\", df.conSub$variable), \"6hpm\", \"virgin\")\n",
    "df.conSub$time = factor(df.conSub$time, levels = c(\"virgin\", \"6hpm\"))\n",
    "df.conSub$crossType = \"conspecific\"\n",
    "\n",
    "df.hetSub = melt(hetSub, id.vars = c(\"Gene_ID\", \"cluster\"))\n",
    "df.hetSub$condition <- ifelse(grepl(\"C\", df.hetSub$variable, ignore.case = F), \"conspecific\", ifelse(grepl(\"H\", df.hetSub$variable, ignore.case = F), \"heterospecific\", \"virgin\"))\n",
    "df.hetSub$time <- ifelse(grepl(\"6\", df.hetSub$variable), \"6hpm\", \"virgin\")\n",
    "df.hetSub$time = factor(df.hetSub$time, levels = c(\"virgin\", \"6hpm\"))\n",
    "df.hetSub$crossType = \"heterospecific\"\n",
    "\n",
    "newSub = rbind(df.conSub, df.hetSub)"
   ]
  },
  {
   "cell_type": "markdown",
   "metadata": {},
   "source": [
    "We can plot it like so:"
   ]
  },
  {
   "cell_type": "code",
   "execution_count": null,
   "metadata": {},
   "outputs": [],
   "source": [
    "newSub$cluster = factor(newSub$cluster, levels = c(unique(newSub$cluster)))\n",
    "options(repr.plot.width = 7, repr.plot.height = 2)\n",
    "# pdf(\"cluster_groupings.pdf\", width = 5, height = 3)\n",
    "ggplot() + \n",
    "    geom_line(data = subset(newSub, crossType == \"conspecific\"),\n",
    "              aes(time, value, group = Gene_ID), \n",
    "              colour = \"#ffb200\",\n",
    "              alpha = 0.4,\n",
    "              size = 0.5) +\n",
    "    geom_line(data = subset(newSub, crossType == \"heterospecific\"), \n",
    "              aes(time, value, group = Gene_ID), \n",
    "              colour = \"#00b5d4\",\n",
    "              alpha = 0.5,\n",
    "              size = 0.5) +\n",
    "    theme_minimal() + \n",
    "    facet_wrap('cluster',scales='free_y', nrow = 1) +\n",
    "    scale_color_hue(l=50,h.start=200) + \n",
    "    theme(axis.text.x=element_text(angle=-45,hjust=0)) +\n",
    "    stat_summary(data = newSub, \n",
    "                 aes(x=time,y=value,group=crossType),\n",
    "                 fun.data=\"mean_cl_boot\",\n",
    "                 color=\"black\",\n",
    "                 fill=\"black\",\n",
    "                 alpha=0.2,\n",
    "                 size=0.3,\n",
    "                 geom=\"smooth\") +\n",
    "    ylab(\"centered log2(TPM+1)\")\n",
    "# dev.off()"
   ]
  },
  {
   "cell_type": "markdown",
   "metadata": {},
   "source": [
    "We can output the signficant GO results for those clusters here. First we'll make a factor level object:"
   ]
  },
  {
   "cell_type": "code",
   "execution_count": null,
   "metadata": {
    "collapsed": true
   },
   "outputs": [],
   "source": [
    "cluster.factor.labeling = as.data.frame(unique(subset(newSub, select = c(\"Gene_ID\", \"cluster\"))))\n",
    "row.names(cluster.factor.labeling) <- cluster.factor.labeling$Gene_ID\n",
    "cluster.factor.labeling = subset(cluster.factor.labeling, select = \"cluster\")\n",
    "cluster.factor_list = unique(cluster.factor.labeling[,1])"
   ]
  },
  {
   "cell_type": "code",
   "execution_count": null,
   "metadata": {},
   "outputs": [],
   "source": [
    "GO_enriched_list = list()\n",
    "\n",
    "invisible(suppressWarnings(suppressMessages(\n",
    "for (feature_cat in cluster.factor_list) {\n",
    "    message('Processing category: ', feature_cat)\n",
    "    cat_genes_vec = as.integer(features_with_GO %in% rownames(cluster.factor.labeling)[cluster.factor.labeling$cluster == feature_cat])\n",
    "    pwf$DEgenes = cat_genes_vec\n",
    "    res = goseq(pwf,gene2cat=GO_info_listed)\n",
    "    ## over-represented categories:\n",
    "    pvals = res$over_represented_pvalue\n",
    "    pvals[pvals > 1 -1e-10] = 1-1e-10\n",
    "    q = qvalue(pvals)\n",
    "    res$over_represented_FDR = q$qvalues\n",
    "    go_enrich_factor = feature_cat\n",
    "    enrich_result_table = res[res$over_represented_pvalue<=0.05,]\n",
    "    descr = unlist(lapply(enrich_result_table$category, get_GO_term_descr))\n",
    "    enrich_result_table$go_term = descr\n",
    "    enrich_result_table$factor = go_enrich_factor\n",
    "    GO_enriched_list[[feature_cat]] = enrich_result_table\n",
    "}\n",
    ")))\n",
    "GO_enrichment_data = rbindlist(GO_enriched_list)\n",
    "write.table(GO_enrichment_data, \"Results/GO_analyses/GO_results-head_clusters_upregulated_genes_aBT2.txt\", quote = F, sep = \"\\t\", row.names = F)\n",
    "unique(filter(GO_enrichment_data, over_represented_FDR < 0.05)$factor)"
   ]
  },
  {
   "cell_type": "code",
   "execution_count": null,
   "metadata": {},
   "outputs": [],
   "source": [
    "filter(GO_enrichment_data, over_represented_FDR < 0.05)"
   ]
  },
  {
   "cell_type": "code",
   "execution_count": null,
   "metadata": {
    "scrolled": false
   },
   "outputs": [],
   "source": [
    "myList = as.character(extract_GO_genes(go_term = \"GO:0009605\", gene_set = rownames(subset(cluster.factor.labeling, cluster == \"cluster_2\"))))\n",
    "lapply(myList, geneBoxPlot, object = tpmTable_bt2.fbgn)"
   ]
  },
  {
   "cell_type": "markdown",
   "metadata": {},
   "source": [
    "Let's look at GO enrichment across all upregulated genes:"
   ]
  },
  {
   "cell_type": "code",
   "execution_count": null,
   "metadata": {},
   "outputs": [],
   "source": [
    "cat_genes_vec = as.integer(features_with_GO %in% newSub$Gene_ID)\n",
    "pwf$DEgenes = cat_genes_vec\n",
    "res = goseq(pwf,gene2cat=GO_info_listed)\n",
    "## over-represented categories:\n",
    "pvals = res$over_represented_pvalue\n",
    "pvals[pvals > 1 -1e-10] = 1-1e-10\n",
    "q = qvalue(pvals)\n",
    "res$over_represented_FDR = q$qvalues\n",
    "enrich_result_table = res[res$over_represented_pvalue<=0.05,]\n",
    "descr = unlist(lapply(enrich_result_table$category, get_GO_term_descr))\n",
    "enrich_result_table$go_term = descr\n",
    "write.table(enrich_result_table, \"Results/GO_analyses/GO_results-head_upregulated_genes_aBT2.txt\", quote = F, sep = \"\\t\", row.names = F)"
   ]
  },
  {
   "cell_type": "code",
   "execution_count": null,
   "metadata": {},
   "outputs": [],
   "source": [
    "filter(enrich_result_table, over_represented_FDR < 0.05)"
   ]
  },
  {
   "cell_type": "markdown",
   "metadata": {},
   "source": [
    "##### Analysis of downregulated genes in the female head:"
   ]
  },
  {
   "cell_type": "markdown",
   "metadata": {},
   "source": [
    "First we'll look at those genes that are upregulated in the RT across all three postmating timepoints. We'll first generate a list of these genes and a TPM matrix for the conspecific condition samples:"
   ]
  },
  {
   "cell_type": "code",
   "execution_count": null,
   "metadata": {},
   "outputs": [],
   "source": [
    "H_downregulated_genes = unique(c(H_het.v.vir.list_down, H_con.v.vir.list_down))\n",
    "message(paste(\"There are \", length(H_downregulated_genes), \" downregulated genes\", sep =\"\"))\n",
    "H_downregulated_genes_matrix = subset(tpmMatrix_bt2.fbgn, rownames(tpmMatrix_bt2.fbgn) %in% H_downregulated_genes)\n",
    "\n",
    "H_downregulated_genes_matrix = H_downregulated_genes_matrix[ , grepl(\"_H$\", names(H_downregulated_genes_matrix))]\n",
    "H_downregulated_genes_matrix_con = subset(H_downregulated_genes_matrix, select = c(\"Female_V_H\", \"Female_C6_H\"))\n",
    "H_downregulated_genes_matrix_het = subset(H_downregulated_genes_matrix, select = c(\"Female_V_H\", \"Female_H6_H\"))"
   ]
  },
  {
   "cell_type": "markdown",
   "metadata": {},
   "source": [
    "We can perform clustering of these genes by expression profile across the conspecific samples. We'll first need to estimate an appropriate number of clusters."
   ]
  },
  {
   "cell_type": "code",
   "execution_count": null,
   "metadata": {},
   "outputs": [],
   "source": [
    "options(repr.plot.width = 4, repr.plot.height = 3)\n",
    "findK(H_downregulated_genes_matrix)"
   ]
  },
  {
   "cell_type": "markdown",
   "metadata": {},
   "source": [
    "Cruedly, it looks like 3 clusters will aproopriately represent groupings of this gene set. We'll re-examine this after performing the analysis. First we'll run the cluster analysis:"
   ]
  },
  {
   "cell_type": "code",
   "execution_count": null,
   "metadata": {
    "collapsed": true
   },
   "outputs": [],
   "source": [
    "data = H_downregulated_genes_matrix\n",
    "data = log2(data+1)\n",
    "data = as.matrix(data) # convert to matrix\n",
    "data = t(scale(t(data), scale=F))\n",
    "sample_cor = cor(data, method='pearson', use='pairwise.complete.obs')\n",
    "sample_dist = as.dist(1-sample_cor)\n",
    "hc_samples = hclust(sample_dist, method='complete')\n",
    "gene_cor = NULL\n",
    "if (is.null(gene_cor)) { gene_cor = cor(t(data), method='pearson', use='pairwise.complete.obs') }\n",
    "gene_dist = as.dist(1-gene_cor)\n",
    "hc_genes = hclust(gene_dist, method='complete')\n",
    "gene_partition_assignments <- cutree(as.hclust(hc_genes), k=4)\n",
    "\n",
    "## can also be done by tree height:\n",
    "#gene_partition_assignments <- cutree(as.hclust(hc_genes), h=50/100*max(hc_genes$height))"
   ]
  },
  {
   "cell_type": "markdown",
   "metadata": {},
   "source": [
    "Here we'll just generate some color parameters for each cluster:"
   ]
  },
  {
   "cell_type": "code",
   "execution_count": null,
   "metadata": {
    "collapsed": true
   },
   "outputs": [],
   "source": [
    "partition_colors = rainbow(length(unique(gene_partition_assignments)), start=0.4, end=0.95)\n",
    "gene_colors_dframe = data.frame(clusters=gene_partition_assignments, colors=partition_colors[gene_partition_assignments])\n",
    "gene_colors = as.matrix(partition_colors[gene_partition_assignments])"
   ]
  },
  {
   "cell_type": "markdown",
   "metadata": {},
   "source": [
    "Now we can plot a heatmap of these genes with their cluster identification:"
   ]
  },
  {
   "cell_type": "code",
   "execution_count": null,
   "metadata": {},
   "outputs": [],
   "source": [
    "heatmap_data = data\n",
    "heatmap_data[heatmap_data < -2] = -2\n",
    "heatmap_data[heatmap_data > 2] = 2\n",
    "options(repr.plot.width = 5, repr.plot.height = 7)\n",
    "heatmap.3(heatmap_data, dendrogram = \"row\", Rowv=as.dendrogram(hc_genes), Colv = c(\"V_RT\", \"C3_RT\", \"C6_RT\", \"C12_RT\"),col=myheatcol, RowSideColors=gene_colors, scale=\"none\", density.info=\"histogram\", trace=\"none\", key=TRUE, cexCol=1, margins=c(10,10), cexRow=0.5, labRow = F)"
   ]
  },
  {
   "cell_type": "markdown",
   "metadata": {},
   "source": [
    "The cluster grouping (coloured bars on the left) seem to correspond well to overall grouping of gene expression profiles."
   ]
  },
  {
   "cell_type": "markdown",
   "metadata": {},
   "source": [
    "We'll loop over the cluster assignments and import them into the cluster list object:"
   ]
  },
  {
   "cell_type": "code",
   "execution_count": null,
   "metadata": {
    "collapsed": true
   },
   "outputs": [],
   "source": [
    "cluster_list = list()\n",
    "max_cluster_count = max(gene_partition_assignments)\n",
    "for (i in 1:max_cluster_count) {\n",
    "    partition_i = (gene_partition_assignments == i)\n",
    "    partition_data = data[partition_i,,drop=F]\n",
    "    cluster_list[[i]] = as.data.frame(partition_data)\n",
    "    cluster_list[[i]]$Gene_ID = rownames(cluster_list[[i]])\n",
    "    cluster_list[[i]]$cluster = paste(\"cluster_\", i, sep = \"\")\n",
    "}\n",
    "\n",
    "#cluster_list\n",
    "cluster_H_data = rbindlist(cluster_list)"
   ]
  },
  {
   "cell_type": "markdown",
   "metadata": {},
   "source": [
    "Now we'll generate a data frame with expression data for these clusters to make line plots of each cluster:"
   ]
  },
  {
   "cell_type": "code",
   "execution_count": null,
   "metadata": {
    "collapsed": true
   },
   "outputs": [],
   "source": [
    "conSub = subset(cluster_H_data, select = c(\"Gene_ID\", \"cluster\", \"Female_V_H\", \"Female_C6_H\"))\n",
    "hetSub = subset(cluster_H_data, select = c(\"Gene_ID\", \"cluster\", \"Female_V_H\", \"Female_H6_H\"))\n",
    "\n",
    "df.conSub = melt(conSub, id.vars = c(\"Gene_ID\", \"cluster\"))\n",
    "df.conSub$condition <- ifelse(grepl(\"C\", df.conSub$variable, ignore.case = F), \"conspecific\", ifelse(grepl(\"H\", df.conSub$variable, ignore.case = F), \"heterospecific\", \"virgin\"))\n",
    "df.conSub$time <- ifelse(grepl(\"6\", df.conSub$variable), \"6hpm\", \"virgin\")\n",
    "df.conSub$time = factor(df.conSub$time, levels = c(\"virgin\", \"6hpm\"))\n",
    "df.conSub$crossType = \"conspecific\"\n",
    "\n",
    "df.hetSub = melt(hetSub, id.vars = c(\"Gene_ID\", \"cluster\"))\n",
    "df.hetSub$condition <- ifelse(grepl(\"C\", df.hetSub$variable, ignore.case = F), \"conspecific\", ifelse(grepl(\"H\", df.hetSub$variable, ignore.case = F), \"heterospecific\", \"virgin\"))\n",
    "df.hetSub$time <- ifelse(grepl(\"6\", df.hetSub$variable), \"6hpm\", \"virgin\")\n",
    "df.hetSub$time = factor(df.hetSub$time, levels = c(\"virgin\", \"6hpm\"))\n",
    "df.hetSub$crossType = \"heterospecific\"\n",
    "\n",
    "newSub = rbind(df.conSub, df.hetSub)"
   ]
  },
  {
   "cell_type": "markdown",
   "metadata": {},
   "source": [
    "We can plot it like so:"
   ]
  },
  {
   "cell_type": "code",
   "execution_count": null,
   "metadata": {},
   "outputs": [],
   "source": [
    "newSub$cluster = factor(newSub$cluster, levels = c(\"cluster_1\", \n",
    "                                                   \"cluster_2\", \n",
    "                                                   \"cluster_3\",\n",
    "                                                  \"cluster_4\"))\n",
    "options(repr.plot.width = 6, repr.plot.height = 3)\n",
    "# pdf(\"cluster_groupings.pdf\", width = 5, height = 3)\n",
    "ggplot() + \n",
    "    geom_line(data = subset(newSub, crossType == \"conspecific\"),\n",
    "              aes(time, value, group = Gene_ID), \n",
    "              colour = \"#ffb200\",\n",
    "              alpha = 0.4,\n",
    "              size = 0.5) +\n",
    "    geom_line(data = subset(newSub, crossType == \"heterospecific\"), \n",
    "              aes(time, value, group = Gene_ID), \n",
    "              colour = \"#00b5d4\",\n",
    "              alpha = 0.5,\n",
    "              size = 0.5) +\n",
    "    theme_minimal() + \n",
    "    facet_wrap('cluster',scales='free_y', nrow = 2) +\n",
    "    scale_color_hue(l=50,h.start=200) + \n",
    "    theme(axis.text.x=element_text(angle=-45,hjust=0)) +\n",
    "    stat_summary(data = newSub, \n",
    "                 aes(x=time,y=value,group=crossType),\n",
    "                 fun.data=\"mean_cl_boot\",\n",
    "                 color=\"black\",\n",
    "                 fill=\"black\",\n",
    "                 alpha=0.2,\n",
    "                 size=0.3,\n",
    "                 geom=\"smooth\") +\n",
    "    ylab(\"centered log2(TPM+1)\")\n",
    "# dev.off()"
   ]
  },
  {
   "cell_type": "markdown",
   "metadata": {},
   "source": [
    "We can output the signficant GO results for those clusters here. First we'll make a factor level object:"
   ]
  },
  {
   "cell_type": "code",
   "execution_count": null,
   "metadata": {
    "collapsed": true
   },
   "outputs": [],
   "source": [
    "cluster.factor.labeling = as.data.frame(unique(subset(newSub, select = c(\"Gene_ID\", \"cluster\"))))\n",
    "row.names(cluster.factor.labeling) <- cluster.factor.labeling$Gene_ID\n",
    "cluster.factor.labeling = subset(cluster.factor.labeling, select = \"cluster\")\n",
    "cluster.factor_list = unique(cluster.factor.labeling[,1])"
   ]
  },
  {
   "cell_type": "code",
   "execution_count": null,
   "metadata": {},
   "outputs": [],
   "source": [
    "GO_enriched_list = list()\n",
    "\n",
    "invisible(suppressWarnings(suppressMessages(\n",
    "for (feature_cat in cluster.factor_list) {\n",
    "    message('Processing category: ', feature_cat)\n",
    "    cat_genes_vec = as.integer(features_with_GO %in% rownames(cluster.factor.labeling)[cluster.factor.labeling$cluster == feature_cat])\n",
    "    pwf$DEgenes = cat_genes_vec\n",
    "    res = goseq(pwf,gene2cat=GO_info_listed)\n",
    "    ## over-represented categories:\n",
    "    pvals = res$over_represented_pvalue\n",
    "    pvals[pvals > 1 -1e-10] = 1-1e-10\n",
    "    q = qvalue(pvals)\n",
    "    res$over_represented_FDR = q$qvalues\n",
    "    go_enrich_factor = feature_cat\n",
    "    enrich_result_table = res[res$over_represented_pvalue<=0.05,]\n",
    "    descr = unlist(lapply(enrich_result_table$category, get_GO_term_descr))\n",
    "    enrich_result_table$go_term = descr\n",
    "    enrich_result_table$factor = go_enrich_factor\n",
    "    GO_enriched_list[[feature_cat]] = enrich_result_table\n",
    "}\n",
    ")))\n",
    "GO_enrichment_data = rbindlist(GO_enriched_list)\n",
    "write.table(GO_enrichment_data, \"Results/GO_analyses/GO_results-head_clusters_downregulated_genes_aBT2.txt\", quote = F, sep = \"\\t\", row.names = F)\n",
    "unique(filter(GO_enrichment_data, over_represented_FDR < 0.05)$factor)"
   ]
  },
  {
   "cell_type": "code",
   "execution_count": null,
   "metadata": {},
   "outputs": [],
   "source": [
    "filter(GO_enrichment_data, over_represented_FDR < 0.05)"
   ]
  },
  {
   "cell_type": "code",
   "execution_count": null,
   "metadata": {
    "scrolled": false
   },
   "outputs": [],
   "source": [
    "myList = as.character(extract_GO_genes(go_term = \"GO:0046689\", gene_set = rownames(subset(cluster.factor.labeling, cluster == \"cluster_1\"))))\n",
    "lapply(myList, geneBoxPlot, object = tpmTable_bt2.fbgn)"
   ]
  },
  {
   "cell_type": "markdown",
   "metadata": {},
   "source": [
    "Let's look at GO enrichment across all upregulated genes:"
   ]
  },
  {
   "cell_type": "code",
   "execution_count": null,
   "metadata": {},
   "outputs": [],
   "source": [
    "cat_genes_vec = as.integer(features_with_GO %in% newSub$Gene_ID)\n",
    "pwf$DEgenes = cat_genes_vec\n",
    "res = goseq(pwf,gene2cat=GO_info_listed)\n",
    "## over-represented categories:\n",
    "pvals = res$over_represented_pvalue\n",
    "pvals[pvals > 1 -1e-10] = 1-1e-10\n",
    "q = qvalue(pvals)\n",
    "res$over_represented_FDR = q$qvalues\n",
    "enrich_result_table = res[res$over_represented_pvalue<=0.05,]\n",
    "descr = unlist(lapply(enrich_result_table$category, get_GO_term_descr))\n",
    "enrich_result_table$go_term = descr\n",
    "write.table(enrich_result_table, \"Results/GO_analyses/GO_results-head_downregulated_genes_aBT2.txt\", quote = F, sep = \"\\t\", row.names = F)"
   ]
  },
  {
   "cell_type": "code",
   "execution_count": null,
   "metadata": {},
   "outputs": [],
   "source": [
    "filter(enrich_result_table, over_represented_FDR < 0.05)"
   ]
  },
  {
   "cell_type": "markdown",
   "metadata": {},
   "source": [
    "## Analysis of transferred mRNAs"
   ]
  },
  {
   "cell_type": "markdown",
   "metadata": {},
   "source": [
    "We'll examine the transfer of mRNAs from heterospecific males to females by capturing genes that are upregulated at 3hpm. The majority of those are shared between the two conditions, but the heterospecific condition has more. So the union of both lists will suffice (73 in het alone, and 76 in the combined)."
   ]
  },
  {
   "cell_type": "markdown",
   "metadata": {},
   "source": [
    "First we'll output the genes the are upregulated at 3hpm in both conspecific and heterospecific conditions. "
   ]
  },
  {
   "cell_type": "code",
   "execution_count": null,
   "metadata": {
    "collapsed": true
   },
   "outputs": [],
   "source": [
    "upAT3hpm.het.matrix = subset(tpmMatrix_bt2.fbgn, rownames(tpmMatrix_bt2.fbgn) %in% union(DE.genes_H3.v.vir_up, DE.genes_C3.v.vir_up))\n",
    "transfer.candidates = subset(upAT3hpm.het.matrix, Female_H3_RT > Female_V_RT & Female_H6_RT < Female_H3_RT)\n",
    "colnames(transfer.candidates) = gsub(\"Female_\", \"\", colnames(transfer.candidates))\n",
    "transfer.candidates.male = subset(transfer.candidates, select = grepl(\"Male\", colnames(transfer.candidates)))\n",
    "transfer.candidates.RT = subset(transfer.candidates, select = grepl(\"RT\", colnames(transfer.candidates)))\n",
    "transfer.candidates = cbind(transfer.candidates.male, transfer.candidates.RT)\n",
    "transfer.candidates.list = rownames(transfer.candidates)"
   ]
  },
  {
   "cell_type": "markdown",
   "metadata": {},
   "source": [
    "Here we'll extract their transcript IDs, since that's what the mapping was against:"
   ]
  },
  {
   "cell_type": "code",
   "execution_count": null,
   "metadata": {
    "collapsed": true
   },
   "outputs": [],
   "source": [
    "transfer.candidates.list.FBtr = filter(FBgn_to_FBtr, FBgn_ID %in% transfer.candidates.list)$FBtr"
   ]
  },
  {
   "cell_type": "markdown",
   "metadata": {},
   "source": [
    "Write this out to a file:"
   ]
  },
  {
   "cell_type": "code",
   "execution_count": null,
   "metadata": {
    "collapsed": true
   },
   "outputs": [],
   "source": [
    "write.table(transfer.candidates.list.FBtr, file = \"Results/transferred.mRNA.candidates.IDs.FBtr.list\", quote = F, row.names = F, col.names = F)"
   ]
  },
  {
   "cell_type": "markdown",
   "metadata": {},
   "source": [
    "We can make a heatmap of those genes:"
   ]
  },
  {
   "cell_type": "code",
   "execution_count": null,
   "metadata": {},
   "outputs": [],
   "source": [
    "data = log2(transfer.candidates+1)\n",
    "data = t(scale(t(data), scale=F))\n",
    "data[data < -4] = -4\n",
    "data[data > 4] = 4\n",
    "\n",
    "options(repr.plot.width = 4, repr.plot.height = 5)\n",
    "# pdf(\"Figures/tissue-biased_heatmap.pdf\", width = 4, height = 5)\n",
    "pheatmap(\n",
    "  mat               = data,\n",
    "  color             = viridis(100),\n",
    "#   breaks            = mat_breaks,\n",
    "  border_color      = NA,\n",
    "#   labels_col        = c(\"carcass\", \"head\", \"ovaries\", \"rep. tract\"),\n",
    "  show_colnames     = TRUE,\n",
    "  show_rownames     = TRUE,\n",
    "#   annotation_row    = virgin.factor.labeling,\n",
    "#   annotation_colors = mat_colors,\n",
    "#   drop_levels       = TRUE,\n",
    "#   annotation_names_row = F,\n",
    "#   main              = \"Default Heatmap\",\n",
    "#   filename          = \"Figures/tissue-biased_heatmap.pdf\",\n",
    "#   width             = 4, \n",
    "#   height            = 5,\n",
    "  fontsize          = 5    \n",
    ")\n",
    "# dev.off()"
   ]
  },
  {
   "cell_type": "markdown",
   "metadata": {},
   "source": [
    "We'll use a SNP analysis comparing the conspecific and heterospecific samples to identify whether these are indeed transferred transcripts. To do this, we can use the dvir1.06 genome mapping and the _de novo_ transcriptome. For the latter, we'll output the corresponding PASA sequences from our Blast results, and also perform a DE test between 3hpm and virgin RT samples. First we'll output the homolg list:"
   ]
  },
  {
   "cell_type": "code",
   "execution_count": null,
   "metadata": {
    "collapsed": true
   },
   "outputs": [],
   "source": [
    "transfer.candidates.gene_ids = unique(filter(geneID_to_fbgn, ref_gene_id %in% transfer.candidates.list)$gene_id)\n",
    "transfer.candidates.transcript_ids = unique(filter(gene.features, gene_id %in% transfer.candidates.gene_ids)$transcript_id)\n",
    "pasa.orthologs = as.character(unique(subset(pasa_v_annotated_blast, sseqid %in% transfer.candidates.transcript_ids)$qseqid))"
   ]
  },
  {
   "cell_type": "markdown",
   "metadata": {},
   "source": [
    "For the DE test we need to do several things. First we'll create an RT-specific count matrix:"
   ]
  },
  {
   "cell_type": "code",
   "execution_count": null,
   "metadata": {
    "collapsed": true
   },
   "outputs": [],
   "source": [
    "counts_bt2.pasa.RT = subset(counts_bt2.pasa, select=grepl(\"RT\", colnames(counts_bt2.pasa)))\n",
    "colnames(counts_bt2.pasa.RT) = gsub(\"Female_\", \"\", colnames(counts_bt2.pasa.RT))\n",
    "# counts_bt2.pasa.RT = subset(counts_bt2.pasa.RT, select=RT_GoodReps)"
   ]
  },
  {
   "cell_type": "markdown",
   "metadata": {},
   "source": [
    "Now let's filter low expression genes within a minimum cpm of 5:"
   ]
  },
  {
   "cell_type": "code",
   "execution_count": null,
   "metadata": {
    "collapsed": true
   },
   "outputs": [],
   "source": [
    "cpm_bt2.pasa.RT <- cpm(counts_bt2.pasa.RT)\n",
    "thresh_RT.bt2.pasa <- cpm_bt2.pasa.RT > 5\n",
    "\n",
    "countsKeep_RT.bt2.pasa <- rowSums(thresh_RT.bt2.pasa) >= 3\n",
    "countsFiltered_bt2.pasa.RT <- counts_bt2.pasa.RT[countsKeep_RT.bt2.pasa,]\n",
    "\n",
    "## Clean-up\n",
    "rm(cpm_bt2.pasa.RT, countsKeep_RT.bt2.pasa, thresh_RT.bt2.pasa)"
   ]
  },
  {
   "cell_type": "markdown",
   "metadata": {},
   "source": [
    "Create edgeR DE object and run glmFit"
   ]
  },
  {
   "cell_type": "code",
   "execution_count": null,
   "metadata": {
    "collapsed": true
   },
   "outputs": [],
   "source": [
    "dgeList.pmv <- DGEList(counts = countsFiltered_bt2.pasa.RT, group = groups.pmv)\n",
    "dgeList.pmv <- calcNormFactors(dgeList.pmv)\n",
    "dgeList.pmv <- estimateCommonDisp(dgeList.pmv)\n",
    "dgeList.pmv <- estimateTagwiseDisp(dgeList.pmv)\n",
    "dgeList.pmv_fit <- glmFit(dgeList.pmv, design.pmv)"
   ]
  },
  {
   "cell_type": "markdown",
   "metadata": {},
   "source": [
    "Now we'll run the contrasts between the 3hpm samples and the virgin sample:"
   ]
  },
  {
   "cell_type": "code",
   "execution_count": null,
   "metadata": {
    "collapsed": true
   },
   "outputs": [],
   "source": [
    "glmT_C3.v.vir <- glmTreat(dgeList.pmv_fit, coef =3, lfc =1)\n",
    "glmT_H3.v.vir <- glmTreat(dgeList.pmv_fit, coef =6, lfc =1)"
   ]
  },
  {
   "cell_type": "markdown",
   "metadata": {},
   "source": [
    "Extract gene list of DE genes, first upregulated ones...."
   ]
  },
  {
   "cell_type": "code",
   "execution_count": null,
   "metadata": {
    "collapsed": true
   },
   "outputs": [],
   "source": [
    "DE.genes_C3.v.vir_up <- rownames(subset(topTags(glmT_C3.v.vir, n = NULL)$table, FDR < 0.05 & logFC > 1))\n",
    "DE.genes_H3.v.vir_up <- rownames(subset(topTags(glmT_H3.v.vir, n = NULL)$table, FDR < 0.05 & logFC > 1))"
   ]
  },
  {
   "cell_type": "markdown",
   "metadata": {},
   "source": [
    "We'll capture the union of those two gene lists:"
   ]
  },
  {
   "cell_type": "code",
   "execution_count": null,
   "metadata": {
    "collapsed": true
   },
   "outputs": [],
   "source": [
    "transfer.candidates.list.pasa = union(DE.genes_C3.v.vir_up, DE.genes_H3.v.vir_up)"
   ]
  },
  {
   "cell_type": "markdown",
   "metadata": {},
   "source": [
    "We'll look at the overlap between the homology-based list and the DE-based list. First we'll get the PASA gene names:"
   ]
  },
  {
   "cell_type": "code",
   "execution_count": null,
   "metadata": {
    "collapsed": true
   },
   "outputs": [],
   "source": [
    "transfer.candidates.list.pasa.transcripts = unique(filter(pasa_trans_map, V1 %in% transfer.candidates.list.pasa)$V2)"
   ]
  },
  {
   "cell_type": "code",
   "execution_count": null,
   "metadata": {},
   "outputs": [],
   "source": [
    "transCand.pasa_candidates <- list(DE = transfer.candidates.list.pasa.transcripts, homologs = pasa.orthologs)\n",
    "\n",
    "transCand.pasa_Vdiag<-venn.diagram(transCand.pasa_candidates, NULL, fill=c(\"#d1004b\", \"#01aafb\"), alpha=c(0.75,0.75), cex = 2, cat.fontface= 6, cat.cex = 1, resolution = 1000)\n",
    "\n",
    "transCand.pasa_combs <- unlist(lapply(1:length(transCand.pasa_candidates), function(j) combn(names(transCand.pasa_candidates), j, simplify = FALSE)), recursive = FALSE)\n",
    "names(transCand.pasa_combs) <- sapply(transCand.pasa_combs, function(i) paste0(i, collapse = \",\"))\n",
    "    \n",
    "transCand.pasa_elements <- lapply(transCand.pasa_combs, function(i) Setdiff(transCand.pasa_candidates[i], transCand.pasa_candidates[setdiff(names(transCand.pasa_candidates), i)]))\n",
    "    \n",
    "options(repr.plot.width = 3, repr.plot.height = 2)\n",
    "grid.arrange(gTree(children=transCand.pasa_Vdiag), top = \"transfer candidates\")"
   ]
  },
  {
   "cell_type": "markdown",
   "metadata": {},
   "source": [
    "Write the list to a file:"
   ]
  },
  {
   "cell_type": "code",
   "execution_count": null,
   "metadata": {
    "collapsed": true
   },
   "outputs": [],
   "source": [
    "write.table(unlist(transCand.pasa_elements), file = \"Results/transferred.mRNA.candidates.IDs.pasa.list\", quote = F, row.names = F, col.names = F)"
   ]
  },
  {
   "cell_type": "markdown",
   "metadata": {},
   "source": [
    "Output individual gene plots for all transferred candidates:"
   ]
  },
  {
   "cell_type": "code",
   "execution_count": null,
   "metadata": {
    "collapsed": true
   },
   "outputs": [],
   "source": [
    "# candidate_transferred_genome = suppressMessages(lapply(transfer.candidates.list, \n",
    "#                                                        geneBoxPlot, \n",
    "#                                                        object = filter(tpmTable_bt2.fbgn, Tissue == \"repTract\" | Sex == \"male\")))\n",
    "# ggsave(\"Trinity/pasa/transferred_transcripts/plots/candidate_transferred_genome.pdf\", marrangeGrob(grobs = candidate_transferred_genome, nrow = 3, ncol =1))"
   ]
  },
  {
   "cell_type": "code",
   "execution_count": null,
   "metadata": {
    "collapsed": true
   },
   "outputs": [],
   "source": [
    "# candidate_transferred_pasa = suppressMessages(lapply(unique(filter(pasa_trans_map, V2 %in% unlist(transCand.pasa_elements))$V1), \n",
    "#                                                        geneBoxPlot, \n",
    "#                                                        object = filter(tpmTable_bt2.pasa, Tissue == \"repTract\" | Sex == \"male\")))\n",
    "# ggsave(\"Trinity/pasa/transferred_transcripts/plots/candidate_transferred_pasa.pdf\", marrangeGrob(grobs = candidate_transferred_pasa, nrow = 3, ncol =1))"
   ]
  },
  {
   "cell_type": "markdown",
   "metadata": {},
   "source": [
    "##### Analysis of VCF output:"
   ]
  },
  {
   "cell_type": "markdown",
   "metadata": {},
   "source": [
    "First load the VCF files for the genome and pasa analyses, and the SNPs inferred from the DNAseq data:"
   ]
  },
  {
   "cell_type": "code",
   "execution_count": null,
   "metadata": {
    "collapsed": true
   },
   "outputs": [],
   "source": [
    "genome.vcf = read.csv(\"Trinity/pasa/transferred_transcripts/candidate.male-transferred.mRNAs.FBtr.mrg/all_cat_merged_simplified.vcf\", header = T, sep = \"\\t\")\n",
    "pasa.vcf = read.csv(\"Trinity/pasa/transferred_transcripts/candidate.male-transferred.mRNAs.pasa.mrg/all_cat_merged_simplified.vcf\", header = T, sep = \"\\t\")\n",
    "exon.vcf = read.csv(\"Trinity/pasa/transferred_transcripts/candidate.male-transferred.mRNAs.FBtr.mrg/alignemnts/eXon.SNPs.vcf\", header = T, sep = \"\\t\")"
   ]
  },
  {
   "cell_type": "markdown",
   "metadata": {},
   "source": [
    "add SNP ID and base character to the exon SNP object:"
   ]
  },
  {
   "cell_type": "code",
   "execution_count": null,
   "metadata": {
    "collapsed": true
   },
   "outputs": [],
   "source": [
    "exon.vcf$SNP_id = paste(exon.vcf$CHROM, exon.vcf$POS, sep = \"_\")"
   ]
  },
  {
   "cell_type": "markdown",
   "metadata": {},
   "source": [
    "Now we subset the relevant columns:"
   ]
  },
  {
   "cell_type": "code",
   "execution_count": null,
   "metadata": {
    "collapsed": true
   },
   "outputs": [],
   "source": [
    "info.fields = subset(genome.vcf, select = c(\"CHROM\", \"POS\",\"REF\", \"ALT\", \"QUAL\", \"DP\"))\n",
    "genotypes = subset(genome.vcf, select = c('C3_RT.bam.GT', 'H3_RT.bam.GT'))\n",
    "colnames(genotypes) = gsub(\".bam.GT\", \"\", colnames(genotypes))\n",
    "genome.vcf.data = cbind(info.fields, genotypes)\n",
    "genome.vcf.data$SNP_id = paste(genome.vcf.data$CHROM, genome.vcf.data$POS, sep = \"_\")\n",
    "genome.vcf.data = filter(genome.vcf.data, QUAL > 20)\n",
    "# write.table(genome.vcf.data, \"Trinity/pasa/transferred_transcripts/genome.transfer_candidates_subset.vcf\", quote = F, sep = \"\\t\", row.names = F)"
   ]
  },
  {
   "cell_type": "markdown",
   "metadata": {},
   "source": [
    "Now merge the exon and genome results:"
   ]
  },
  {
   "cell_type": "code",
   "execution_count": null,
   "metadata": {
    "collapsed": true
   },
   "outputs": [],
   "source": [
    "merged.vcf = merge(genome.vcf.data, exon.vcf, by.x = \"SNP_id\", by.y = \"SNP_id\", all.x = T)"
   ]
  },
  {
   "cell_type": "markdown",
   "metadata": {},
   "source": [
    "Now output the candidate transferred mRNAs for the exon analysis:"
   ]
  },
  {
   "cell_type": "code",
   "execution_count": null,
   "metadata": {
    "collapsed": true
   },
   "outputs": [],
   "source": [
    "exon.transfer.candidates = unique(filter(merged.vcf, as.character(C3_RT) != as.character(H3_RT) & !is.na(CHROM.y) & Dnov_4 != 1)$CHROM.x)"
   ]
  },
  {
   "cell_type": "markdown",
   "metadata": {},
   "source": [
    "Also format the pasa vcf data:"
   ]
  },
  {
   "cell_type": "code",
   "execution_count": null,
   "metadata": {},
   "outputs": [],
   "source": [
    "info.fields = subset(pasa.vcf, select = c(\"CHROM\", \"POS\",\"REF\", \"ALT\", \"QUAL\", \"DP\"))\n",
    "genotypes = subset(pasa.vcf, select = c('C3_RT.bam.GT', 'H3_RT.bam.GT'))\n",
    "colnames(genotypes) = gsub(\".bam.GT\", \"\", colnames(genotypes))\n",
    "pasa.vcf.data = cbind(info.fields, genotypes)\n",
    "pasa.vcf.data$SNP_id = paste(pasa.vcf.data$CHROM, pasa.vcf.data$POS, sep = \"_\")\n",
    "pasa.vcf.data = filter(pasa.vcf.data, QUAL > 20)\n",
    "nrow(pasa.vcf.data)\n",
    "head(pasa.vcf.data)\n",
    "# write.table(pasa.vcf.data, \"Trinity/pasa/transferred_transcripts/pasa.transfer_candidates_subset.vcf\", quote = F, sep = \"\\t\", row.names = F)"
   ]
  },
  {
   "cell_type": "markdown",
   "metadata": {},
   "source": [
    "Make an object of SNPs with missing information:"
   ]
  },
  {
   "cell_type": "code",
   "execution_count": null,
   "metadata": {
    "collapsed": true
   },
   "outputs": [],
   "source": [
    "genome.bad.SNPs = filter(genome.vcf.data, C3_RT == \"./.\" | H3_RT == \"./.\")$SNP_id\n",
    "pasa.bad.SNPs = filter(pasa.vcf.data, C3_RT == \"./.\" | H3_RT == \"./.\")$SNP_id"
   ]
  },
  {
   "cell_type": "markdown",
   "metadata": {},
   "source": [
    "Now we'll subset the VCF object to only include SNPs that are different between the con- and heterospecific samples:"
   ]
  },
  {
   "cell_type": "code",
   "execution_count": null,
   "metadata": {},
   "outputs": [],
   "source": [
    "filter(genome.vcf.data, SNP_id %!in% genome.bad.SNPs & as.character(C3_RT) != as.character(H3_RT))\n",
    "genome.transfer.candidates = unique(filter(genome.vcf.data, SNP_id %!in% genome.bad.SNPs & as.character(C3_RT) != as.character(H3_RT))$CHROM)"
   ]
  },
  {
   "cell_type": "markdown",
   "metadata": {},
   "source": [
    "combine both result candidates:"
   ]
  },
  {
   "cell_type": "code",
   "execution_count": null,
   "metadata": {
    "collapsed": true
   },
   "outputs": [],
   "source": [
    "combined.transfer.candidates = union(exon.transfer.candidates, genome.transfer.candidates)"
   ]
  },
  {
   "cell_type": "markdown",
   "metadata": {},
   "source": [
    "Extract their gene names:"
   ]
  },
  {
   "cell_type": "code",
   "execution_count": null,
   "metadata": {
    "collapsed": true
   },
   "outputs": [],
   "source": [
    "combined.transfer.candidates.FBgn = filter(FBgn_to_FBtr, FBtr_ID %in% combined.transfer.candidates)$FBgn"
   ]
  },
  {
   "cell_type": "markdown",
   "metadata": {},
   "source": [
    "Make a heatmap of those genes:"
   ]
  },
  {
   "cell_type": "code",
   "execution_count": null,
   "metadata": {},
   "outputs": [],
   "source": [
    "tmp = data.frame(sample = colnames(data))\n",
    "tmp$factor = ifelse(grepl(\"Male\", tmp$sample), \"male tissue\", ifelse(grepl(\"^C\", tmp$sample), \"RT (conspecific)\", ifelse(grepl(\"^H\", tmp$sample), \"RT (heterospecific)\", \"RT (virgin)\")))\n",
    "rownames(tmp) = tmp$sample\n",
    "tmp = subset(tmp, select = \"factor\")\n",
    "\n",
    "mat_colors <- list(factor = c(\"#a8c8ff\",\"#3f5a2a\",\"#ffb200\",\"#00b5d4\"))\n",
    "names(mat_colors$factor) <- unique(tmp$factor)\n",
    "\n",
    "data = subset(transfer.candidates, rownames(transfer.candidates) %in% combined.transfer.candidates.FBgn)\n",
    "col.order <- c(\"Male_CR\",\"Male_TS\",\"Male_AG\",\"Male_EB\",\"V_RT\",\"C3_RT\",\"H3_RT\",\"C6_RT\",\"H6_RT\",\"C12_RT\",\"H12_RT\")\n",
    "data = data[,col.order]\n",
    "# colnames(data) <- c(\"carcass\",\"Male_TS\",\"Male_AG\",\"Male_EB\",\"V_RT\",\"C3_RT\",\"C6_RT\",\"C12_RT\",\"H3_RT\",\"H6_RT\",\"H12_RT\")\n",
    "data = log2(data+1)\n",
    "data = t(scale(t(data), scale=F))\n",
    "data[data < -2.5] = -2.5\n",
    "data[data > 2.5] = 2.5\n",
    "\n",
    "options(repr.plot.width = 7, repr.plot.height = 4)\n",
    "# pdf(\"Figures/transferred_mRNAs_heatmap.pdf\", width = 7, height = 4)\n",
    "pheatmap(\n",
    "  mat               = data,\n",
    "  color             = inferno(100),\n",
    "#   breaks            = mat_breaks,\n",
    "  border_color      = NA,\n",
    "  labels_col        = c(\"carcass\",\"testes\",\"acc. glands\",\"ej. bulb\",\"virgin\",\"3hpm\",\"3hpm\",\"6hpm\",\"6hpm\",\"12hpm\",\"12hpm\"),\n",
    "  show_colnames     = TRUE,\n",
    "  show_rownames     = FALSE,\n",
    "cluster_cols = F,\n",
    "  annotation_col    = tmp,\n",
    "  annotation_colors = mat_colors,\n",
    "  drop_levels       = TRUE,\n",
    "  annotation_names_col = F,\n",
    "#   main              = \"Default Heatmap\",\n",
    "#   filename          = \"Figures/transferred_mRNAs_heatmap.pdf\",\n",
    "#   width             = 7, \n",
    "#   height            = 4,\n",
    "  fontsize          = 12    \n",
    ")\n",
    "# dev.off()"
   ]
  },
  {
   "cell_type": "code",
   "execution_count": null,
   "metadata": {
    "collapsed": true
   },
   "outputs": [],
   "source": [
    "# candidate_transferred_genome = suppressMessages(lapply(as.character(combined.transfer.candidates.FBgn), \n",
    "#                                                        geneBoxPlot, \n",
    "#                                                        object = filter(tpmTable_bt2.fbgn, Tissue == \"repTract\" | Sex == \"male\")))\n",
    "# ggsave(\"Trinity/pasa/transferred_transcripts/plots/candidate_transferred_combined.pdf\", marrangeGrob(grobs = candidate_transferred_genome, nrow = 3, ncol =1))"
   ]
  }
 ],
 "metadata": {
  "kernelspec": {
   "display_name": "R",
   "language": "R",
   "name": "ir"
  },
  "language_info": {
   "codemirror_mode": "r",
   "file_extension": ".r",
   "mimetype": "text/x-r-source",
   "name": "R",
   "pygments_lexer": "r",
   "version": "3.3.2"
  }
 },
 "nbformat": 4,
 "nbformat_minor": 1
}
